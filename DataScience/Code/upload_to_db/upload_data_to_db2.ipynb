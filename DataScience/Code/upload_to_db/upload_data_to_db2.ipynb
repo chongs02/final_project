{
 "cells": [
  {
   "cell_type": "code",
   "execution_count": 1,
   "metadata": {},
   "outputs": [],
   "source": [
    "import sqlite3\n",
    "import pandas as pd\n",
    "import os"
   ]
  },
  {
   "cell_type": "code",
   "execution_count": 2,
   "metadata": {},
   "outputs": [],
   "source": [
    "data_path = r\"C:\\Users\\Jwp\\Desktop\\workspace\\Final_project\\DataScience\\Final_Data\\movie\\moviePoster\"\n",
    "score_path = r\"C:\\Users\\Jwp\\Desktop\\workspace\\Final_project\\DataScience\\Final_Data\\emotion\\emotion_score\"\n",
    "db_path= r\"C:\\Users\\Jwp\\Desktop\\workspace\\Final_project\\MI-App\"\n",
    "\n",
    "# data_path = r\"C:\\Users\\chongs\\Desktop\\git\\final_project\\DataScience\\Final_Data\\movie\\moviePoster\"\n",
    "# score_path = r\"C:\\Users\\chongs\\Desktop\\git\\final_project\\DataScience\\Final_Data\\emotion\\emotion_score\"\n",
    "# db_path= r\"C:\\Users\\chongs\\Desktop\\git\\final_project\\MI-App\""
   ]
  },
  {
   "cell_type": "code",
   "execution_count": 3,
   "metadata": {},
   "outputs": [],
   "source": [
    "movies = pd.read_csv(os.path.join(data_path, \"movie_info_all2.csv\"), encoding=\"utf-8\")\n",
    "score = pd.read_csv(os.path.join(score_path, \"movie_emtion_score.csv\"), encoding=\"utf-8\")"
   ]
  },
  {
   "cell_type": "code",
   "execution_count": 8,
   "metadata": {},
   "outputs": [
    {
     "data": {
      "text/plain": [
       "(13367, 21)"
      ]
     },
     "execution_count": 8,
     "metadata": {},
     "output_type": "execute_result"
    }
   ],
   "source": [
    "len(movies), len(score)"
   ]
  },
  {
   "cell_type": "code",
   "execution_count": 12,
   "metadata": {},
   "outputs": [
    {
     "name": "stdout",
     "output_type": "stream",
     "text": [
      "https://ssl.pstatic.net/imgmovie/mdi/mit110/0806/80632_P12_154113.jpg\n"
     ]
    }
   ],
   "source": [
    "print(movies[movies.movieNm.str.contains(\"프렌즈 위드\")].poster.iloc[0])"
   ]
  },
  {
   "cell_type": "code",
   "execution_count": 11,
   "metadata": {},
   "outputs": [],
   "source": [
    "movies = movies[movies.prdtYear.isnull() == False]"
   ]
  },
  {
   "cell_type": "code",
   "execution_count": 14,
   "metadata": {},
   "outputs": [
    {
     "name": "stderr",
     "output_type": "stream",
     "text": [
      "C:\\Users\\Jwp\\Anaconda3\\envs\\movie-inside\\lib\\site-packages\\pandas\\core\\generic.py:5208: SettingWithCopyWarning: \n",
      "A value is trying to be set on a copy of a slice from a DataFrame.\n",
      "Try using .loc[row_indexer,col_indexer] = value instead\n",
      "\n",
      "See the caveats in the documentation: http://pandas.pydata.org/pandas-docs/stable/user_guide/indexing.html#returning-a-view-versus-a-copy\n",
      "  self[name] = value\n"
     ]
    }
   ],
   "source": [
    "movies.prdtYear = movies.prdtYear.astype(int).astype(str)"
   ]
  },
  {
   "cell_type": "code",
   "execution_count": 13,
   "metadata": {},
   "outputs": [
    {
     "data": {
      "text/html": [
       "<div>\n",
       "<style scoped>\n",
       "    .dataframe tbody tr th:only-of-type {\n",
       "        vertical-align: middle;\n",
       "    }\n",
       "\n",
       "    .dataframe tbody tr th {\n",
       "        vertical-align: top;\n",
       "    }\n",
       "\n",
       "    .dataframe thead th {\n",
       "        text-align: right;\n",
       "    }\n",
       "</style>\n",
       "<table border=\"1\" class=\"dataframe\">\n",
       "  <thead>\n",
       "    <tr style=\"text-align: right;\">\n",
       "      <th></th>\n",
       "      <th>movieCd</th>\n",
       "      <th>movieNm</th>\n",
       "      <th>movieNmEn</th>\n",
       "      <th>prdtYear</th>\n",
       "      <th>openDt</th>\n",
       "      <th>prdtStatNm</th>\n",
       "      <th>repGenre</th>\n",
       "      <th>genre</th>\n",
       "      <th>repNation</th>\n",
       "      <th>nations</th>\n",
       "      <th>...</th>\n",
       "      <th>actors_en</th>\n",
       "      <th>cast</th>\n",
       "      <th>cast_en</th>\n",
       "      <th>companyCd</th>\n",
       "      <th>companyNm</th>\n",
       "      <th>companyNmEn</th>\n",
       "      <th>companyPartNm</th>\n",
       "      <th>watchGradeNm</th>\n",
       "      <th>poster</th>\n",
       "      <th>userRating</th>\n",
       "    </tr>\n",
       "  </thead>\n",
       "  <tbody>\n",
       "    <tr>\n",
       "      <th>13365</th>\n",
       "      <td>19860081</td>\n",
       "      <td>J에게</td>\n",
       "      <td>To J</td>\n",
       "      <td>1985.0</td>\n",
       "      <td>19851213</td>\n",
       "      <td>개봉</td>\n",
       "      <td>드라마</td>\n",
       "      <td>드라마,멜로/로맨스</td>\n",
       "      <td>한국</td>\n",
       "      <td>한국</td>\n",
       "      <td>...</td>\n",
       "      <td>['KIM Bul-rai', 'NAMKOONG Won', 'JUNG Jin', ''...</td>\n",
       "      <td>['', '', '', '', '다흰']</td>\n",
       "      <td>['', '', '', '', '']</td>\n",
       "      <td>['20060167']</td>\n",
       "      <td>['남아진흥(주)']</td>\n",
       "      <td>['']</td>\n",
       "      <td>['제작사']</td>\n",
       "      <td>국민학생관람불가</td>\n",
       "      <td>https://ssl.pstatic.net/imgmovie/mdi/mit110/02...</td>\n",
       "      <td>0.0</td>\n",
       "    </tr>\n",
       "    <tr>\n",
       "      <th>13366</th>\n",
       "      <td>19910228</td>\n",
       "      <td>LA이야기</td>\n",
       "      <td>La Story</td>\n",
       "      <td>1991.0</td>\n",
       "      <td>19910608</td>\n",
       "      <td>개봉</td>\n",
       "      <td>코미디</td>\n",
       "      <td>코미디</td>\n",
       "      <td>미국</td>\n",
       "      <td>미국</td>\n",
       "      <td>...</td>\n",
       "      <td>['Steve Martin', 'Victoria Tennant']</td>\n",
       "      <td>['', '']</td>\n",
       "      <td>['', '']</td>\n",
       "      <td>['20100963']</td>\n",
       "      <td>['세경영화㈜']</td>\n",
       "      <td>['']</td>\n",
       "      <td>['수입사']</td>\n",
       "      <td>고등학생이상관람가</td>\n",
       "      <td>https://ssl.pstatic.net/imgmovie/mdi/mit110/01...</td>\n",
       "      <td>8.0</td>\n",
       "    </tr>\n",
       "  </tbody>\n",
       "</table>\n",
       "<p>2 rows × 24 columns</p>\n",
       "</div>"
      ],
      "text/plain": [
       "        movieCd movieNm movieNmEn  prdtYear    openDt prdtStatNm repGenre  \\\n",
       "13365  19860081     J에게      To J    1985.0  19851213         개봉      드라마   \n",
       "13366  19910228   LA이야기  La Story    1991.0  19910608         개봉      코미디   \n",
       "\n",
       "            genre repNation nations  ...  \\\n",
       "13365  드라마,멜로/로맨스        한국      한국  ...   \n",
       "13366         코미디        미국      미국  ...   \n",
       "\n",
       "                                               actors_en  \\\n",
       "13365  ['KIM Bul-rai', 'NAMKOONG Won', 'JUNG Jin', ''...   \n",
       "13366               ['Steve Martin', 'Victoria Tennant']   \n",
       "\n",
       "                         cast               cast_en     companyCd  \\\n",
       "13365  ['', '', '', '', '다흰']  ['', '', '', '', '']  ['20060167']   \n",
       "13366                ['', '']              ['', '']  ['20100963']   \n",
       "\n",
       "         companyNm companyNmEn companyPartNm watchGradeNm  \\\n",
       "13365  ['남아진흥(주)']        ['']       ['제작사']     국민학생관람불가   \n",
       "13366    ['세경영화㈜']        ['']       ['수입사']    고등학생이상관람가   \n",
       "\n",
       "                                                  poster userRating  \n",
       "13365  https://ssl.pstatic.net/imgmovie/mdi/mit110/02...        0.0  \n",
       "13366  https://ssl.pstatic.net/imgmovie/mdi/mit110/01...        8.0  \n",
       "\n",
       "[2 rows x 24 columns]"
      ]
     },
     "execution_count": 13,
     "metadata": {},
     "output_type": "execute_result"
    }
   ],
   "source": [
    "movies.tail(2)"
   ]
  },
  {
   "cell_type": "code",
   "execution_count": 14,
   "metadata": {},
   "outputs": [
    {
     "data": {
      "text/html": [
       "<div>\n",
       "<style scoped>\n",
       "    .dataframe tbody tr th:only-of-type {\n",
       "        vertical-align: middle;\n",
       "    }\n",
       "\n",
       "    .dataframe tbody tr th {\n",
       "        vertical-align: top;\n",
       "    }\n",
       "\n",
       "    .dataframe thead th {\n",
       "        text-align: right;\n",
       "    }\n",
       "</style>\n",
       "<table border=\"1\" class=\"dataframe\">\n",
       "  <thead>\n",
       "    <tr style=\"text-align: right;\">\n",
       "      <th></th>\n",
       "      <th>movieCd</th>\n",
       "      <th>movieNm</th>\n",
       "      <th>impression</th>\n",
       "      <th>fear</th>\n",
       "      <th>anger</th>\n",
       "      <th>sadness</th>\n",
       "      <th>fun</th>\n",
       "      <th>boredom</th>\n",
       "      <th>positive</th>\n",
       "      <th>negative</th>\n",
       "    </tr>\n",
       "  </thead>\n",
       "  <tbody>\n",
       "    <tr>\n",
       "      <th>0</th>\n",
       "      <td>19980074</td>\n",
       "      <td>타이타닉</td>\n",
       "      <td>53</td>\n",
       "      <td>1</td>\n",
       "      <td>10</td>\n",
       "      <td>21</td>\n",
       "      <td>10</td>\n",
       "      <td>3</td>\n",
       "      <td>90</td>\n",
       "      <td>9</td>\n",
       "    </tr>\n",
       "    <tr>\n",
       "      <th>1</th>\n",
       "      <td>20030371</td>\n",
       "      <td>태극기 휘날리며</td>\n",
       "      <td>42</td>\n",
       "      <td>2</td>\n",
       "      <td>10</td>\n",
       "      <td>30</td>\n",
       "      <td>9</td>\n",
       "      <td>4</td>\n",
       "      <td>86</td>\n",
       "      <td>13</td>\n",
       "    </tr>\n",
       "    <tr>\n",
       "      <th>2</th>\n",
       "      <td>20040734</td>\n",
       "      <td>노트북</td>\n",
       "      <td>66</td>\n",
       "      <td>0</td>\n",
       "      <td>4</td>\n",
       "      <td>14</td>\n",
       "      <td>11</td>\n",
       "      <td>3</td>\n",
       "      <td>91</td>\n",
       "      <td>8</td>\n",
       "    </tr>\n",
       "    <tr>\n",
       "      <th>3</th>\n",
       "      <td>20060151</td>\n",
       "      <td>괴물</td>\n",
       "      <td>12</td>\n",
       "      <td>10</td>\n",
       "      <td>9</td>\n",
       "      <td>19</td>\n",
       "      <td>39</td>\n",
       "      <td>8</td>\n",
       "      <td>78</td>\n",
       "      <td>21</td>\n",
       "    </tr>\n",
       "    <tr>\n",
       "      <th>4</th>\n",
       "      <td>20070061</td>\n",
       "      <td>트랜스포머</td>\n",
       "      <td>9</td>\n",
       "      <td>4</td>\n",
       "      <td>11</td>\n",
       "      <td>17</td>\n",
       "      <td>45</td>\n",
       "      <td>11</td>\n",
       "      <td>79</td>\n",
       "      <td>20</td>\n",
       "    </tr>\n",
       "    <tr>\n",
       "      <th>5</th>\n",
       "      <td>20090074</td>\n",
       "      <td>해운대</td>\n",
       "      <td>28</td>\n",
       "      <td>2</td>\n",
       "      <td>7</td>\n",
       "      <td>19</td>\n",
       "      <td>31</td>\n",
       "      <td>10</td>\n",
       "      <td>79</td>\n",
       "      <td>20</td>\n",
       "    </tr>\n",
       "    <tr>\n",
       "      <th>6</th>\n",
       "      <td>20090834</td>\n",
       "      <td>아바타</td>\n",
       "      <td>14</td>\n",
       "      <td>2</td>\n",
       "      <td>10</td>\n",
       "      <td>17</td>\n",
       "      <td>40</td>\n",
       "      <td>13</td>\n",
       "      <td>77</td>\n",
       "      <td>22</td>\n",
       "    </tr>\n",
       "    <tr>\n",
       "      <th>7</th>\n",
       "      <td>20112821</td>\n",
       "      <td>프렌즈 위드 베네핏</td>\n",
       "      <td>10</td>\n",
       "      <td>0</td>\n",
       "      <td>6</td>\n",
       "      <td>5</td>\n",
       "      <td>69</td>\n",
       "      <td>7</td>\n",
       "      <td>87</td>\n",
       "      <td>12</td>\n",
       "    </tr>\n",
       "    <tr>\n",
       "      <th>8</th>\n",
       "      <td>20124079</td>\n",
       "      <td>광해, 왕이 된 남자</td>\n",
       "      <td>28</td>\n",
       "      <td>2</td>\n",
       "      <td>6</td>\n",
       "      <td>17</td>\n",
       "      <td>39</td>\n",
       "      <td>6</td>\n",
       "      <td>86</td>\n",
       "      <td>13</td>\n",
       "    </tr>\n",
       "    <tr>\n",
       "      <th>9</th>\n",
       "      <td>20127593</td>\n",
       "      <td>7번방의 선물</td>\n",
       "      <td>41</td>\n",
       "      <td>0</td>\n",
       "      <td>5</td>\n",
       "      <td>29</td>\n",
       "      <td>19</td>\n",
       "      <td>3</td>\n",
       "      <td>90</td>\n",
       "      <td>9</td>\n",
       "    </tr>\n",
       "    <tr>\n",
       "      <th>10</th>\n",
       "      <td>20129370</td>\n",
       "      <td>명량</td>\n",
       "      <td>23</td>\n",
       "      <td>4</td>\n",
       "      <td>9</td>\n",
       "      <td>18</td>\n",
       "      <td>33</td>\n",
       "      <td>10</td>\n",
       "      <td>80</td>\n",
       "      <td>19</td>\n",
       "    </tr>\n",
       "    <tr>\n",
       "      <th>11</th>\n",
       "      <td>20134803</td>\n",
       "      <td>변호인</td>\n",
       "      <td>22</td>\n",
       "      <td>2</td>\n",
       "      <td>16</td>\n",
       "      <td>41</td>\n",
       "      <td>12</td>\n",
       "      <td>5</td>\n",
       "      <td>80</td>\n",
       "      <td>19</td>\n",
       "    </tr>\n",
       "    <tr>\n",
       "      <th>12</th>\n",
       "      <td>20135428</td>\n",
       "      <td>어바웃 타임</td>\n",
       "      <td>51</td>\n",
       "      <td>0</td>\n",
       "      <td>7</td>\n",
       "      <td>16</td>\n",
       "      <td>20</td>\n",
       "      <td>4</td>\n",
       "      <td>86</td>\n",
       "      <td>13</td>\n",
       "    </tr>\n",
       "    <tr>\n",
       "      <th>13</th>\n",
       "      <td>20136803</td>\n",
       "      <td>겨울왕국</td>\n",
       "      <td>22</td>\n",
       "      <td>1</td>\n",
       "      <td>5</td>\n",
       "      <td>11</td>\n",
       "      <td>55</td>\n",
       "      <td>4</td>\n",
       "      <td>89</td>\n",
       "      <td>10</td>\n",
       "    </tr>\n",
       "    <tr>\n",
       "      <th>14</th>\n",
       "      <td>20149120</td>\n",
       "      <td>인터스텔라</td>\n",
       "      <td>19</td>\n",
       "      <td>3</td>\n",
       "      <td>13</td>\n",
       "      <td>17</td>\n",
       "      <td>33</td>\n",
       "      <td>12</td>\n",
       "      <td>77</td>\n",
       "      <td>22</td>\n",
       "    </tr>\n",
       "    <tr>\n",
       "      <th>15</th>\n",
       "      <td>20156564</td>\n",
       "      <td>부산행</td>\n",
       "      <td>11</td>\n",
       "      <td>14</td>\n",
       "      <td>7</td>\n",
       "      <td>13</td>\n",
       "      <td>44</td>\n",
       "      <td>9</td>\n",
       "      <td>81</td>\n",
       "      <td>18</td>\n",
       "    </tr>\n",
       "    <tr>\n",
       "      <th>16</th>\n",
       "      <td>20167904</td>\n",
       "      <td>라라랜드</td>\n",
       "      <td>36</td>\n",
       "      <td>0</td>\n",
       "      <td>7</td>\n",
       "      <td>17</td>\n",
       "      <td>29</td>\n",
       "      <td>9</td>\n",
       "      <td>82</td>\n",
       "      <td>17</td>\n",
       "    </tr>\n",
       "    <tr>\n",
       "      <th>17</th>\n",
       "      <td>20183782</td>\n",
       "      <td>기생충</td>\n",
       "      <td>3</td>\n",
       "      <td>11</td>\n",
       "      <td>21</td>\n",
       "      <td>22</td>\n",
       "      <td>31</td>\n",
       "      <td>8</td>\n",
       "      <td>83</td>\n",
       "      <td>16</td>\n",
       "    </tr>\n",
       "    <tr>\n",
       "      <th>18</th>\n",
       "      <td>20183867</td>\n",
       "      <td>알라딘</td>\n",
       "      <td>21</td>\n",
       "      <td>0</td>\n",
       "      <td>4</td>\n",
       "      <td>9</td>\n",
       "      <td>58</td>\n",
       "      <td>4</td>\n",
       "      <td>66</td>\n",
       "      <td>33</td>\n",
       "    </tr>\n",
       "    <tr>\n",
       "      <th>19</th>\n",
       "      <td>20184889</td>\n",
       "      <td>어벤져스: 엔드게임</td>\n",
       "      <td>27</td>\n",
       "      <td>0</td>\n",
       "      <td>6</td>\n",
       "      <td>19</td>\n",
       "      <td>38</td>\n",
       "      <td>7</td>\n",
       "      <td>90</td>\n",
       "      <td>9</td>\n",
       "    </tr>\n",
       "    <tr>\n",
       "      <th>20</th>\n",
       "      <td>20162941</td>\n",
       "      <td>컨저링 2</td>\n",
       "      <td>1</td>\n",
       "      <td>57</td>\n",
       "      <td>5</td>\n",
       "      <td>8</td>\n",
       "      <td>22</td>\n",
       "      <td>5</td>\n",
       "      <td>86</td>\n",
       "      <td>13</td>\n",
       "    </tr>\n",
       "  </tbody>\n",
       "</table>\n",
       "</div>"
      ],
      "text/plain": [
       "     movieCd      movieNm  impression  fear  anger  sadness  fun  boredom  \\\n",
       "0   19980074         타이타닉          53     1     10       21   10        3   \n",
       "1   20030371     태극기 휘날리며          42     2     10       30    9        4   \n",
       "2   20040734          노트북          66     0      4       14   11        3   \n",
       "3   20060151           괴물          12    10      9       19   39        8   \n",
       "4   20070061        트랜스포머           9     4     11       17   45       11   \n",
       "5   20090074          해운대          28     2      7       19   31       10   \n",
       "6   20090834          아바타          14     2     10       17   40       13   \n",
       "7   20112821   프렌즈 위드 베네핏          10     0      6        5   69        7   \n",
       "8   20124079  광해, 왕이 된 남자          28     2      6       17   39        6   \n",
       "9   20127593      7번방의 선물          41     0      5       29   19        3   \n",
       "10  20129370           명량          23     4      9       18   33       10   \n",
       "11  20134803          변호인          22     2     16       41   12        5   \n",
       "12  20135428       어바웃 타임          51     0      7       16   20        4   \n",
       "13  20136803         겨울왕국          22     1      5       11   55        4   \n",
       "14  20149120        인터스텔라          19     3     13       17   33       12   \n",
       "15  20156564          부산행          11    14      7       13   44        9   \n",
       "16  20167904         라라랜드          36     0      7       17   29        9   \n",
       "17  20183782          기생충           3    11     21       22   31        8   \n",
       "18  20183867          알라딘          21     0      4        9   58        4   \n",
       "19  20184889   어벤져스: 엔드게임          27     0      6       19   38        7   \n",
       "20  20162941        컨저링 2           1    57      5        8   22        5   \n",
       "\n",
       "    positive  negative  \n",
       "0         90         9  \n",
       "1         86        13  \n",
       "2         91         8  \n",
       "3         78        21  \n",
       "4         79        20  \n",
       "5         79        20  \n",
       "6         77        22  \n",
       "7         87        12  \n",
       "8         86        13  \n",
       "9         90         9  \n",
       "10        80        19  \n",
       "11        80        19  \n",
       "12        86        13  \n",
       "13        89        10  \n",
       "14        77        22  \n",
       "15        81        18  \n",
       "16        82        17  \n",
       "17        83        16  \n",
       "18        66        33  \n",
       "19        90         9  \n",
       "20        86        13  "
      ]
     },
     "execution_count": 14,
     "metadata": {},
     "output_type": "execute_result"
    }
   ],
   "source": [
    "score"
   ]
  },
  {
   "cell_type": "code",
   "execution_count": 15,
   "metadata": {},
   "outputs": [
    {
     "data": {
      "text/plain": [
       "movieCd             0\n",
       "movieNm             0\n",
       "movieNmEn        1049\n",
       "prdtYear            7\n",
       "openDt              0\n",
       "prdtStatNm          0\n",
       "repGenre           80\n",
       "genre              82\n",
       "repNation           3\n",
       "nations             3\n",
       "typeNm              8\n",
       "showTm            132\n",
       "directors           0\n",
       "actors              3\n",
       "actors_en           3\n",
       "cast                3\n",
       "cast_en             3\n",
       "companyCd           3\n",
       "companyNm           3\n",
       "companyNmEn         3\n",
       "companyPartNm       3\n",
       "watchGradeNm      269\n",
       "poster              0\n",
       "userRating          0\n",
       "dtype: int64"
      ]
     },
     "execution_count": 15,
     "metadata": {},
     "output_type": "execute_result"
    }
   ],
   "source": [
    "movies.isnull().sum()"
   ]
  },
  {
   "cell_type": "code",
   "execution_count": 16,
   "metadata": {},
   "outputs": [],
   "source": [
    "movies = movies.fillna(\"\")"
   ]
  },
  {
   "cell_type": "code",
   "execution_count": 17,
   "metadata": {},
   "outputs": [
    {
     "data": {
      "text/plain": [
       "movieCd          0\n",
       "movieNm          0\n",
       "movieNmEn        0\n",
       "prdtYear         0\n",
       "openDt           0\n",
       "prdtStatNm       0\n",
       "repGenre         0\n",
       "genre            0\n",
       "repNation        0\n",
       "nations          0\n",
       "typeNm           0\n",
       "showTm           0\n",
       "directors        0\n",
       "actors           0\n",
       "actors_en        0\n",
       "cast             0\n",
       "cast_en          0\n",
       "companyCd        0\n",
       "companyNm        0\n",
       "companyNmEn      0\n",
       "companyPartNm    0\n",
       "watchGradeNm     0\n",
       "poster           0\n",
       "userRating       0\n",
       "dtype: int64"
      ]
     },
     "execution_count": 17,
     "metadata": {},
     "output_type": "execute_result"
    }
   ],
   "source": [
    "movies.isnull().sum()"
   ]
  },
  {
   "cell_type": "code",
   "execution_count": 8,
   "metadata": {},
   "outputs": [
    {
     "data": {
      "text/plain": [
       "movieCd       0\n",
       "movieNm       0\n",
       "impression    0\n",
       "fear          0\n",
       "anger         0\n",
       "sadness       0\n",
       "fun           0\n",
       "boredom       0\n",
       "positive      0\n",
       "negative      0\n",
       "dtype: int64"
      ]
     },
     "execution_count": 8,
     "metadata": {},
     "output_type": "execute_result"
    }
   ],
   "source": [
    "score.isnull().sum()"
   ]
  },
  {
   "cell_type": "code",
   "execution_count": null,
   "metadata": {},
   "outputs": [],
   "source": []
  },
  {
   "cell_type": "code",
   "execution_count": 16,
   "metadata": {},
   "outputs": [],
   "source": [
    "con = sqlite3.connect(os.path.join(db_path, \"db.sqlite3\"))"
   ]
  },
  {
   "cell_type": "code",
   "execution_count": 17,
   "metadata": {},
   "outputs": [
    {
     "data": {
      "text/plain": [
       "[('django_migrations',),\n",
       " ('sqlite_sequence',),\n",
       " ('auth_group_permissions',),\n",
       " ('auth_user_groups',),\n",
       " ('auth_user_user_permissions',),\n",
       " ('django_admin_log',),\n",
       " ('django_content_type',),\n",
       " ('auth_permission',),\n",
       " ('auth_user',),\n",
       " ('auth_group',),\n",
       " ('knox_authtoken',),\n",
       " ('django_session',),\n",
       " ('users_profile',),\n",
       " ('movieInfo_movieinfo',),\n",
       " ('moviescore_moviescore',)]"
      ]
     },
     "execution_count": 17,
     "metadata": {},
     "output_type": "execute_result"
    }
   ],
   "source": [
    "cur = con.cursor()\n",
    "cur.execute(\"SELECT name FROM sqlite_master WHERE type='table';\")\n",
    "cur.fetchall()"
   ]
  },
  {
   "cell_type": "code",
   "execution_count": 18,
   "metadata": {},
   "outputs": [
    {
     "data": {
      "text/plain": [
       "[]"
      ]
     },
     "execution_count": 18,
     "metadata": {},
     "output_type": "execute_result"
    }
   ],
   "source": [
    "# cur = con.cursor()\n",
    "# cur.execute(\"DELETE FROM movieInfo_movieinfo\")\n",
    "# cur.fetchall()"
   ]
  },
  {
   "cell_type": "code",
   "execution_count": 20,
   "metadata": {},
   "outputs": [
    {
     "data": {
      "text/plain": [
       "[]"
      ]
     },
     "execution_count": 20,
     "metadata": {},
     "output_type": "execute_result"
    }
   ],
   "source": [
    "# cur = con.cursor()\n",
    "# cur.execute(\"DELETE FROM sqlite_sequence WHERE name = 'movieInfo_movieinfo';\")\n",
    "# cur.fetchall()"
   ]
  },
  {
   "cell_type": "code",
   "execution_count": 24,
   "metadata": {},
   "outputs": [
    {
     "data": {
      "text/plain": [
       "[('django_migrations', 27),\n",
       " ('django_admin_log', 22),\n",
       " ('django_content_type', 10),\n",
       " ('auth_permission', 40),\n",
       " ('auth_user', 8),\n",
       " ('auth_group', 0),\n",
       " ('users_profile', 295),\n",
       " ('moviescore_moviescore', 21),\n",
       " ('movieInfo_movieinfo', 13360)]"
      ]
     },
     "execution_count": 24,
     "metadata": {},
     "output_type": "execute_result"
    }
   ],
   "source": [
    "cur = con.cursor()\n",
    "cur.execute(\"SELECT * FROM sqlite_sequence\")\n",
    "cur.fetchall()"
   ]
  },
  {
   "cell_type": "code",
   "execution_count": 22,
   "metadata": {},
   "outputs": [
    {
     "data": {
      "text/plain": [
       "[]"
      ]
     },
     "execution_count": 22,
     "metadata": {},
     "output_type": "execute_result"
    }
   ],
   "source": [
    "# cur = con.cursor()\n",
    "# cur.execute(\"DELETE FROM moviescore_moviescore\")\n",
    "# cur.fetchall()"
   ]
  },
  {
   "cell_type": "code",
   "execution_count": 23,
   "metadata": {},
   "outputs": [
    {
     "data": {
      "text/plain": [
       "[]"
      ]
     },
     "execution_count": 23,
     "metadata": {},
     "output_type": "execute_result"
    }
   ],
   "source": [
    "# cur = con.cursor()\n",
    "# cur.execute(\"DELETE FROM sqlite_sequence WHERE name = 'moviescore_moviescore';\")\n",
    "# cur.fetchall()"
   ]
  },
  {
   "cell_type": "code",
   "execution_count": 22,
   "metadata": {},
   "outputs": [],
   "source": [
    "movies.to_sql(\"movieInfo_movieinfo\", con, if_exists=\"append\", index=False)"
   ]
  },
  {
   "cell_type": "code",
   "execution_count": 24,
   "metadata": {},
   "outputs": [],
   "source": [
    "score.to_sql(\"moviescore_moviescore\", con, if_exists=\"append\", index=False)"
   ]
  },
  {
   "cell_type": "code",
   "execution_count": 23,
   "metadata": {},
   "outputs": [
    {
     "data": {
      "text/plain": [
       "[('django_migrations',),\n",
       " ('sqlite_sequence',),\n",
       " ('auth_group_permissions',),\n",
       " ('auth_user_groups',),\n",
       " ('auth_user_user_permissions',),\n",
       " ('django_admin_log',),\n",
       " ('django_content_type',),\n",
       " ('auth_permission',),\n",
       " ('auth_user',),\n",
       " ('auth_group',),\n",
       " ('knox_authtoken',),\n",
       " ('django_session',),\n",
       " ('users_profile',),\n",
       " ('movieInfo_movieinfo',),\n",
       " ('moviescore_moviescore',)]"
      ]
     },
     "execution_count": 23,
     "metadata": {},
     "output_type": "execute_result"
    }
   ],
   "source": [
    "cur = con.cursor()\n",
    "cur.execute(\"SELECT name FROM sqlite_master WHERE type='table';\")\n",
    "cur.fetchall()"
   ]
  },
  {
   "cell_type": "code",
   "execution_count": 26,
   "metadata": {},
   "outputs": [],
   "source": [
    "cur = con.cursor()\n",
    "cur.execute(\"SELECT * From moviescore_moviescore;\")\n",
    "score_movie = cur.fetchall()"
   ]
  },
  {
   "cell_type": "code",
   "execution_count": 27,
   "metadata": {},
   "outputs": [
    {
     "data": {
      "text/plain": [
       "21"
      ]
     },
     "execution_count": 27,
     "metadata": {},
     "output_type": "execute_result"
    }
   ],
   "source": [
    "len(score_movie)"
   ]
  },
  {
   "cell_type": "code",
   "execution_count": 28,
   "metadata": {},
   "outputs": [
    {
     "data": {
      "text/plain": [
       "[(1, '19980074', '타이타닉', 53, 1, 10, 21, 10, 3, 90, 9),\n",
       " (2, '20030371', '태극기 휘날리며', 42, 2, 10, 30, 9, 4, 86, 13)]"
      ]
     },
     "execution_count": 28,
     "metadata": {},
     "output_type": "execute_result"
    }
   ],
   "source": [
    "score_movie[:2]"
   ]
  },
  {
   "cell_type": "code",
   "execution_count": 25,
   "metadata": {},
   "outputs": [],
   "source": [
    "cur = con.cursor()\n",
    "cur.execute(\"SELECT * From movieinfo_movieinfo;\")\n",
    "db_movies = cur.fetchall()"
   ]
  },
  {
   "cell_type": "code",
   "execution_count": 26,
   "metadata": {},
   "outputs": [
    {
     "data": {
      "text/plain": [
       "13360"
      ]
     },
     "execution_count": 26,
     "metadata": {},
     "output_type": "execute_result"
    }
   ],
   "source": [
    "len(db_movies)"
   ]
  },
  {
   "cell_type": "code",
   "execution_count": 27,
   "metadata": {},
   "outputs": [
    {
     "data": {
      "text/plain": [
       "[(1,\n",
       "  '20196405',\n",
       "  '극장판 타오르지마 버스터-블랙어썰트의 귀환',\n",
       "  'The Return of Dark Assault',\n",
       "  '2019',\n",
       "  '20191205',\n",
       "  '개봉예정',\n",
       "  '코미디',\n",
       "  '코미디,애니메이션,액션,어드벤처',\n",
       "  '한국',\n",
       "  '한국',\n",
       "  '장편',\n",
       "  '73.0',\n",
       "  '조영광',\n",
       "  \"['홍범기', '안영미', '안효민', '최낙윤']\",\n",
       "  \"['HONG Beom-gi', 'AN Young-mi', '', '']\",\n",
       "  \"['', '', '', '']\",\n",
       "  \"['', '', '', '']\",\n",
       "  \"['20142828']\",\n",
       "  \"['(주)시너지미디어']\",\n",
       "  \"['Synergy Media Inc.']\",\n",
       "  \"['제작사']\",\n",
       "  '전체관람가',\n",
       "  'https://ssl.pstatic.net/imgmovie/mdi/mit110/1883/188345_P09_113821.jpg',\n",
       "  '8.0'),\n",
       " (2,\n",
       "  '20197803',\n",
       "  '겨울왕국 2',\n",
       "  'Frozen 2',\n",
       "  '2019',\n",
       "  '20191121',\n",
       "  '개봉예정',\n",
       "  '애니메이션',\n",
       "  '애니메이션',\n",
       "  '미국',\n",
       "  '미국',\n",
       "  '장편',\n",
       "  '103.0',\n",
       "  '크리스 벅, 제니퍼 리',\n",
       "  \"['크리스틴 벨', '이디나 멘젤', '조시 게드', '조나단 그로프']\",\n",
       "  \"['Kristen Bell', 'Idina Menzel', 'Josh Gad', 'Jonathan Groff']\",\n",
       "  \"['', '', '', '']\",\n",
       "  \"['', '', '', '']\",\n",
       "  \"['20161801', '20161801']\",\n",
       "  \"['월트디즈니컴퍼니코리아 유한책임회사', '월트디즈니컴퍼니코리아 유한책임회사']\",\n",
       "  \"['The Walt Disney Company Korea', 'The Walt Disney Company Korea']\",\n",
       "  \"['배급사', '수입사']\",\n",
       "  '전체관람가',\n",
       "  'https://ssl.pstatic.net/imgmovie/mdi/mit110/1368/136873_P15_143052.jpg',\n",
       "  '9.04')]"
      ]
     },
     "execution_count": 27,
     "metadata": {},
     "output_type": "execute_result"
    }
   ],
   "source": [
    "db_movies[:2]"
   ]
  },
  {
   "cell_type": "code",
   "execution_count": 28,
   "metadata": {},
   "outputs": [],
   "source": [
    "con.commit()"
   ]
  },
  {
   "cell_type": "code",
   "execution_count": 29,
   "metadata": {},
   "outputs": [],
   "source": [
    "con.close()"
   ]
  },
  {
   "cell_type": "code",
   "execution_count": null,
   "metadata": {},
   "outputs": [],
   "source": []
  },
  {
   "cell_type": "code",
   "execution_count": 12,
   "metadata": {},
   "outputs": [
    {
     "data": {
      "text/plain": [
       "[]"
      ]
     },
     "execution_count": 12,
     "metadata": {},
     "output_type": "execute_result"
    }
   ],
   "source": [
    "# cur = con.cursor()\n",
    "# cur.execute(\"DROP TABLE moviescore_moviescore\")\n",
    "# cur.fetchall()"
   ]
  },
  {
   "cell_type": "code",
   "execution_count": null,
   "metadata": {},
   "outputs": [],
   "source": []
  },
  {
   "cell_type": "code",
   "execution_count": null,
   "metadata": {},
   "outputs": [],
   "source": []
  }
 ],
 "metadata": {
  "kernelspec": {
   "display_name": "movie-inside",
   "language": "python",
   "name": "movie-inside"
  },
  "language_info": {
   "codemirror_mode": {
    "name": "ipython",
    "version": 3
   },
   "file_extension": ".py",
   "mimetype": "text/x-python",
   "name": "python",
   "nbconvert_exporter": "python",
   "pygments_lexer": "ipython3",
   "version": "3.6.9"
  }
 },
 "nbformat": 4,
 "nbformat_minor": 2
}
