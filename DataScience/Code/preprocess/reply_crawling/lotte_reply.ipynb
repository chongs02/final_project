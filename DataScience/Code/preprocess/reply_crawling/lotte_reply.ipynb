{
 "cells": [
  {
   "cell_type": "code",
   "execution_count": 1,
   "metadata": {},
   "outputs": [],
   "source": [
    "import os\n",
    "import time\n",
    "import pandas as pd\n",
    "\n",
    "from selenium import webdriver\n",
    "from selenium.webdriver.common.action_chains import ActionChains"
   ]
  },
  {
   "cell_type": "code",
   "execution_count": 2,
   "metadata": {},
   "outputs": [],
   "source": [
    "save_path = r\"C:\\Users\\Jwp\\Desktop\\workspace\\DataScience_Final_Project\\Final_Data\\reply_crwaling\""
   ]
  },
  {
   "cell_type": "code",
   "execution_count": 3,
   "metadata": {},
   "outputs": [],
   "source": [
    "# chrome_path = r\"D:\\workspace-Jwp\\DataScience_Final_Project\\Etc\\chromedriver\"\n",
    "chrome_path = r\"C:\\Users\\Jwp\\Desktop\\workspace\\DataScience_Final_Project\\Etc\\chromedriver\""
   ]
  },
  {
   "cell_type": "code",
   "execution_count": 4,
   "metadata": {},
   "outputs": [],
   "source": [
    "url = \"http://www.lottecinema.co.kr/LCHS/Contents/Movie/Movie-Detail-View.aspx?movie=14805\""
   ]
  },
  {
   "cell_type": "code",
   "execution_count": 7,
   "metadata": {},
   "outputs": [],
   "source": [
    "def lotte_reply(chrome_path, url, pages):\n",
    "    \n",
    "    # headless 만들기\n",
    "#     options = webdriver.ChromeOptions()\n",
    "#     options.add_argument(\"headless\")\n",
    "#     options.add_argument(\"window-size=1920x1080\")\n",
    "#     options.add_argument(\"disable-gpu\")\n",
    "    \n",
    "#     driver = webdriver.Chrome(chrome_path, chrome_options=options)\n",
    "    driver = webdriver.Chrome(chrome_path)\n",
    "\n",
    "    action = ActionChains(driver)\n",
    "    driver.maximize_window()\n",
    "    \n",
    "    delay = 0.8\n",
    "    \n",
    "    replies = []\n",
    "    for i in range(pages):\n",
    "        time.sleep(delay)\n",
    "        driver.get(url)\n",
    "\n",
    "        time.sleep(delay)\n",
    "        button = driver.find_element_by_xpath(\"//*[@id='divReview']/div[4]/span\")\n",
    "        page = button.find_elements_by_tag_name('a')  # elements -> 복수\n",
    "\n",
    "        time.sleep(delay)\n",
    "        page[i].click()\n",
    "\n",
    "        time.sleep(delay)\n",
    "        body = driver.find_element_by_xpath(\"//ul[@id='ulReviews']\")\n",
    "\n",
    "        for p in body.find_elements_by_tag_name('p'):\n",
    "            replies.append(p.text)\n",
    "            \n",
    "    return replies"
   ]
  },
  {
   "cell_type": "code",
   "execution_count": 8,
   "metadata": {},
   "outputs": [],
   "source": [
    "replies = lotte_reply(chrome_path, url, 20)"
   ]
  },
  {
   "cell_type": "code",
   "execution_count": 11,
   "metadata": {},
   "outputs": [
    {
     "data": {
      "text/plain": [
       "['재밌어요',\n",
       " '연기파들의 연기는 넘 좋았고 요즘 젊은 사람들의 연애관이나 흐름을 조금은 이해가 되네요 즐겁게 잘보았어요',\n",
       " '친구와 보고왔는데 90년대 결혼한 저 젊은시절때의 연애관과 요즘 연애관을 비교할 수 있어서 좋았어요 저는 재밌게봤는데 고딩딸과 같이 봤으면 좀 그랬을까요? ㅎㅎ 15세는 좀 그렇네요.',\n",
       " '재미있게 잘 봤습니다',\n",
       " '그냥 쏘쏘. 엄청 현실적인것 같지는 않고 공효진이 예뻤어요! 나중에 DVD로 봐도 될 정도ㅠ']"
      ]
     },
     "execution_count": 11,
     "metadata": {},
     "output_type": "execute_result"
    }
   ],
   "source": [
    "replies[:5]"
   ]
  },
  {
   "cell_type": "code",
   "execution_count": 12,
   "metadata": {},
   "outputs": [],
   "source": [
    "rep_df = pd.DataFrame(replies)"
   ]
  },
  {
   "cell_type": "code",
   "execution_count": 13,
   "metadata": {},
   "outputs": [],
   "source": [
    "rep_df.to_csv(os.path.join(save_path, \"lotte_gabotong.csv\"), index=None, encoding=\"euc-kr\")"
   ]
  },
  {
   "cell_type": "code",
   "execution_count": 14,
   "metadata": {},
   "outputs": [],
   "source": [
    "rep_df.to_csv(os.path.join(save_path, \"lotte_gabotong_utf.csv\"), index=None, encoding=\"utf-8\")"
   ]
  },
  {
   "cell_type": "code",
   "execution_count": null,
   "metadata": {},
   "outputs": [],
   "source": []
  },
  {
   "cell_type": "code",
   "execution_count": 18,
   "metadata": {},
   "outputs": [],
   "source": [
    "driver = webdriver.Chrome(chrome_path)"
   ]
  },
  {
   "cell_type": "code",
   "execution_count": 34,
   "metadata": {},
   "outputs": [],
   "source": [
    "url = \"http://www.lottecinema.co.kr/LCHS/Contents/Movie/Movie-Detail-View.aspx?movie=14805\"\n",
    "action = ActionChains(driver)\n",
    "driver.maximize_window()"
   ]
  },
  {
   "cell_type": "code",
   "execution_count": 75,
   "metadata": {},
   "outputs": [
    {
     "name": "stdout",
     "output_type": "stream",
     "text": [
      "[\"알콩달콩, 할듯말듯 끝까지 꿀젬을 준 영화, 강추에요'\", '실제있을수있을법한 상황들이 와닿았구 서로 진심을 알아주는 감동적인.. 그리고 둘다 매력적인데,,김래원같은 남자 있음 좋겠다 ㅎ', '그냥 소소하게 잼있음 공효진 김래원 연기 잘하네', '가벼운 웃음 유발하려고 무진장 애쓴 영화']\n",
      "[\"알콩달콩, 할듯말듯 끝까지 꿀젬을 준 영화, 강추에요'\", '실제있을수있을법한 상황들이 와닿았구 서로 진심을 알아주는 감동적인.. 그리고 둘다 매력적인데,,김래원같은 남자 있음 좋겠다 ㅎ', '그냥 소소하게 잼있음 공효진 김래원 연기 잘하네', '가벼운 웃음 유발하려고 무진장 애쓴 영화', \"알콩달콩, 할듯말듯 끝까지 꿀젬을 준 영화, 강추에요'\", '실제있을수있을법한 상황들이 와닿았구 서로 진심을 알아주는 감동적인.. 그리고 둘다 매력적인데,,김래원같은 남자 있음 좋겠다 ㅎ', '그냥 소소하게 잼있음 공효진 김래원 연기 잘하네', '가벼운 웃음 유발하려고 무진장 애쓴 영화']\n",
      "[\"알콩달콩, 할듯말듯 끝까지 꿀젬을 준 영화, 강추에요'\", '실제있을수있을법한 상황들이 와닿았구 서로 진심을 알아주는 감동적인.. 그리고 둘다 매력적인데,,김래원같은 남자 있음 좋겠다 ㅎ', '그냥 소소하게 잼있음 공효진 김래원 연기 잘하네', '가벼운 웃음 유발하려고 무진장 애쓴 영화', \"알콩달콩, 할듯말듯 끝까지 꿀젬을 준 영화, 강추에요'\", '실제있을수있을법한 상황들이 와닿았구 서로 진심을 알아주는 감동적인.. 그리고 둘다 매력적인데,,김래원같은 남자 있음 좋겠다 ㅎ', '그냥 소소하게 잼있음 공효진 김래원 연기 잘하네', '가벼운 웃음 유발하려고 무진장 애쓴 영화', '가볍게 관람하기 좋은영화인거 같습니다... 영화잘봤습니다...ㅎㅎ', '너무 재밌게 봤네요~~', '강기영씨가 좀 더 주목받는 영화가 될것같다', '잼나요 지루하지 않고 재밌게 봤네요']\n",
      "[\"알콩달콩, 할듯말듯 끝까지 꿀젬을 준 영화, 강추에요'\", '실제있을수있을법한 상황들이 와닿았구 서로 진심을 알아주는 감동적인.. 그리고 둘다 매력적인데,,김래원같은 남자 있음 좋겠다 ㅎ', '그냥 소소하게 잼있음 공효진 김래원 연기 잘하네', '가벼운 웃음 유발하려고 무진장 애쓴 영화', \"알콩달콩, 할듯말듯 끝까지 꿀젬을 준 영화, 강추에요'\", '실제있을수있을법한 상황들이 와닿았구 서로 진심을 알아주는 감동적인.. 그리고 둘다 매력적인데,,김래원같은 남자 있음 좋겠다 ㅎ', '그냥 소소하게 잼있음 공효진 김래원 연기 잘하네', '가벼운 웃음 유발하려고 무진장 애쓴 영화', '가볍게 관람하기 좋은영화인거 같습니다... 영화잘봤습니다...ㅎㅎ', '너무 재밌게 봤네요~~', '강기영씨가 좀 더 주목받는 영화가 될것같다', '잼나요 지루하지 않고 재밌게 봤네요', '현실적인 연애를 잘묘사하였답니다~', '그냥..그래요..보통임', '주변에서 있을법한 이야기. 딱히 재밌다고 말하기 뭐하지만 혼자 보기좋은영화', '??']\n"
     ]
    }
   ],
   "source": [
    "replies = []\n",
    "for i in range(4):\n",
    "    time.sleep(1)\n",
    "    driver.get(url)\n",
    "    \n",
    "    time.sleep(1)\n",
    "    button = driver.find_element_by_xpath(\"//*[@id='divReview']/div[4]/span\")\n",
    "    page = button.find_elements_by_tag_name('a')  # elements -> 복수\n",
    "    \n",
    "    time.sleep(1)\n",
    "    page[i].click()\n",
    "    \n",
    "    time.sleep(1)\n",
    "    body = driver.find_element_by_xpath(\"//ul[@id='ulReviews']\")\n",
    "    \n",
    "    for p in body.find_elements_by_tag_name('p'):\n",
    "        replies.append(p.text)"
   ]
  },
  {
   "cell_type": "code",
   "execution_count": 79,
   "metadata": {
    "scrolled": true
   },
   "outputs": [
    {
     "data": {
      "text/plain": [
       "[\"알콩달콩, 할듯말듯 끝까지 꿀젬을 준 영화, 강추에요'\",\n",
       " '실제있을수있을법한 상황들이 와닿았구 서로 진심을 알아주는 감동적인.. 그리고 둘다 매력적인데,,김래원같은 남자 있음 좋겠다 ㅎ',\n",
       " '그냥 소소하게 잼있음 공효진 김래원 연기 잘하네',\n",
       " '가벼운 웃음 유발하려고 무진장 애쓴 영화',\n",
       " \"알콩달콩, 할듯말듯 끝까지 꿀젬을 준 영화, 강추에요'\",\n",
       " '실제있을수있을법한 상황들이 와닿았구 서로 진심을 알아주는 감동적인.. 그리고 둘다 매력적인데,,김래원같은 남자 있음 좋겠다 ㅎ',\n",
       " '그냥 소소하게 잼있음 공효진 김래원 연기 잘하네',\n",
       " '가벼운 웃음 유발하려고 무진장 애쓴 영화',\n",
       " '가볍게 관람하기 좋은영화인거 같습니다... 영화잘봤습니다...ㅎㅎ',\n",
       " '너무 재밌게 봤네요~~',\n",
       " '강기영씨가 좀 더 주목받는 영화가 될것같다',\n",
       " '잼나요 지루하지 않고 재밌게 봤네요',\n",
       " '현실적인 연애를 잘묘사하였답니다~',\n",
       " '그냥..그래요..보통임',\n",
       " '주변에서 있을법한 이야기. 딱히 재밌다고 말하기 뭐하지만 혼자 보기좋은영화',\n",
       " '??']"
      ]
     },
     "execution_count": 79,
     "metadata": {},
     "output_type": "execute_result"
    }
   ],
   "source": [
    "replies"
   ]
  },
  {
   "cell_type": "code",
   "execution_count": null,
   "metadata": {},
   "outputs": [],
   "source": [
    "# headless 만들기\n",
    "options = webdriver.ChromeOptions()\n",
    "options.add_argument('headless')\n",
    "options.add_argument('window-size=1920x1080')\n",
    "options.add_argument(\"disable-gpu\")"
   ]
  }
 ],
 "metadata": {
  "kernelspec": {
   "display_name": "movie-inside",
   "language": "python",
   "name": "movie-inside"
  },
  "language_info": {
   "codemirror_mode": {
    "name": "ipython",
    "version": 3
   },
   "file_extension": ".py",
   "mimetype": "text/x-python",
   "name": "python",
   "nbconvert_exporter": "python",
   "pygments_lexer": "ipython3",
   "version": "3.6.9"
  }
 },
 "nbformat": 4,
 "nbformat_minor": 2
}
