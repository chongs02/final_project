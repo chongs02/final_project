{
 "cells": [
  {
   "cell_type": "code",
   "execution_count": 1,
   "metadata": {},
   "outputs": [],
   "source": [
    "import os\n",
    "import sys\n",
    "import time\n",
    "import json\n",
    "\n",
    "import urllib\n",
    "import urllib.request\n",
    "import requests\n",
    "\n",
    "import pandas as pd\n",
    "from bs4 import BeautifulSoup\n",
    "\n",
    "import re\n",
    "\n",
    "from tqdm import tqdm"
   ]
  },
  {
   "cell_type": "code",
   "execution_count": 5,
   "metadata": {},
   "outputs": [],
   "source": [
    "data_path = r\"C:\\Users\\Jwp\\Desktop\\workspace\\Final_project\\DataScience\\Final_Data\\movie\\moviePoster\"\n",
    "save_path = r\"C:\\Users\\Jwp\\Desktop\\workspace\\Final_project\\DataScience\\Final_Data\\reply_crwaling\\naver_reply\"\n",
    "# data_path = r\"C:\\Users\\chongs\\Desktop\\git\\final_project\\DataScience\\Final_Data\\movie\\movieInfo\\all\"\n",
    "# save_path = r\"C:\\Users\\chongs\\Desktop\\git\\final_project\\DataScience\\Final_Data\\movie\\movieReview\"\n",
    "# data_path = r\"D:\\git_ec\\final_project\\DataScience\\Final_Data\\movie\\movieInfo\\all\"\n",
    "# save_path = r\"D:\\git_ec\\final_project\\DataScience\\Final_Data\\movie\\movieReview\""
   ]
  },
  {
   "cell_type": "code",
   "execution_count": 8,
   "metadata": {},
   "outputs": [],
   "source": [
    "movies = pd.read_csv(os.path.join(data_path, \"movie_info_all2.csv\"), encoding=\"utf-8\")"
   ]
  },
  {
   "cell_type": "code",
   "execution_count": 11,
   "metadata": {},
   "outputs": [],
   "source": [
    "dd = movies[movies.movieNm == \"컨저링 2\"]"
   ]
  },
  {
   "cell_type": "code",
   "execution_count": 22,
   "metadata": {},
   "outputs": [
    {
     "data": {
      "text/html": [
       "<div>\n",
       "<style scoped>\n",
       "    .dataframe tbody tr th:only-of-type {\n",
       "        vertical-align: middle;\n",
       "    }\n",
       "\n",
       "    .dataframe tbody tr th {\n",
       "        vertical-align: top;\n",
       "    }\n",
       "\n",
       "    .dataframe thead th {\n",
       "        text-align: right;\n",
       "    }\n",
       "</style>\n",
       "<table border=\"1\" class=\"dataframe\">\n",
       "  <thead>\n",
       "    <tr style=\"text-align: right;\">\n",
       "      <th></th>\n",
       "      <th>movieCd</th>\n",
       "      <th>movieNm</th>\n",
       "      <th>movieNmEn</th>\n",
       "      <th>prdtYear</th>\n",
       "      <th>openDt</th>\n",
       "      <th>prdtStatNm</th>\n",
       "      <th>repGenre</th>\n",
       "      <th>genre</th>\n",
       "      <th>repNation</th>\n",
       "      <th>nations</th>\n",
       "      <th>...</th>\n",
       "      <th>actors_en</th>\n",
       "      <th>cast</th>\n",
       "      <th>cast_en</th>\n",
       "      <th>companyCd</th>\n",
       "      <th>companyNm</th>\n",
       "      <th>companyNmEn</th>\n",
       "      <th>companyPartNm</th>\n",
       "      <th>watchGradeNm</th>\n",
       "      <th>poster</th>\n",
       "      <th>userRating</th>\n",
       "    </tr>\n",
       "  </thead>\n",
       "  <tbody>\n",
       "    <tr>\n",
       "      <th>4818</th>\n",
       "      <td>20162941</td>\n",
       "      <td>컨저링 2</td>\n",
       "      <td>The Conjuring 2</td>\n",
       "      <td>2016</td>\n",
       "      <td>20160609</td>\n",
       "      <td>개봉</td>\n",
       "      <td>공포(호러)</td>\n",
       "      <td>공포(호러)</td>\n",
       "      <td>미국</td>\n",
       "      <td>미국</td>\n",
       "      <td>...</td>\n",
       "      <td>['Vera Farmiga', 'Patrick Wilson', 'Franka Pot...</td>\n",
       "      <td>['', '', '', '', '']</td>\n",
       "      <td>['', '', '', '', '']</td>\n",
       "      <td>['20100043', '20100043']</td>\n",
       "      <td>['워너브러더스 코리아(주)', '워너브러더스 코리아(주)']</td>\n",
       "      <td>['Warner Bros. Korea', 'Warner Bros. Korea']</td>\n",
       "      <td>['배급사', '수입사']</td>\n",
       "      <td>15세이상관람가</td>\n",
       "      <td>https://ssl.pstatic.net/imgmovie/mdi/mit110/11...</td>\n",
       "      <td>8.23</td>\n",
       "    </tr>\n",
       "  </tbody>\n",
       "</table>\n",
       "<p>1 rows × 24 columns</p>\n",
       "</div>"
      ],
      "text/plain": [
       "       movieCd movieNm        movieNmEn  prdtYear    openDt prdtStatNm  \\\n",
       "4818  20162941   컨저링 2  The Conjuring 2      2016  20160609         개봉   \n",
       "\n",
       "     repGenre   genre repNation nations  ...  \\\n",
       "4818   공포(호러)  공포(호러)        미국      미국  ...   \n",
       "\n",
       "                                              actors_en                  cast  \\\n",
       "4818  ['Vera Farmiga', 'Patrick Wilson', 'Franka Pot...  ['', '', '', '', '']   \n",
       "\n",
       "                   cast_en                 companyCd  \\\n",
       "4818  ['', '', '', '', '']  ['20100043', '20100043']   \n",
       "\n",
       "                               companyNm  \\\n",
       "4818  ['워너브러더스 코리아(주)', '워너브러더스 코리아(주)']   \n",
       "\n",
       "                                       companyNmEn   companyPartNm  \\\n",
       "4818  ['Warner Bros. Korea', 'Warner Bros. Korea']  ['배급사', '수입사']   \n",
       "\n",
       "     watchGradeNm                                             poster  \\\n",
       "4818     15세이상관람가  https://ssl.pstatic.net/imgmovie/mdi/mit110/11...   \n",
       "\n",
       "     userRating  \n",
       "4818       8.23  \n",
       "\n",
       "[1 rows x 24 columns]"
      ]
     },
     "execution_count": 22,
     "metadata": {},
     "output_type": "execute_result"
    }
   ],
   "source": [
    "dd"
   ]
  },
  {
   "cell_type": "code",
   "execution_count": 13,
   "metadata": {},
   "outputs": [],
   "source": [
    "def progress_bar(i, total):\n",
    "    k = i/total*100\n",
    "    star = \"*\"*int(k/2.5)\n",
    "    print(\"Processing: {}/{} [{:.1f}%] {}\".format(i, total, k, star), end=\"\\r\")"
   ]
  },
  {
   "cell_type": "code",
   "execution_count": 14,
   "metadata": {},
   "outputs": [],
   "source": [
    "def get_naverApi(movieNm, openDt, director):\n",
    "    \n",
    "    client_id = \"JjcGyzzf5rjyFKNPCTxG\"\n",
    "    client_secret = \"MDi_1o76AT\"\n",
    "    encText = urllib.parse.quote(f\"{movieNm}\")\n",
    "    url = \"https://openapi.naver.com/v1/search/movie?query=\" + encText + f\"&yearfrom={openDt-1}&yearto={openDt}\"\n",
    "    request = urllib.request.Request(url)\n",
    "\n",
    "    request.add_header(\"X-Naver-Client-Id\",client_id)\n",
    "    request.add_header(\"X-Naver-Client-Secret\",client_secret)\n",
    "\n",
    "    response = urllib.request.urlopen(request)\n",
    "    rescode = response.getcode()\n",
    "\n",
    "    if(rescode == 200):\n",
    "        html = response.read().decode(\"utf-8\")\n",
    "        parse = json.loads(html)\n",
    "                \n",
    "        if parse[\"items\"] == []:\n",
    "            link = \"\"\n",
    "            \n",
    "            \n",
    "        else:\n",
    "            if len(parse[\"items\"]) > 1:\n",
    "                for i, item in enumerate(parse[\"items\"]):\n",
    "                    if director in item[\"director\"]:\n",
    "                        idx = i\n",
    "                        break\n",
    "                    elif item[\"pubDate\"] == str(openDt):\n",
    "                        idx = i\n",
    "                        break\n",
    "                    else:\n",
    "                        idx = 0\n",
    "            else:\n",
    "                 idx = 0\n",
    "            \n",
    "            info = parse[\"items\"][idx]\n",
    "            link = info[\"link\"]\n",
    "            \n",
    "    else:\n",
    "        link = \"\"\n",
    "    \n",
    "    return movieNm, link"
   ]
  },
  {
   "cell_type": "code",
   "execution_count": 15,
   "metadata": {},
   "outputs": [],
   "source": [
    "def load_naverMovie(movie_list):\n",
    "    movie_list.openDt = movie_list.openDt.astype(str)\n",
    "    ls = movie_list[[\"movieCd\",\"movieNm\", \"openDt\", \"directors\"]].values\n",
    "    \n",
    "    i = 1\n",
    "    total = len(ls)\n",
    "    links = []\n",
    "    movieNms = []\n",
    "    movieCds = []\n",
    "    for v in ls:\n",
    "#         print(v[1], int(v[2][:4]), v[3].split(\" \")[0].split(\",\")[0][:2])\n",
    "        movieNm, link = get_naverApi(v[1], int(v[2][:4]), v[3].split(\" \")[0].split(\",\")[0][:2])\n",
    "        code = v[0]\n",
    "        links.append(link)\n",
    "        movieNms.append(movieNm)\n",
    "        movieCds.append(code)\n",
    "        progress_bar(i, total)\n",
    "        i += 1\n",
    "        time.sleep(0.1)\n",
    "\n",
    "    print()\n",
    "    print(\"complete!\")\n",
    "    \n",
    "    return movieCds, movieNms, links"
   ]
  },
  {
   "cell_type": "code",
   "execution_count": 16,
   "metadata": {},
   "outputs": [],
   "source": [
    "def get_reviews(naver_movie_code):\n",
    "    target_url = f'https://movie.naver.com/movie/bi/mi/pointWriteFormList.nhn?code={naver_movie_code}&type=after&isActualPointWriteExecute=false&isMileageSubscriptionAlready=false&isMileageSubscriptionReject=false'\n",
    "    soup = BeautifulSoup(urllib.request.urlopen(target_url).read(), \"html.parser\")\n",
    "    review_total = soup.find(\"div\",class_=\"score_total\")\n",
    "    \n",
    "#     review가 없는 경우는 아무것도 리턴하지 않는다\n",
    "    if review_total is not None:\n",
    "        number = review_total.find('em').text\n",
    "        number = int(re.sub(',', '', number))\n",
    "        page_num = number //10\n",
    "\n",
    "        user_id = []\n",
    "        review = []\n",
    "        score = []\n",
    "        \n",
    "        for page in range(1, page_num):\n",
    "            target_url_page = target_url + '&page={}'.format(page)\n",
    "            soup = BeautifulSoup(urllib.request.urlopen(target_url_page).read(), \"html.parser\")\n",
    "            review_divs = soup.find_all('div',class_='score_reple')\n",
    "            score_divs = soup.find_all('div', class_=\"star_score\")\n",
    "            for spans in review_divs:\n",
    "                txt = spans.find('p').text.strip()\n",
    "                if txt is not None:\n",
    "                    review.append(txt)\n",
    "                else:\n",
    "                    review.append('')\n",
    "            for spans in review_divs:\n",
    "                dl = spans.find('dl')\n",
    "                if dl is not None:\n",
    "                    user = dl.find('span').text\n",
    "                    user_id.append(user)\n",
    "                else:\n",
    "                    user_id.append('')\n",
    "            for span in score_divs:\n",
    "                if span is not None:\n",
    "                    s = span.find('em').text.strip()\n",
    "                    score.append(s)\n",
    "                else:\n",
    "                    score.append('')\n",
    "            \n",
    "        return user_id, review, score\n",
    "    else:\n",
    "        return [\"\", \"\", \"\"]"
   ]
  },
  {
   "cell_type": "code",
   "execution_count": 17,
   "metadata": {},
   "outputs": [],
   "source": [
    "def load_movieReview(movie_list, save_path):\n",
    "    movieCds, movieNms, links = load_naverMovie(movie_list)\n",
    "    \n",
    "    user_id = []\n",
    "    review = []\n",
    "    score = []\n",
    "    for link in tqdm(links):\n",
    "        code = link[51:]\n",
    "        ids, reply, star_score = get_reviews(code)\n",
    "        user_id.append(ids)\n",
    "        review.append(reply)\n",
    "        score.append(star_score)\n",
    "    \n",
    "    for i in range(len(movie_list)):\n",
    "        df = pd.DataFrame([user_id[i], review[i], score[i]], index=[\"user_id\", \"review\", \"score\"]).T\n",
    "        file_name = re.sub('[-=+,#/\\?:^$@*\\\"※~&%ㆍ!』\\\\‘|\\(\\)\\[\\]\\<\\>`\\'…》]', '_', f\"{movieCds[i]}_{movieNms[i]}.csv\".replace(\" \", \"\"))\n",
    "        df.to_csv(os.path.join(save_path, file_name), index=None, encoding=\"utf-8\")"
   ]
  },
  {
   "cell_type": "code",
   "execution_count": 18,
   "metadata": {},
   "outputs": [
    {
     "name": "stderr",
     "output_type": "stream",
     "text": [
      "C:\\Users\\Jwp\\Anaconda3\\envs\\movie-inside\\lib\\site-packages\\pandas\\core\\generic.py:5208: SettingWithCopyWarning: \n",
      "A value is trying to be set on a copy of a slice from a DataFrame.\n",
      "Try using .loc[row_indexer,col_indexer] = value instead\n",
      "\n",
      "See the caveats in the documentation: http://pandas.pydata.org/pandas-docs/stable/user_guide/indexing.html#returning-a-view-versus-a-copy\n",
      "  self[name] = value\n"
     ]
    },
    {
     "name": "stdout",
     "output_type": "stream",
     "text": [
      "Processing: 1/1 [100.0%] ****************************************\n",
      "complete!\n"
     ]
    },
    {
     "name": "stderr",
     "output_type": "stream",
     "text": [
      "100%|███████████████████████████████████████████████████████████████████████████████████| 1/1 [01:47<00:00, 107.25s/it]\n"
     ]
    }
   ],
   "source": [
    "load_movieReview(dd, save_path)"
   ]
  },
  {
   "cell_type": "code",
   "execution_count": 19,
   "metadata": {},
   "outputs": [],
   "source": [
    "mm = pd.read_csv(os.path.join(save_path, \"20162941_컨저링2.csv\"), encoding=\"utf-8\")"
   ]
  },
  {
   "cell_type": "code",
   "execution_count": 21,
   "metadata": {},
   "outputs": [
    {
     "data": {
      "text/html": [
       "<div>\n",
       "<style scoped>\n",
       "    .dataframe tbody tr th:only-of-type {\n",
       "        vertical-align: middle;\n",
       "    }\n",
       "\n",
       "    .dataframe tbody tr th {\n",
       "        vertical-align: top;\n",
       "    }\n",
       "\n",
       "    .dataframe thead th {\n",
       "        text-align: right;\n",
       "    }\n",
       "</style>\n",
       "<table border=\"1\" class=\"dataframe\">\n",
       "  <thead>\n",
       "    <tr style=\"text-align: right;\">\n",
       "      <th></th>\n",
       "      <th>user_id</th>\n",
       "      <th>review</th>\n",
       "      <th>score</th>\n",
       "    </tr>\n",
       "  </thead>\n",
       "  <tbody>\n",
       "    <tr>\n",
       "      <th>0</th>\n",
       "      <td>월령공주(glor****)</td>\n",
       "      <td>평식이, 시답잖게 쎈척은 ...ㅉㅉ</td>\n",
       "      <td>10</td>\n",
       "    </tr>\n",
       "    <tr>\n",
       "      <th>1</th>\n",
       "      <td>구일중(slrh****)</td>\n",
       "      <td>나 평식이 옆에 앉아서 영화봣는데 평식아 소리좀 그만질러라...남자색히가 ㅉㅉ</td>\n",
       "      <td>10</td>\n",
       "    </tr>\n",
       "    <tr>\n",
       "      <th>2</th>\n",
       "      <td>이보람(dlqh****)</td>\n",
       "      <td>평식이가누구에요...</td>\n",
       "      <td>10</td>\n",
       "    </tr>\n",
       "    <tr>\n",
       "      <th>3</th>\n",
       "      <td>짱구방구뀐다(kgh1****)</td>\n",
       "      <td>'시답잖게 겁주기는' 이런게 영호평론가의 멘트면 아무나 평론가 할 수 있는거 아님??</td>\n",
       "      <td>8</td>\n",
       "    </tr>\n",
       "    <tr>\n",
       "      <th>4</th>\n",
       "      <td>쿠앤크(zhfl****)</td>\n",
       "      <td>평식이 오줌 찌린 게 여기까지 흘렀다....당장 보러간다!!!</td>\n",
       "      <td>9</td>\n",
       "    </tr>\n",
       "    <tr>\n",
       "      <th>...</th>\n",
       "      <td>...</td>\n",
       "      <td>...</td>\n",
       "      <td>...</td>\n",
       "    </tr>\n",
       "    <tr>\n",
       "      <th>7875</th>\n",
       "      <td>잉잉(dltm****)</td>\n",
       "      <td>관람객\\n\\n\\r\\n\\t\\t\\t\\t\\t\\t\\t\\t\\t\\t\\t\\t\\t\\t\\r\\n\\t\\...</td>\n",
       "      <td>1</td>\n",
       "    </tr>\n",
       "    <tr>\n",
       "      <th>7876</th>\n",
       "      <td>응아니야(dntw****)</td>\n",
       "      <td>이게잼?니미ㅋㅋㅋ1편부터 존1ㄴ나 개노잼</td>\n",
       "      <td>1</td>\n",
       "    </tr>\n",
       "    <tr>\n",
       "      <th>7877</th>\n",
       "      <td>ses0****</td>\n",
       "      <td>저는 두 번 놀랬는데 남자친구는 세 번 놀랬어요.</td>\n",
       "      <td>1</td>\n",
       "    </tr>\n",
       "    <tr>\n",
       "      <th>7878</th>\n",
       "      <td>Guru(jaew****)</td>\n",
       "      <td>평점계의  소금쟁이  박평식</td>\n",
       "      <td>1</td>\n",
       "    </tr>\n",
       "    <tr>\n",
       "      <th>7879</th>\n",
       "      <td>hadl****</td>\n",
       "      <td>평점 너무 높아서 남깁니다 5~6점사이가 적당할 듯 무서운거 못 느낌!!!</td>\n",
       "      <td>1</td>\n",
       "    </tr>\n",
       "  </tbody>\n",
       "</table>\n",
       "<p>7880 rows × 3 columns</p>\n",
       "</div>"
      ],
      "text/plain": [
       "               user_id                                             review  \\\n",
       "0       월령공주(glor****)                                평식이, 시답잖게 쎈척은 ...ㅉㅉ   \n",
       "1        구일중(slrh****)        나 평식이 옆에 앉아서 영화봣는데 평식아 소리좀 그만질러라...남자색히가 ㅉㅉ   \n",
       "2        이보람(dlqh****)                                        평식이가누구에요...   \n",
       "3     짱구방구뀐다(kgh1****)    '시답잖게 겁주기는' 이런게 영호평론가의 멘트면 아무나 평론가 할 수 있는거 아님??   \n",
       "4        쿠앤크(zhfl****)                 평식이 오줌 찌린 게 여기까지 흘렀다....당장 보러간다!!!   \n",
       "...                ...                                                ...   \n",
       "7875      잉잉(dltm****)  관람객\\n\\n\\r\\n\\t\\t\\t\\t\\t\\t\\t\\t\\t\\t\\t\\t\\t\\t\\r\\n\\t\\...   \n",
       "7876    응아니야(dntw****)                             이게잼?니미ㅋㅋㅋ1편부터 존1ㄴ나 개노잼   \n",
       "7877          ses0****                        저는 두 번 놀랬는데 남자친구는 세 번 놀랬어요.   \n",
       "7878    Guru(jaew****)                                    평점계의  소금쟁이  박평식   \n",
       "7879          hadl****          평점 너무 높아서 남깁니다 5~6점사이가 적당할 듯 무서운거 못 느낌!!!   \n",
       "\n",
       "      score  \n",
       "0        10  \n",
       "1        10  \n",
       "2        10  \n",
       "3         8  \n",
       "4         9  \n",
       "...     ...  \n",
       "7875      1  \n",
       "7876      1  \n",
       "7877      1  \n",
       "7878      1  \n",
       "7879      1  \n",
       "\n",
       "[7880 rows x 3 columns]"
      ]
     },
     "execution_count": 21,
     "metadata": {},
     "output_type": "execute_result"
    }
   ],
   "source": [
    "mm"
   ]
  },
  {
   "cell_type": "code",
   "execution_count": null,
   "metadata": {},
   "outputs": [],
   "source": []
  },
  {
   "cell_type": "code",
   "execution_count": null,
   "metadata": {},
   "outputs": [],
   "source": []
  },
  {
   "cell_type": "markdown",
   "metadata": {},
   "source": [
    "### 코드 확인"
   ]
  },
  {
   "cell_type": "code",
   "execution_count": 82,
   "metadata": {},
   "outputs": [
    {
     "name": "stderr",
     "output_type": "stream",
     "text": [
      "100%|██████████████████████████████████████████████████████████████████████████████████| 1/1 [28:20<00:00, 1700.45s/it]\n"
     ]
    }
   ],
   "source": [
    "user_id = []\n",
    "review = []\n",
    "score = []\n",
    "for link in tqdm(links):\n",
    "    code = link[51:]\n",
    "    ids, reply, star_score = get_reviews(code)\n",
    "    user_id.append(ids)\n",
    "    review.append(reply)\n",
    "    score.append(star_score)"
   ]
  },
  {
   "cell_type": "code",
   "execution_count": 85,
   "metadata": {},
   "outputs": [
    {
     "data": {
      "text/plain": [
       "(68580, 68580, 68580)"
      ]
     },
     "execution_count": 85,
     "metadata": {},
     "output_type": "execute_result"
    }
   ],
   "source": [
    "len(user_id[0]), len(review[0]), len(score[0])"
   ]
  },
  {
   "cell_type": "code",
   "execution_count": 96,
   "metadata": {},
   "outputs": [],
   "source": [
    "for i in range(len(movieNms)):\n",
    "    df = pd.DataFrame([user_id[i], review[i], score[i]], index=[\"user_id\", \"review\", \"score\"]).T\n",
    "    file_name = re.sub('[-=+,#/\\?:^$@*\\\"※~&%ㆍ!』\\\\‘|\\(\\)\\[\\]\\<\\>`\\'…》]', '_', f\"{movieCds[i]}_{movieNms[i]}.csv\".replace(\" \", \"\"))\n",
    "    df.to_csv(os.path.join(save_path, file_name), index=None, encoding=\"utf-8\")"
   ]
  },
  {
   "cell_type": "code",
   "execution_count": null,
   "metadata": {},
   "outputs": [],
   "source": []
  },
  {
   "cell_type": "code",
   "execution_count": null,
   "metadata": {},
   "outputs": [],
   "source": []
  },
  {
   "cell_type": "code",
   "execution_count": 64,
   "metadata": {},
   "outputs": [],
   "source": [
    "reviews = []\n",
    "for i in range(len(user_id)):\n",
    "    reviews.append(pd.DataFrame([user_id[i], review[i], score[i]], index=[\"user_id\", \"review\", \"score\"]).T)"
   ]
  },
  {
   "cell_type": "code",
   "execution_count": 72,
   "metadata": {},
   "outputs": [],
   "source": [
    "for i in range(reviews):\n",
    "    reviews[i].to_csv(os.path.join(save_path, f\"{movies.iloc[i].movieCd} {movies.iloc[i].movieNm}.csv\"), encoding=\"utf-8\")"
   ]
  },
  {
   "cell_type": "code",
   "execution_count": null,
   "metadata": {},
   "outputs": [],
   "source": []
  },
  {
   "cell_type": "code",
   "execution_count": null,
   "metadata": {},
   "outputs": [],
   "source": []
  }
 ],
 "metadata": {
  "kernelspec": {
   "display_name": "movie-inside",
   "language": "python",
   "name": "movie-inside"
  },
  "language_info": {
   "codemirror_mode": {
    "name": "ipython",
    "version": 3
   },
   "file_extension": ".py",
   "mimetype": "text/x-python",
   "name": "python",
   "nbconvert_exporter": "python",
   "pygments_lexer": "ipython3",
   "version": "3.6.9"
  }
 },
 "nbformat": 4,
 "nbformat_minor": 2
}
