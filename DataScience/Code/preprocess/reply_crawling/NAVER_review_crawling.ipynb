{
 "cells": [
  {
   "cell_type": "code",
   "execution_count": 32,
   "metadata": {},
   "outputs": [],
   "source": [
    "import os\n",
    "import sys\n",
    "import time\n",
    "import json\n",
    "\n",
    "import urllib\n",
    "import urllib.request\n",
    "import requests\n",
    "\n",
    "import pandas as pd\n",
    "from bs4 import BeautifulSoup\n",
    "\n",
    "import re\n",
    "\n",
    "from tqdm import tqdm"
   ]
  },
  {
   "cell_type": "code",
   "execution_count": 10,
   "metadata": {},
   "outputs": [],
   "source": [
    "data_path = r\"C:\\Users\\Jwp\\Desktop\\workspace\\Final_project\\DataScience\\Final_Data\\movie\\movieInfo\\hot\"\n",
    "save_path = r\"C:\\Users\\Jwp\\Desktop\\workspace\\Final_project\\DataScience\\Final_Data\\movie\\movieReview\"\n",
    "# data_path = r\"C:\\Users\\chongs\\Desktop\\git\\final_project\\DataScience\\Final_Data\\movie\\movieInfo\\all\"\n",
    "# save_path = r\"C:\\Users\\chongs\\Desktop\\git\\final_project\\DataScience\\Final_Data\\movie\\movieReview\"\n",
    "# data_path = r\"D:\\git_ec\\final_project\\DataScience\\Final_Data\\movie\\movieInfo\\all\"\n",
    "# save_path = r\"D:\\git_ec\\final_project\\DataScience\\Final_Data\\movie\\movieReview\""
   ]
  },
  {
   "cell_type": "code",
   "execution_count": 13,
   "metadata": {},
   "outputs": [],
   "source": [
    "movies = pd.read_csv(os.path.join(data_path, \"movies_hot_merged_en.csv\"), encoding=\"euc-kr\")"
   ]
  },
  {
   "cell_type": "code",
   "execution_count": 41,
   "metadata": {},
   "outputs": [
    {
     "data": {
      "text/html": [
       "<div>\n",
       "<style scoped>\n",
       "    .dataframe tbody tr th:only-of-type {\n",
       "        vertical-align: middle;\n",
       "    }\n",
       "\n",
       "    .dataframe tbody tr th {\n",
       "        vertical-align: top;\n",
       "    }\n",
       "\n",
       "    .dataframe thead th {\n",
       "        text-align: right;\n",
       "    }\n",
       "</style>\n",
       "<table border=\"1\" class=\"dataframe\">\n",
       "  <thead>\n",
       "    <tr style=\"text-align: right;\">\n",
       "      <th></th>\n",
       "      <th>movieCd</th>\n",
       "      <th>movieNm</th>\n",
       "      <th>movieNmEn</th>\n",
       "      <th>prdtYear</th>\n",
       "      <th>openDt</th>\n",
       "      <th>prdtStatNm</th>\n",
       "      <th>repGenre</th>\n",
       "      <th>genre</th>\n",
       "      <th>repNation</th>\n",
       "      <th>nations</th>\n",
       "      <th>...</th>\n",
       "      <th>directors</th>\n",
       "      <th>actors</th>\n",
       "      <th>actors_en</th>\n",
       "      <th>cast</th>\n",
       "      <th>cast_en</th>\n",
       "      <th>companyCd</th>\n",
       "      <th>companyNm</th>\n",
       "      <th>companyNmEn</th>\n",
       "      <th>companyPartNm</th>\n",
       "      <th>watchGradeNm</th>\n",
       "    </tr>\n",
       "  </thead>\n",
       "  <tbody>\n",
       "    <tr>\n",
       "      <th>0</th>\n",
       "      <td>20090834</td>\n",
       "      <td>아바타</td>\n",
       "      <td>Avatar</td>\n",
       "      <td>2009</td>\n",
       "      <td>20091217</td>\n",
       "      <td>개봉</td>\n",
       "      <td>SF</td>\n",
       "      <td>SF,액션,어드벤처</td>\n",
       "      <td>미국</td>\n",
       "      <td>미국</td>\n",
       "      <td>...</td>\n",
       "      <td>제임스 카메론</td>\n",
       "      <td>['샘 워싱턴', '조 샐다나', '시고니 위버']</td>\n",
       "      <td>['Sam Worthington', 'Zoe Saldana', 'Sigourney ...</td>\n",
       "      <td>['', '', '']</td>\n",
       "      <td>['', '', '']</td>\n",
       "      <td>['20101507', '20175001', '20100041', '20175001...</td>\n",
       "      <td>['이십세기폭스필름코퍼레이션', '주식회사 해리슨앤컴퍼니', '이십세기폭스코리아(주...</td>\n",
       "      <td>['20th Century Fox Film Corporation', 'Harriso...</td>\n",
       "      <td>['제작사', '배급사', '배급사', '수입사', '수입사']</td>\n",
       "      <td>['12세이상관람가', '12세이상관람가']</td>\n",
       "    </tr>\n",
       "    <tr>\n",
       "      <th>1</th>\n",
       "      <td>19980074</td>\n",
       "      <td>타이타닉</td>\n",
       "      <td>Titanic</td>\n",
       "      <td>1997</td>\n",
       "      <td>19980220</td>\n",
       "      <td>개봉</td>\n",
       "      <td>드라마</td>\n",
       "      <td>드라마,멜로/로맨스,액션</td>\n",
       "      <td>미국</td>\n",
       "      <td>미국</td>\n",
       "      <td>...</td>\n",
       "      <td>제임스 카메론</td>\n",
       "      <td>['레오나르도 디카프리오', '케이트 윈슬렛']</td>\n",
       "      <td>['Leonardo Dicaprio', 'Kate Winslet']</td>\n",
       "      <td>['', '']</td>\n",
       "      <td>['', '']</td>\n",
       "      <td>['20104469', '20040021', '20100041', '20142849...</td>\n",
       "      <td>['파라마운트 픽쳐스', '씨네힐', '이십세기폭스코리아(주)', '(주)영화사오원...</td>\n",
       "      <td>['Paramount Pictures', 'CINEHILL', '20th Centu...</td>\n",
       "      <td>['제작사', '배급사', '배급사', '수입사', '수입사']</td>\n",
       "      <td>['15세 미만인 자는 관람할 수 없는 등급 ', '15세이상관람가']</td>\n",
       "    </tr>\n",
       "    <tr>\n",
       "      <th>2</th>\n",
       "      <td>20129370</td>\n",
       "      <td>명량</td>\n",
       "      <td>Roaring Currents</td>\n",
       "      <td>2013</td>\n",
       "      <td>20140730</td>\n",
       "      <td>개봉</td>\n",
       "      <td>사극</td>\n",
       "      <td>사극,액션</td>\n",
       "      <td>한국</td>\n",
       "      <td>한국</td>\n",
       "      <td>...</td>\n",
       "      <td>김한민</td>\n",
       "      <td>['최민식', '류승룡', '조진웅', '김명곤', '진구', '이정현', '권율'...</td>\n",
       "      <td>['CHOI Min-shik', 'RYU Seung-ryong', 'CHO Jin-...</td>\n",
       "      <td>['이순신 ', '구루지마 ', '와키자카 ', '도도', '임준영 ', '정씨 여...</td>\n",
       "      <td>['', '', '', '', '', '', '', '', '', '', '', '...</td>\n",
       "      <td>['20123063', '20110854', '20110854', '20100109']</td>\n",
       "      <td>['(주)빅스톤픽쳐스', '씨제이이앤엠(주)', '씨제이이앤엠(주)', '씨제이엔터...</td>\n",
       "      <td>['BIGSTONEPICTURES', 'CJ ENM Corp.', 'CJ ENM C...</td>\n",
       "      <td>['제작사', '배급사', '제공', '해외세일즈사']</td>\n",
       "      <td>['15세이상관람가']</td>\n",
       "    </tr>\n",
       "    <tr>\n",
       "      <th>3</th>\n",
       "      <td>20124079</td>\n",
       "      <td>광해, 왕이 된 남자</td>\n",
       "      <td>Masquerade</td>\n",
       "      <td>2012</td>\n",
       "      <td>20120913</td>\n",
       "      <td>개봉</td>\n",
       "      <td>사극</td>\n",
       "      <td>사극,드라마</td>\n",
       "      <td>한국</td>\n",
       "      <td>한국</td>\n",
       "      <td>...</td>\n",
       "      <td>추창민</td>\n",
       "      <td>['이병헌', '류승룡', '한효주', '장광', '김인권', '심은경', '김명곤...</td>\n",
       "      <td>['LEE Byung-hun', 'RYU Seung-ryong', 'HAN Hyo-...</td>\n",
       "      <td>['광해/하선', '허균', '중전', '조내관', '도부장', '사월이', '박충...</td>\n",
       "      <td>['', '', '', '', '', '', '', '', '', '', '', '...</td>\n",
       "      <td>['20100540', '20110854', '20110854', '20110854...</td>\n",
       "      <td>['리얼라이즈픽쳐스(주)', '씨제이이앤엠(주)', '씨제이이앤엠(주)', '씨제이...</td>\n",
       "      <td>['Realies Pictures, Inc.', 'CJ ENM Corp.', 'CJ...</td>\n",
       "      <td>['제작사', '제작사', '배급사', '제공', '공동제공', '공동제공', '공...</td>\n",
       "      <td>['15세이상관람가']</td>\n",
       "    </tr>\n",
       "    <tr>\n",
       "      <th>4</th>\n",
       "      <td>20070061</td>\n",
       "      <td>트랜스포머</td>\n",
       "      <td>Transformers</td>\n",
       "      <td>2007</td>\n",
       "      <td>20070628</td>\n",
       "      <td>개봉</td>\n",
       "      <td>SF</td>\n",
       "      <td>SF,액션,어드벤처</td>\n",
       "      <td>미국</td>\n",
       "      <td>미국</td>\n",
       "      <td>...</td>\n",
       "      <td>마이클 베이</td>\n",
       "      <td>['샤이아 라보프', '메간 폭스']</td>\n",
       "      <td>['Shia LaBeouf', 'Megan Fox']</td>\n",
       "      <td>['샘 윗윅키', '']</td>\n",
       "      <td>['', '']</td>\n",
       "      <td>['20100694', '20102885', '20104469', '20100109...</td>\n",
       "      <td>['드림웍스픽쳐스', '드림웍스 SKG', '파라마운트 픽쳐스', '씨제이엔터테인먼...</td>\n",
       "      <td>['', 'DreamWorks SKG ', 'Paramount Pictures', ...</td>\n",
       "      <td>['제작사', '제작사', '제작사', '배급사', '수입사']</td>\n",
       "      <td>['12세이상관람가']</td>\n",
       "    </tr>\n",
       "  </tbody>\n",
       "</table>\n",
       "<p>5 rows × 22 columns</p>\n",
       "</div>"
      ],
      "text/plain": [
       "    movieCd      movieNm         movieNmEn  prdtYear    openDt prdtStatNm  \\\n",
       "0  20090834          아바타            Avatar      2009  20091217         개봉   \n",
       "1  19980074         타이타닉           Titanic      1997  19980220         개봉   \n",
       "2  20129370           명량  Roaring Currents      2013  20140730         개봉   \n",
       "3  20124079  광해, 왕이 된 남자        Masquerade      2012  20120913         개봉   \n",
       "4  20070061        트랜스포머      Transformers      2007  20070628         개봉   \n",
       "\n",
       "  repGenre          genre repNation nations  ... directors  \\\n",
       "0       SF     SF,액션,어드벤처        미국      미국  ...   제임스 카메론   \n",
       "1      드라마  드라마,멜로/로맨스,액션        미국      미국  ...   제임스 카메론   \n",
       "2       사극          사극,액션        한국      한국  ...       김한민   \n",
       "3       사극         사극,드라마        한국      한국  ...       추창민   \n",
       "4       SF     SF,액션,어드벤처        미국      미국  ...    마이클 베이   \n",
       "\n",
       "                                              actors  \\\n",
       "0                       ['샘 워싱턴', '조 샐다나', '시고니 위버']   \n",
       "1                         ['레오나르도 디카프리오', '케이트 윈슬렛']   \n",
       "2  ['최민식', '류승룡', '조진웅', '김명곤', '진구', '이정현', '권율'...   \n",
       "3  ['이병헌', '류승룡', '한효주', '장광', '김인권', '심은경', '김명곤...   \n",
       "4                               ['샤이아 라보프', '메간 폭스']   \n",
       "\n",
       "                                           actors_en  \\\n",
       "0  ['Sam Worthington', 'Zoe Saldana', 'Sigourney ...   \n",
       "1              ['Leonardo Dicaprio', 'Kate Winslet']   \n",
       "2  ['CHOI Min-shik', 'RYU Seung-ryong', 'CHO Jin-...   \n",
       "3  ['LEE Byung-hun', 'RYU Seung-ryong', 'HAN Hyo-...   \n",
       "4                      ['Shia LaBeouf', 'Megan Fox']   \n",
       "\n",
       "                                                cast  \\\n",
       "0                                       ['', '', '']   \n",
       "1                                           ['', '']   \n",
       "2  ['이순신 ', '구루지마 ', '와키자카 ', '도도', '임준영 ', '정씨 여...   \n",
       "3  ['광해/하선', '허균', '중전', '조내관', '도부장', '사월이', '박충...   \n",
       "4                                      ['샘 윗윅키', '']   \n",
       "\n",
       "                                             cast_en  \\\n",
       "0                                       ['', '', '']   \n",
       "1                                           ['', '']   \n",
       "2  ['', '', '', '', '', '', '', '', '', '', '', '...   \n",
       "3  ['', '', '', '', '', '', '', '', '', '', '', '...   \n",
       "4                                           ['', '']   \n",
       "\n",
       "                                           companyCd  \\\n",
       "0  ['20101507', '20175001', '20100041', '20175001...   \n",
       "1  ['20104469', '20040021', '20100041', '20142849...   \n",
       "2   ['20123063', '20110854', '20110854', '20100109']   \n",
       "3  ['20100540', '20110854', '20110854', '20110854...   \n",
       "4  ['20100694', '20102885', '20104469', '20100109...   \n",
       "\n",
       "                                           companyNm  \\\n",
       "0  ['이십세기폭스필름코퍼레이션', '주식회사 해리슨앤컴퍼니', '이십세기폭스코리아(주...   \n",
       "1  ['파라마운트 픽쳐스', '씨네힐', '이십세기폭스코리아(주)', '(주)영화사오원...   \n",
       "2  ['(주)빅스톤픽쳐스', '씨제이이앤엠(주)', '씨제이이앤엠(주)', '씨제이엔터...   \n",
       "3  ['리얼라이즈픽쳐스(주)', '씨제이이앤엠(주)', '씨제이이앤엠(주)', '씨제이...   \n",
       "4  ['드림웍스픽쳐스', '드림웍스 SKG', '파라마운트 픽쳐스', '씨제이엔터테인먼...   \n",
       "\n",
       "                                         companyNmEn  \\\n",
       "0  ['20th Century Fox Film Corporation', 'Harriso...   \n",
       "1  ['Paramount Pictures', 'CINEHILL', '20th Centu...   \n",
       "2  ['BIGSTONEPICTURES', 'CJ ENM Corp.', 'CJ ENM C...   \n",
       "3  ['Realies Pictures, Inc.', 'CJ ENM Corp.', 'CJ...   \n",
       "4  ['', 'DreamWorks SKG ', 'Paramount Pictures', ...   \n",
       "\n",
       "                                       companyPartNm  \\\n",
       "0                ['제작사', '배급사', '배급사', '수입사', '수입사']   \n",
       "1                ['제작사', '배급사', '배급사', '수입사', '수입사']   \n",
       "2                     ['제작사', '배급사', '제공', '해외세일즈사']   \n",
       "3  ['제작사', '제작사', '배급사', '제공', '공동제공', '공동제공', '공...   \n",
       "4                ['제작사', '제작사', '제작사', '배급사', '수입사']   \n",
       "\n",
       "                              watchGradeNm  \n",
       "0                 ['12세이상관람가', '12세이상관람가']  \n",
       "1  ['15세 미만인 자는 관람할 수 없는 등급 ', '15세이상관람가']  \n",
       "2                             ['15세이상관람가']  \n",
       "3                             ['15세이상관람가']  \n",
       "4                             ['12세이상관람가']  \n",
       "\n",
       "[5 rows x 22 columns]"
      ]
     },
     "execution_count": 41,
     "metadata": {},
     "output_type": "execute_result"
    }
   ],
   "source": [
    "movies[:5]"
   ]
  },
  {
   "cell_type": "code",
   "execution_count": 16,
   "metadata": {},
   "outputs": [],
   "source": [
    "def progress_bar(i, total):\n",
    "    k = i/total*100\n",
    "    star = \"*\"*int(k/2.5)\n",
    "    print(\"Processing: {}/{} [{:.1f}%] {}\".format(i, total, k, star), end=\"\\r\")"
   ]
  },
  {
   "cell_type": "code",
   "execution_count": 37,
   "metadata": {},
   "outputs": [],
   "source": [
    "def get_naverApi(movieNm, openDt, director):\n",
    "    \n",
    "    client_id = \"JjcGyzzf5rjyFKNPCTxG\"\n",
    "    client_secret = \"MDi_1o76AT\"\n",
    "    encText = urllib.parse.quote(f\"{movieNm}\")\n",
    "    url = \"https://openapi.naver.com/v1/search/movie?query=\" + encText + f\"&yearfrom={openDt-1}&yearto={openDt}\"\n",
    "    request = urllib.request.Request(url)\n",
    "\n",
    "    request.add_header(\"X-Naver-Client-Id\",client_id)\n",
    "    request.add_header(\"X-Naver-Client-Secret\",client_secret)\n",
    "\n",
    "    response = urllib.request.urlopen(request)\n",
    "    rescode = response.getcode()\n",
    "\n",
    "    if(rescode == 200):\n",
    "        html = response.read().decode(\"utf-8\")\n",
    "        parse = json.loads(html)\n",
    "                \n",
    "        if parse[\"items\"] == []:\n",
    "            link = \"\"\n",
    "            \n",
    "            \n",
    "        else:\n",
    "            if len(parse[\"items\"]) > 1:\n",
    "                for i, item in enumerate(parse[\"items\"]):\n",
    "                    if director in item[\"director\"]:\n",
    "                        idx = i\n",
    "                    elif item[\"pubDate\"] == str(openDt):\n",
    "                        idx = i\n",
    "                    else:\n",
    "                        idx = 0\n",
    "            else:\n",
    "                 idx = 0\n",
    "            \n",
    "            info = parse[\"items\"][idx]\n",
    "            link = info[\"link\"]\n",
    "            \n",
    "    else:\n",
    "        link = \"\"\n",
    "    \n",
    "    return movieNm, link"
   ]
  },
  {
   "cell_type": "code",
   "execution_count": 38,
   "metadata": {},
   "outputs": [],
   "source": [
    "def load_naverMovie(movie_list):\n",
    "    movie_list.openDt = movie_list.openDt.astype(str)\n",
    "    ls = movie_list[[\"movieCd\",\"movieNm\", \"openDt\", \"directors\"]].values\n",
    "    \n",
    "    i = 1\n",
    "    total = len(ls)\n",
    "    links = []\n",
    "    movieNms = []\n",
    "    movieCds = []\n",
    "    for v in ls:\n",
    "        movieNm, link = get_naverApi(v[1], int(v[2][:4]), v[3].split(\" \")[0].split(\",\")[0])\n",
    "        code = v[0]\n",
    "        links.append(link)\n",
    "        movieNms.append(movieNm)\n",
    "        movieCds.append(code)\n",
    "        progress_bar(i, total)\n",
    "        i += 1\n",
    "        time.sleep(0.1)\n",
    "\n",
    "    print()\n",
    "    print(\"complete!\")\n",
    "    \n",
    "    return movieCds, movieNms, links"
   ]
  },
  {
   "cell_type": "code",
   "execution_count": 19,
   "metadata": {},
   "outputs": [],
   "source": [
    "movieNm, link = get_naverApi(\"타이타닉\", 1997, \"제임스 카메론\")"
   ]
  },
  {
   "cell_type": "code",
   "execution_count": 21,
   "metadata": {},
   "outputs": [
    {
     "data": {
      "text/plain": [
       "('타이타닉', 'https://movie.naver.com/movie/bi/mi/basic.nhn?code=18847')"
      ]
     },
     "execution_count": 21,
     "metadata": {},
     "output_type": "execute_result"
    }
   ],
   "source": [
    "movieNm, link"
   ]
  },
  {
   "cell_type": "code",
   "execution_count": 121,
   "metadata": {},
   "outputs": [],
   "source": [
    "naver_movie_code = link[51:]"
   ]
  },
  {
   "cell_type": "code",
   "execution_count": 39,
   "metadata": {},
   "outputs": [],
   "source": [
    "def get_reviews(naver_movie_code):\n",
    "    target_url = f'https://movie.naver.com/movie/bi/mi/pointWriteFormList.nhn?code={naver_movie_code}&type=after&isActualPointWriteExecute=false&isMileageSubscriptionAlready=false&isMileageSubscriptionReject=false'\n",
    "    soup = BeautifulSoup(urllib.request.urlopen(target_url).read(), \"html.parser\")\n",
    "    review_total = soup.find(\"div\",class_=\"score_total\")\n",
    "    \n",
    "#     review가 없는 경우는 아무것도 리턴하지 않는다\n",
    "    if review_total is not None:\n",
    "        number = review_total.find('em').text\n",
    "        number = int(re.sub(',', '', number))\n",
    "        page_num = number //10\n",
    "\n",
    "        user_id = []\n",
    "        review = []\n",
    "        score = []\n",
    "        \n",
    "        for page in range(1, page_num):\n",
    "            target_url_page = target_url + '&page={}'.format(page)\n",
    "            soup = BeautifulSoup(urllib.request.urlopen(target_url_page).read(), \"html.parser\")\n",
    "            review_divs = soup.find_all('div',class_='score_reple')\n",
    "            score_divs = soup.find_all('div', class_=\"star_score\")\n",
    "            for spans in review_divs:\n",
    "                txt = spans.find('p').text.strip()\n",
    "                if txt is not None:\n",
    "                    review.append(txt)\n",
    "                else:\n",
    "                    review.append('')\n",
    "            for spans in review_divs:\n",
    "                dl = spans.find('dl')\n",
    "                if dl is not None:\n",
    "                    user = dl.find('span').text\n",
    "                    user_id.append(user)\n",
    "                else:\n",
    "                    user_id.append('')\n",
    "            for span in score_divs:\n",
    "                if span is not None:\n",
    "                    s = span.find('em').text.strip()\n",
    "                    score.append(s)\n",
    "                else:\n",
    "                    score.append('')\n",
    "            \n",
    "        return user_id, review, score\n",
    "    else:\n",
    "        return [\"\", \"\", \"\"]"
   ]
  },
  {
   "cell_type": "code",
   "execution_count": 73,
   "metadata": {},
   "outputs": [
    {
     "name": "stdout",
     "output_type": "stream",
     "text": [
      "Processing: 5/5 [100.0%] ****************************************\n",
      "complete!\n"
     ]
    }
   ],
   "source": [
    "movieCds, movieNms, links = load_naverMovie(movies[5:10])"
   ]
  },
  {
   "cell_type": "code",
   "execution_count": 75,
   "metadata": {},
   "outputs": [
    {
     "data": {
      "text/plain": [
       "['어벤져스: 엔드게임', '알라딘', '7번방의 선물', '겨울왕국', '어바웃 타임']"
      ]
     },
     "execution_count": 75,
     "metadata": {},
     "output_type": "execute_result"
    }
   ],
   "source": [
    "movieNms"
   ]
  },
  {
   "cell_type": "code",
   "execution_count": null,
   "metadata": {},
   "outputs": [
    {
     "name": "stderr",
     "output_type": "stream",
     "text": [
      "\n",
      "  0%|                                                                                            | 0/5 [00:00<?, ?it/s]"
     ]
    }
   ],
   "source": [
    "user_id = []\n",
    "review = []\n",
    "score = []\n",
    "for link in tqdm(links):\n",
    "    code = link[51:]\n",
    "    ids, reply, star_score = get_reviews(code)\n",
    "    user_id.append(ids)\n",
    "    review.append(reply)\n",
    "    score.append(star_score)"
   ]
  },
  {
   "cell_type": "code",
   "execution_count": 58,
   "metadata": {},
   "outputs": [
    {
     "data": {
      "text/plain": [
       "(40940, 40940, 40940)"
      ]
     },
     "execution_count": 58,
     "metadata": {},
     "output_type": "execute_result"
    }
   ],
   "source": [
    "len(user_id[0]), len(review[0]), len(score[0])"
   ]
  },
  {
   "cell_type": "code",
   "execution_count": null,
   "metadata": {},
   "outputs": [],
   "source": [
    "for i in range(5):\n",
    "    df = pd.DataFrame([user_id[i], review[i], score[i]], index=[\"user_id\", \"review\", \"score\"]).T\n",
    "    df.to_csv(os.path.join(save_path, f\"{movieCds[i]}_{movieNms[i]}.csv\"), index=None, encoding=\"utf-8\")"
   ]
  },
  {
   "cell_type": "code",
   "execution_count": 64,
   "metadata": {},
   "outputs": [],
   "source": [
    "reviews = []\n",
    "for i in range(5):\n",
    "    reviews.append(pd.DataFrame([user_id[i], review[i], score[i]], index=[\"user_id\", \"review\", \"score\"]).T)"
   ]
  },
  {
   "cell_type": "code",
   "execution_count": 72,
   "metadata": {},
   "outputs": [],
   "source": [
    "for i in range(5):\n",
    "    reviews[i].to_csv(os.path.join(save_path, f\"{movies.iloc[i].movieCd} {movies.iloc[i].movieNm}.csv\"), encoding=\"utf-8\")"
   ]
  },
  {
   "cell_type": "code",
   "execution_count": null,
   "metadata": {},
   "outputs": [],
   "source": []
  },
  {
   "cell_type": "code",
   "execution_count": null,
   "metadata": {},
   "outputs": [],
   "source": []
  },
  {
   "cell_type": "code",
   "execution_count": null,
   "metadata": {},
   "outputs": [],
   "source": []
  },
  {
   "cell_type": "code",
   "execution_count": null,
   "metadata": {},
   "outputs": [],
   "source": []
  },
  {
   "cell_type": "code",
   "execution_count": null,
   "metadata": {},
   "outputs": [],
   "source": []
  }
 ],
 "metadata": {
  "kernelspec": {
   "display_name": "movie-inside",
   "language": "python",
   "name": "movie-inside"
  },
  "language_info": {
   "codemirror_mode": {
    "name": "ipython",
    "version": 3
   },
   "file_extension": ".py",
   "mimetype": "text/x-python",
   "name": "python",
   "nbconvert_exporter": "python",
   "pygments_lexer": "ipython3",
   "version": "3.6.9"
  }
 },
 "nbformat": 4,
 "nbformat_minor": 2
}
