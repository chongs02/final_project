{
 "cells": [
  {
   "cell_type": "code",
   "execution_count": 3,
   "metadata": {},
   "outputs": [],
   "source": [
    "import os\n",
    "import time\n",
    "import pandas as pd\n",
    "import requests\n",
    "\n",
    "from bs4 import BeautifulSoup"
   ]
  },
  {
   "cell_type": "code",
   "execution_count": 4,
   "metadata": {},
   "outputs": [],
   "source": [
    "url = \"https://movie.naver.com/movie/bi/mi/pointWriteFormList.nhn?code=18847&type=after&isActualPointWriteExecute=false&isMileageSubscriptionAlready=false&isMileageSubscriptionReject=false&page=2\""
   ]
  },
  {
   "cell_type": "code",
   "execution_count": 5,
   "metadata": {},
   "outputs": [],
   "source": [
    "save_path = r\"C:\\Users\\Jwp\\Desktop\\workspace\\Final_project\\DataScience\\Final_Data\\reply_crwaling\""
   ]
  },
  {
   "cell_type": "code",
   "execution_count": null,
   "metadata": {},
   "outputs": [],
   "source": []
  },
  {
   "cell_type": "code",
   "execution_count": 14,
   "metadata": {},
   "outputs": [
    {
     "data": {
      "text/plain": [
       "200"
      ]
     },
     "execution_count": 14,
     "metadata": {},
     "output_type": "execute_result"
    }
   ],
   "source": [
    "res = requests.get(url)\n",
    "res.status_code"
   ]
  },
  {
   "cell_type": "code",
   "execution_count": 9,
   "metadata": {},
   "outputs": [],
   "source": [
    "html = res.text"
   ]
  },
  {
   "cell_type": "code",
   "execution_count": 10,
   "metadata": {},
   "outputs": [],
   "source": [
    "soup = BeautifulSoup(html, \"html.parser\")"
   ]
  },
  {
   "cell_type": "code",
   "execution_count": 22,
   "metadata": {},
   "outputs": [
    {
     "data": {
      "text/plain": [
       "'10'"
      ]
     },
     "execution_count": 22,
     "metadata": {},
     "output_type": "execute_result"
    }
   ],
   "source": [
    "score = soup.find('div', {'class': 'star_score'}).find('em').text"
   ]
  },
  {
   "cell_type": "code",
   "execution_count": 35,
   "metadata": {},
   "outputs": [
    {
     "data": {
      "text/plain": [
       "'카메론의 최고작은 아바타가 아닌 타이타닉'"
      ]
     },
     "execution_count": 35,
     "metadata": {},
     "output_type": "execute_result"
    }
   ],
   "source": [
    "reply = soup.find('div', {'class':'score_reple'}).find('p').text.strip('\\n\\r\\t. ')"
   ]
  },
  {
   "cell_type": "code",
   "execution_count": 30,
   "metadata": {},
   "outputs": [
    {
     "data": {
      "text/plain": [
       "'anst****'"
      ]
     },
     "execution_count": 30,
     "metadata": {},
     "output_type": "execute_result"
    }
   ],
   "source": [
    "user_id = soup.find('div', {'class':'score_reple'}).find('dt').find('span').text"
   ]
  },
  {
   "cell_type": "code",
   "execution_count": 38,
   "metadata": {},
   "outputs": [],
   "source": [
    "div_score = soup.find_all('div', {'class': 'star_score'})"
   ]
  },
  {
   "cell_type": "code",
   "execution_count": 40,
   "metadata": {},
   "outputs": [],
   "source": [
    "div_reply = soup.find_all('div', {'class':'score_reple'})"
   ]
  },
  {
   "cell_type": "code",
   "execution_count": 39,
   "metadata": {},
   "outputs": [
    {
     "name": "stdout",
     "output_type": "stream",
     "text": [
      "10\n",
      "10\n",
      "10\n",
      "8\n",
      "10\n",
      "10\n",
      "10\n",
      "10\n",
      "10\n",
      "10\n"
     ]
    }
   ],
   "source": [
    "for score in div_score:\n",
    "    print(score.find('em').text)"
   ]
  },
  {
   "cell_type": "code",
   "execution_count": 41,
   "metadata": {},
   "outputs": [
    {
     "name": "stdout",
     "output_type": "stream",
     "text": [
      "카메론의 최고작은 아바타가 아닌 타이타닉\n",
      "anst****\n",
      "앞으로 어떤 영화도 따라 잡지 못할 절대불변의 최고 명작\n",
      "엠비윈(best****)\n",
      "진짜 100점을 줘도 아깝지않음..여태 왜 이걸 안보고있었을까..저렇게 잭과 로즈처럼 운명적인 사랑을 만날수있었으면\n",
      "굿모씨(dizi****)\n",
      "가장 기억에 남는 건 배가 떨어질 때도 악사들이 계속 연주하던 것\n",
      "꿍아(swh1****)\n",
      "초딩 땐 슬픈 건지도 몰랐는데.. 대학생 되고 보니 눈에 눈물이 고이더라\n",
      "피아(ling****)\n",
      "타이타닉이란 영화를 볼수있다는 것이 정말 감사하다\n",
      "박태희(yons****)\n",
      "최고의 감독이 선사하는 최고의 각본과 연출 아름다운 여주인공 케이트 윈슬렛, 그녀보다 아름다운 미모를 가진 레오나르도 디카프리오의 연기력 정말 완벽한 다시는 없을 최고의 로맨스 영화\n",
      "천옌시(vic4****)\n",
      "영화역사상 최고의 명작\n",
      "BRENDAN(hanm****)\n",
      "잭과 로즈의 로맨스도 좋았지만 사람들이 뛰어들고 매달리는걸 보면서 진짜 마음 아팠어요 특히 아기랑 죽은 아빠 시신...ㅠㅠ 보고 울음\n",
      "s980****\n",
      "10점 만점의 10점.이게 왜 10점이 아니지?10점도 부족하다\n",
      "zinn****\n"
     ]
    }
   ],
   "source": [
    "for v in div_reply:\n",
    "    print(v.find('p').text.strip('\\n\\r\\t. '))\n",
    "    print(v.find('dt').find('span').text)"
   ]
  },
  {
   "cell_type": "code",
   "execution_count": null,
   "metadata": {},
   "outputs": [],
   "source": []
  }
 ],
 "metadata": {
  "kernelspec": {
   "display_name": "movie-inside",
   "language": "python",
   "name": "movie-inside"
  },
  "language_info": {
   "codemirror_mode": {
    "name": "ipython",
    "version": 3
   },
   "file_extension": ".py",
   "mimetype": "text/x-python",
   "name": "python",
   "nbconvert_exporter": "python",
   "pygments_lexer": "ipython3",
   "version": "3.6.9"
  }
 },
 "nbformat": 4,
 "nbformat_minor": 2
}
