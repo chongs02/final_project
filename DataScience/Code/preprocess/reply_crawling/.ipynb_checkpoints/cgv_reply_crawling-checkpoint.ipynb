{
 "cells": [
  {
   "cell_type": "code",
   "execution_count": 1,
   "metadata": {},
   "outputs": [],
   "source": [
    "import os\n",
    "import time\n",
    "import pandas as pd\n",
    "\n",
    "from selenium import webdriver\n",
    "from selenium.webdriver.common.action_chains import ActionChains"
   ]
  },
  {
   "cell_type": "code",
   "execution_count": 22,
   "metadata": {},
   "outputs": [],
   "source": [
    "# save_path = r\"C:\\Users\\Jwp\\Desktop\\workspace\\DataScience_Final_Project\\Final_Data\\reply_crwaling\"\n",
    "save_path = r\"D:\\workspace-Jwp\\DataScience_Final_Project\\Final_Data\\reply_crwaling\""
   ]
  },
  {
   "cell_type": "code",
   "execution_count": 5,
   "metadata": {},
   "outputs": [],
   "source": [
    "chrome_path = r\"D:\\workspace-Jwp\\DataScience_Final_Project\\Etc\\chromedriver\"\n",
    "# chrome_path = r\"C:\\Users\\Jwp\\Desktop\\workspace\\DataScience_Final_Project\\Etc\\chromedriver\""
   ]
  },
  {
   "cell_type": "code",
   "execution_count": 16,
   "metadata": {},
   "outputs": [],
   "source": [
    "# phantomjs_path = r\"D:\\workspace-Jwp\\DataScience_Final_Project\\Etc\\phantomjs-2.1.1-windows\\bin\\phantomjs\"\n",
    "# phantomjs_path = r\"C:\\Users\\Jwp\\Desktop\\workspace\\DataScience_Final_Project\\Etc\\phantomjs-2.1.1-windows\\bin\\phantomjs\""
   ]
  },
  {
   "cell_type": "code",
   "execution_count": 6,
   "metadata": {},
   "outputs": [],
   "source": [
    "url = f\"http://www.cgv.co.kr/movies/detail-view/?midx=82377#1\""
   ]
  },
  {
   "cell_type": "code",
   "execution_count": 16,
   "metadata": {},
   "outputs": [],
   "source": [
    "def cgv_reply(chrome_path, url, pages):\n",
    "    \n",
    "    driver = webdriver.Chrome(chrome_path)\n",
    "\n",
    "    action = ActionChains(driver)\n",
    "    driver.maximize_window()\n",
    "\n",
    "    delay = 0.8\n",
    "\n",
    "    replies = []\n",
    "    for i in range(pages):\n",
    "        time.sleep(delay)\n",
    "        driver.get(url)\n",
    "\n",
    "        time.sleep(delay)\n",
    "        button = driver.find_element_by_xpath(\"//div[@class='paging']\")\n",
    "        page = button.find_elements_by_tag_name('a')  # elements -> 복수\n",
    "\n",
    "        time.sleep(delay)\n",
    "        page[i].click()\n",
    "\n",
    "        time.sleep(delay)\n",
    "        body = driver.find_element_by_xpath(\"//ul[@id='movie_point_list_container']\")\n",
    "\n",
    "        for p in body.find_elements_by_tag_name('p'):\n",
    "            replies.append(p.text)\n",
    "        \n",
    "    return replies"
   ]
  },
  {
   "cell_type": "code",
   "execution_count": 17,
   "metadata": {},
   "outputs": [],
   "source": [
    "replies = cgv_reply(chrome_path, url, 4)"
   ]
  },
  {
   "cell_type": "code",
   "execution_count": 18,
   "metadata": {},
   "outputs": [
    {
     "data": {
      "text/plain": [
       "['살아가는데 힘들고 이해는 되지만~~ 그렇다고 그렇게 무서운일은 현실에서 없어야 허는맘이네요~~~슬프지만 그렇다고 그렇게 잔인하게~~~병적인 영화는 시로요~~ㅠㅠ',\n",
       " '너무너무 좋았습니다ㅠㅠ',\n",
       " '계단 씬이 장난아니었어요',\n",
       " '영화가 좀 찜찜했지만 주연 배우가 성범죄자라는게 더 찜찜',\n",
       " '재밌긴한데 생각만큼은 아니었음...소름돋는 부분이 없진않은데 캐릭터에 대한 몰입보다는 분위기와 음악으로 인한게 컸음',\n",
       " '연기 잘하네요 처음 웃음이 거슬렸던 이유 중간에 웃음이 조금 더 하이 톤이 된 이유 마지막 웃음 모든게 극의 흐름과 관계 있다니... 극에서 말하는 하층민들이 웨인가문을 어떻게 바라보는 지 또한 그 들의 위선도 자세하게 보여주는 군요.',\n",
       " '생각이 많아지는 영화인것같아요.',\n",
       " '재미없네요 재미없네요..',\n",
       " '띵작넘좋앗어용엉옹엉',\n",
       " '괜히 봤어요 ㅠㅠ 보다 나가고 싶었음',\n",
       " '다음 이야기가 궁금해지네요~',\n",
       " '우울한 분위기와 주인공에 대한 섬세한 묘사가 돋보입니다 디렉팅한 감독과 조커역의 배우가 극한의 상황에 몰린 인간성을 표현하고자 애쓴 만큼 먹먹함을 느낍니다',\n",
       " '우울한 분위기와 주인공에 대한 섬세한 묘사가 돋보입니다 디렉팅한 감독과 조커역의 배우가 극한의 상황에 몰린 인간성을 표현하고자 애쓴 만큼 먹먹함을 느낍니다',\n",
       " '보고나면 기분 이상해요...',\n",
       " '기대한것 보단 그냥 그랬어요.',\n",
       " '기대하고봤는데 중간까지는 흥미진진하게 봄 그 후부터는 뭐지.. 끝나고나면 감동도 재미도 남는것도 없이 정신소모만 함. 연기력과 카메라는 100점. SNS에서 너무 추켜세운듯(?)',\n",
       " '생각보다는 별로 너무 지루했음',\n",
       " '너무 자극적이고 잔인해요',\n",
       " '대박조와요 연기 정말정말 좋아요',\n",
       " '호아킨 피닉스의 조커. 어디까지가 망상이고 현실일까',\n",
       " '잘봤어요잘봤어요!!',\n",
       " '생각보다 재미있었어요.',\n",
       " '미국에서 봤으면 밖에 못 돌아다녔을 듯',\n",
       " '배우!연기력 굿!굿!']"
      ]
     },
     "execution_count": 18,
     "metadata": {},
     "output_type": "execute_result"
    }
   ],
   "source": [
    "replies"
   ]
  },
  {
   "cell_type": "code",
   "execution_count": null,
   "metadata": {},
   "outputs": [],
   "source": []
  },
  {
   "cell_type": "code",
   "execution_count": null,
   "metadata": {},
   "outputs": [],
   "source": []
  },
  {
   "cell_type": "code",
   "execution_count": null,
   "metadata": {},
   "outputs": [],
   "source": []
  },
  {
   "cell_type": "code",
   "execution_count": null,
   "metadata": {},
   "outputs": [],
   "source": []
  },
  {
   "cell_type": "code",
   "execution_count": 11,
   "metadata": {},
   "outputs": [],
   "source": [
    "def cgv_reply2(chrome_path, phantomjs_path, pages):\n",
    "    driver = webdriver.Chrome(chrome_path)\n",
    "    dirver = webdriver.PhantomJS(phantomjs_path)\n",
    "    \n",
    "    replies = []\n",
    "    for page in range(1, pages+1):\n",
    "        url = f\"http://www.cgv.co.kr/movies/detail-view/?midx=82377#{page}\"\n",
    "        driver.get(url)\n",
    "\n",
    "        body = driver.find_element_by_xpath(\"//div[@class='wrap-persongrade']\")\n",
    "        for p in body.find_elements_by_tag_name('p'):\n",
    "            replies.append(p.text)\n",
    "            \n",
    "    return replies"
   ]
  },
  {
   "cell_type": "code",
   "execution_count": 20,
   "metadata": {},
   "outputs": [],
   "source": [
    "replies = cgv_reply2(chrome_path, phantomjs_path, 200)"
   ]
  },
  {
   "cell_type": "code",
   "execution_count": 23,
   "metadata": {},
   "outputs": [
    {
     "data": {
      "text/plain": [
       "['조커 캐릭터가 원래 이랬나....연기는 괜찮았는데 각본이....흠..',\n",
       " '슬프고 아름답고 코믹하다',\n",
       " '19금이 아니라 15금이라는 게 충격적인 영화. 조커가 불쌍하게 보이기는 처음이다. 이걸 찍고 호아킨 피닉스의 정신세계는 온전할까.',\n",
       " '재밌었어요! 분위기가 정말 장난 아닌 것 같아요',\n",
       " '숨쉬기가 힘든 긴장감 굿']"
      ]
     },
     "execution_count": 23,
     "metadata": {},
     "output_type": "execute_result"
    }
   ],
   "source": [
    "replies[:5]"
   ]
  },
  {
   "cell_type": "code",
   "execution_count": 19,
   "metadata": {},
   "outputs": [],
   "source": [
    "rep_df = pd.DataFrame(replies)"
   ]
  },
  {
   "cell_type": "code",
   "execution_count": 20,
   "metadata": {},
   "outputs": [
    {
     "data": {
      "text/html": [
       "<div>\n",
       "<style scoped>\n",
       "    .dataframe tbody tr th:only-of-type {\n",
       "        vertical-align: middle;\n",
       "    }\n",
       "\n",
       "    .dataframe tbody tr th {\n",
       "        vertical-align: top;\n",
       "    }\n",
       "\n",
       "    .dataframe thead th {\n",
       "        text-align: right;\n",
       "    }\n",
       "</style>\n",
       "<table border=\"1\" class=\"dataframe\">\n",
       "  <thead>\n",
       "    <tr style=\"text-align: right;\">\n",
       "      <th></th>\n",
       "      <th>0</th>\n",
       "    </tr>\n",
       "  </thead>\n",
       "  <tbody>\n",
       "    <tr>\n",
       "      <td>0</td>\n",
       "      <td>살아가는데 힘들고 이해는 되지만~~ 그렇다고 그렇게 무서운일은 현실에서 없어야 허는...</td>\n",
       "    </tr>\n",
       "    <tr>\n",
       "      <td>1</td>\n",
       "      <td>너무너무 좋았습니다ㅠㅠ</td>\n",
       "    </tr>\n",
       "    <tr>\n",
       "      <td>2</td>\n",
       "      <td>계단 씬이 장난아니었어요</td>\n",
       "    </tr>\n",
       "    <tr>\n",
       "      <td>3</td>\n",
       "      <td>영화가 좀 찜찜했지만 주연 배우가 성범죄자라는게 더 찜찜</td>\n",
       "    </tr>\n",
       "    <tr>\n",
       "      <td>4</td>\n",
       "      <td>재밌긴한데 생각만큼은 아니었음...소름돋는 부분이 없진않은데 캐릭터에 대한 몰입보다...</td>\n",
       "    </tr>\n",
       "    <tr>\n",
       "      <td>5</td>\n",
       "      <td>연기 잘하네요 처음 웃음이 거슬렸던 이유 중간에 웃음이 조금 더 하이 톤이 된 이유...</td>\n",
       "    </tr>\n",
       "    <tr>\n",
       "      <td>6</td>\n",
       "      <td>생각이 많아지는 영화인것같아요.</td>\n",
       "    </tr>\n",
       "    <tr>\n",
       "      <td>7</td>\n",
       "      <td>재미없네요 재미없네요..</td>\n",
       "    </tr>\n",
       "    <tr>\n",
       "      <td>8</td>\n",
       "      <td>띵작넘좋앗어용엉옹엉</td>\n",
       "    </tr>\n",
       "    <tr>\n",
       "      <td>9</td>\n",
       "      <td>괜히 봤어요 ㅠㅠ 보다 나가고 싶었음</td>\n",
       "    </tr>\n",
       "    <tr>\n",
       "      <td>10</td>\n",
       "      <td>다음 이야기가 궁금해지네요~</td>\n",
       "    </tr>\n",
       "    <tr>\n",
       "      <td>11</td>\n",
       "      <td>우울한 분위기와 주인공에 대한 섬세한 묘사가 돋보입니다 디렉팅한 감독과 조커역의 배...</td>\n",
       "    </tr>\n",
       "    <tr>\n",
       "      <td>12</td>\n",
       "      <td>우울한 분위기와 주인공에 대한 섬세한 묘사가 돋보입니다 디렉팅한 감독과 조커역의 배...</td>\n",
       "    </tr>\n",
       "    <tr>\n",
       "      <td>13</td>\n",
       "      <td>보고나면 기분 이상해요...</td>\n",
       "    </tr>\n",
       "    <tr>\n",
       "      <td>14</td>\n",
       "      <td>기대한것 보단 그냥 그랬어요.</td>\n",
       "    </tr>\n",
       "    <tr>\n",
       "      <td>15</td>\n",
       "      <td>기대하고봤는데 중간까지는 흥미진진하게 봄 그 후부터는 뭐지.. 끝나고나면 감동도 재...</td>\n",
       "    </tr>\n",
       "    <tr>\n",
       "      <td>16</td>\n",
       "      <td>생각보다는 별로 너무 지루했음</td>\n",
       "    </tr>\n",
       "    <tr>\n",
       "      <td>17</td>\n",
       "      <td>너무 자극적이고 잔인해요</td>\n",
       "    </tr>\n",
       "    <tr>\n",
       "      <td>18</td>\n",
       "      <td>대박조와요 연기 정말정말 좋아요</td>\n",
       "    </tr>\n",
       "    <tr>\n",
       "      <td>19</td>\n",
       "      <td>호아킨 피닉스의 조커. 어디까지가 망상이고 현실일까</td>\n",
       "    </tr>\n",
       "    <tr>\n",
       "      <td>20</td>\n",
       "      <td>잘봤어요잘봤어요!!</td>\n",
       "    </tr>\n",
       "    <tr>\n",
       "      <td>21</td>\n",
       "      <td>생각보다 재미있었어요.</td>\n",
       "    </tr>\n",
       "    <tr>\n",
       "      <td>22</td>\n",
       "      <td>미국에서 봤으면 밖에 못 돌아다녔을 듯</td>\n",
       "    </tr>\n",
       "    <tr>\n",
       "      <td>23</td>\n",
       "      <td>배우!연기력 굿!굿!</td>\n",
       "    </tr>\n",
       "  </tbody>\n",
       "</table>\n",
       "</div>"
      ],
      "text/plain": [
       "                                                    0\n",
       "0   살아가는데 힘들고 이해는 되지만~~ 그렇다고 그렇게 무서운일은 현실에서 없어야 허는...\n",
       "1                                        너무너무 좋았습니다ㅠㅠ\n",
       "2                                       계단 씬이 장난아니었어요\n",
       "3                     영화가 좀 찜찜했지만 주연 배우가 성범죄자라는게 더 찜찜\n",
       "4   재밌긴한데 생각만큼은 아니었음...소름돋는 부분이 없진않은데 캐릭터에 대한 몰입보다...\n",
       "5   연기 잘하네요 처음 웃음이 거슬렸던 이유 중간에 웃음이 조금 더 하이 톤이 된 이유...\n",
       "6                                   생각이 많아지는 영화인것같아요.\n",
       "7                                       재미없네요 재미없네요..\n",
       "8                                          띵작넘좋앗어용엉옹엉\n",
       "9                                괜히 봤어요 ㅠㅠ 보다 나가고 싶었음\n",
       "10                                    다음 이야기가 궁금해지네요~\n",
       "11  우울한 분위기와 주인공에 대한 섬세한 묘사가 돋보입니다 디렉팅한 감독과 조커역의 배...\n",
       "12  우울한 분위기와 주인공에 대한 섬세한 묘사가 돋보입니다 디렉팅한 감독과 조커역의 배...\n",
       "13                                    보고나면 기분 이상해요...\n",
       "14                                   기대한것 보단 그냥 그랬어요.\n",
       "15  기대하고봤는데 중간까지는 흥미진진하게 봄 그 후부터는 뭐지.. 끝나고나면 감동도 재...\n",
       "16                                   생각보다는 별로 너무 지루했음\n",
       "17                                      너무 자극적이고 잔인해요\n",
       "18                                  대박조와요 연기 정말정말 좋아요\n",
       "19                       호아킨 피닉스의 조커. 어디까지가 망상이고 현실일까\n",
       "20                                         잘봤어요잘봤어요!!\n",
       "21                                       생각보다 재미있었어요.\n",
       "22                              미국에서 봤으면 밖에 못 돌아다녔을 듯\n",
       "23                                        배우!연기력 굿!굿!"
      ]
     },
     "execution_count": 20,
     "metadata": {},
     "output_type": "execute_result"
    }
   ],
   "source": [
    "rep_df"
   ]
  },
  {
   "cell_type": "code",
   "execution_count": 23,
   "metadata": {},
   "outputs": [],
   "source": [
    "rep_df.to_csv(os.path.join(save_path, \"cgv_joker.csv\"), index=None, encoding=\"euc-kr\")"
   ]
  },
  {
   "cell_type": "code",
   "execution_count": 24,
   "metadata": {},
   "outputs": [
    {
     "data": {
      "text/html": [
       "<div>\n",
       "<style scoped>\n",
       "    .dataframe tbody tr th:only-of-type {\n",
       "        vertical-align: middle;\n",
       "    }\n",
       "\n",
       "    .dataframe tbody tr th {\n",
       "        vertical-align: top;\n",
       "    }\n",
       "\n",
       "    .dataframe thead th {\n",
       "        text-align: right;\n",
       "    }\n",
       "</style>\n",
       "<table border=\"1\" class=\"dataframe\">\n",
       "  <thead>\n",
       "    <tr style=\"text-align: right;\">\n",
       "      <th></th>\n",
       "      <th>0</th>\n",
       "    </tr>\n",
       "  </thead>\n",
       "  <tbody>\n",
       "    <tr>\n",
       "      <td>0</td>\n",
       "      <td>살아가는데 힘들고 이해는 되지만~~ 그렇다고 그렇게 무서운일은 현실에서 없어야 허는...</td>\n",
       "    </tr>\n",
       "    <tr>\n",
       "      <td>1</td>\n",
       "      <td>너무너무 좋았습니다ㅠㅠ</td>\n",
       "    </tr>\n",
       "    <tr>\n",
       "      <td>2</td>\n",
       "      <td>계단 씬이 장난아니었어요</td>\n",
       "    </tr>\n",
       "    <tr>\n",
       "      <td>3</td>\n",
       "      <td>영화가 좀 찜찜했지만 주연 배우가 성범죄자라는게 더 찜찜</td>\n",
       "    </tr>\n",
       "    <tr>\n",
       "      <td>4</td>\n",
       "      <td>재밌긴한데 생각만큼은 아니었음...소름돋는 부분이 없진않은데 캐릭터에 대한 몰입보다...</td>\n",
       "    </tr>\n",
       "    <tr>\n",
       "      <td>5</td>\n",
       "      <td>연기 잘하네요 처음 웃음이 거슬렸던 이유 중간에 웃음이 조금 더 하이 톤이 된 이유...</td>\n",
       "    </tr>\n",
       "    <tr>\n",
       "      <td>6</td>\n",
       "      <td>생각이 많아지는 영화인것같아요.</td>\n",
       "    </tr>\n",
       "    <tr>\n",
       "      <td>7</td>\n",
       "      <td>재미없네요 재미없네요..</td>\n",
       "    </tr>\n",
       "    <tr>\n",
       "      <td>8</td>\n",
       "      <td>띵작넘좋앗어용엉옹엉</td>\n",
       "    </tr>\n",
       "    <tr>\n",
       "      <td>9</td>\n",
       "      <td>괜히 봤어요 ㅠㅠ 보다 나가고 싶었음</td>\n",
       "    </tr>\n",
       "    <tr>\n",
       "      <td>10</td>\n",
       "      <td>다음 이야기가 궁금해지네요~</td>\n",
       "    </tr>\n",
       "    <tr>\n",
       "      <td>11</td>\n",
       "      <td>우울한 분위기와 주인공에 대한 섬세한 묘사가 돋보입니다 디렉팅한 감독과 조커역의 배...</td>\n",
       "    </tr>\n",
       "    <tr>\n",
       "      <td>12</td>\n",
       "      <td>우울한 분위기와 주인공에 대한 섬세한 묘사가 돋보입니다 디렉팅한 감독과 조커역의 배...</td>\n",
       "    </tr>\n",
       "    <tr>\n",
       "      <td>13</td>\n",
       "      <td>보고나면 기분 이상해요...</td>\n",
       "    </tr>\n",
       "    <tr>\n",
       "      <td>14</td>\n",
       "      <td>기대한것 보단 그냥 그랬어요.</td>\n",
       "    </tr>\n",
       "    <tr>\n",
       "      <td>15</td>\n",
       "      <td>기대하고봤는데 중간까지는 흥미진진하게 봄 그 후부터는 뭐지.. 끝나고나면 감동도 재...</td>\n",
       "    </tr>\n",
       "    <tr>\n",
       "      <td>16</td>\n",
       "      <td>생각보다는 별로 너무 지루했음</td>\n",
       "    </tr>\n",
       "    <tr>\n",
       "      <td>17</td>\n",
       "      <td>너무 자극적이고 잔인해요</td>\n",
       "    </tr>\n",
       "    <tr>\n",
       "      <td>18</td>\n",
       "      <td>대박조와요 연기 정말정말 좋아요</td>\n",
       "    </tr>\n",
       "    <tr>\n",
       "      <td>19</td>\n",
       "      <td>호아킨 피닉스의 조커. 어디까지가 망상이고 현실일까</td>\n",
       "    </tr>\n",
       "  </tbody>\n",
       "</table>\n",
       "</div>"
      ],
      "text/plain": [
       "                                                    0\n",
       "0   살아가는데 힘들고 이해는 되지만~~ 그렇다고 그렇게 무서운일은 현실에서 없어야 허는...\n",
       "1                                        너무너무 좋았습니다ㅠㅠ\n",
       "2                                       계단 씬이 장난아니었어요\n",
       "3                     영화가 좀 찜찜했지만 주연 배우가 성범죄자라는게 더 찜찜\n",
       "4   재밌긴한데 생각만큼은 아니었음...소름돋는 부분이 없진않은데 캐릭터에 대한 몰입보다...\n",
       "5   연기 잘하네요 처음 웃음이 거슬렸던 이유 중간에 웃음이 조금 더 하이 톤이 된 이유...\n",
       "6                                   생각이 많아지는 영화인것같아요.\n",
       "7                                       재미없네요 재미없네요..\n",
       "8                                          띵작넘좋앗어용엉옹엉\n",
       "9                                괜히 봤어요 ㅠㅠ 보다 나가고 싶었음\n",
       "10                                    다음 이야기가 궁금해지네요~\n",
       "11  우울한 분위기와 주인공에 대한 섬세한 묘사가 돋보입니다 디렉팅한 감독과 조커역의 배...\n",
       "12  우울한 분위기와 주인공에 대한 섬세한 묘사가 돋보입니다 디렉팅한 감독과 조커역의 배...\n",
       "13                                    보고나면 기분 이상해요...\n",
       "14                                   기대한것 보단 그냥 그랬어요.\n",
       "15  기대하고봤는데 중간까지는 흥미진진하게 봄 그 후부터는 뭐지.. 끝나고나면 감동도 재...\n",
       "16                                   생각보다는 별로 너무 지루했음\n",
       "17                                      너무 자극적이고 잔인해요\n",
       "18                                  대박조와요 연기 정말정말 좋아요\n",
       "19                       호아킨 피닉스의 조커. 어디까지가 망상이고 현실일까"
      ]
     },
     "execution_count": 24,
     "metadata": {},
     "output_type": "execute_result"
    }
   ],
   "source": [
    "rep_df[:20]"
   ]
  },
  {
   "cell_type": "code",
   "execution_count": null,
   "metadata": {},
   "outputs": [],
   "source": []
  }
 ],
 "metadata": {
  "kernelspec": {
   "display_name": "movie-inside",
   "language": "python",
   "name": "movie-inside"
  },
  "language_info": {
   "codemirror_mode": {
    "name": "ipython",
    "version": 3
   },
   "file_extension": ".py",
   "mimetype": "text/x-python",
   "name": "python",
   "nbconvert_exporter": "python",
   "pygments_lexer": "ipython3",
   "version": "3.6.9"
  }
 },
 "nbformat": 4,
 "nbformat_minor": 2
}
