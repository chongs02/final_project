{
 "cells": [
  {
   "cell_type": "code",
   "execution_count": 1,
   "metadata": {},
   "outputs": [],
   "source": [
    "import os\n",
    "import sys\n",
    "import time\n",
    "import json\n",
    "\n",
    "import urllib\n",
    "import urllib.request\n",
    "import requests\n",
    "\n",
    "import pandas as pd\n",
    "from bs4 import BeautifulSoup\n",
    "\n",
    "import re\n",
    "\n",
    "from tqdm import tqdm"
   ]
  },
  {
   "cell_type": "code",
   "execution_count": 5,
   "metadata": {},
   "outputs": [],
   "source": [
    "# data_path = r\"C:\\Users\\Jwp\\Desktop\\workspace\\Final_project\\DataScience\\Final_Data\\movie\\movieInfo\\hot\"\n",
    "# save_path = r\"C:\\Users\\Jwp\\Desktop\\workspace\\Final_project\\DataScience\\Final_Data\\movie\\movieReview\"\n",
    "data_path = r\"C:\\Users\\chongs\\Desktop\\git\\final_project\\DataScience\\Final_Data\\movie\\movieInfo\\hot\"\n",
    "save_path = r\"C:\\Users\\chongs\\Desktop\\git\\final_project\\DataScience\\Final_Data\\movie\\movieReview\"\n",
    "# data_path = r\"D:\\git_ec\\final_project\\DataScience\\Final_Data\\movie\\movieInfo\\all\"\n",
    "# save_path = r\"D:\\git_ec\\final_project\\DataScience\\Final_Data\\movie\\movieReview\""
   ]
  },
  {
   "cell_type": "code",
   "execution_count": 6,
   "metadata": {},
   "outputs": [],
   "source": [
    "movies = pd.read_csv(os.path.join(data_path, \"movies_hot_merged_en.csv\"), encoding=\"euc-kr\")"
   ]
  },
  {
   "cell_type": "code",
   "execution_count": 8,
   "metadata": {},
   "outputs": [],
   "source": [
    "def progress_bar(i, total):\n",
    "    k = i/total*100\n",
    "    star = \"*\"*int(k/2.5)\n",
    "    print(\"Processing: {}/{} [{:.1f}%] {}\".format(i, total, k, star), end=\"\\r\")"
   ]
  },
  {
   "cell_type": "code",
   "execution_count": 9,
   "metadata": {},
   "outputs": [],
   "source": [
    "def get_naverApi(movieNm, openDt, director):\n",
    "    \n",
    "    client_id = \"JjcGyzzf5rjyFKNPCTxG\"\n",
    "    client_secret = \"MDi_1o76AT\"\n",
    "    encText = urllib.parse.quote(f\"{movieNm}\")\n",
    "    url = \"https://openapi.naver.com/v1/search/movie?query=\" + encText + f\"&yearfrom={openDt-1}&yearto={openDt}\"\n",
    "    request = urllib.request.Request(url)\n",
    "\n",
    "    request.add_header(\"X-Naver-Client-Id\",client_id)\n",
    "    request.add_header(\"X-Naver-Client-Secret\",client_secret)\n",
    "\n",
    "    response = urllib.request.urlopen(request)\n",
    "    rescode = response.getcode()\n",
    "\n",
    "    if(rescode == 200):\n",
    "        html = response.read().decode(\"utf-8\")\n",
    "        parse = json.loads(html)\n",
    "                \n",
    "        if parse[\"items\"] == []:\n",
    "            link = \"\"\n",
    "            \n",
    "            \n",
    "        else:\n",
    "            if len(parse[\"items\"]) > 1:\n",
    "                for i, item in enumerate(parse[\"items\"]):\n",
    "                    if director in item[\"director\"]:\n",
    "                        idx = i\n",
    "                    elif item[\"pubDate\"] == str(openDt):\n",
    "                        idx = i\n",
    "                    else:\n",
    "                        idx = 0\n",
    "            else:\n",
    "                 idx = 0\n",
    "            \n",
    "            info = parse[\"items\"][idx]\n",
    "            link = info[\"link\"]\n",
    "            \n",
    "    else:\n",
    "        link = \"\"\n",
    "    \n",
    "    return movieNm, link"
   ]
  },
  {
   "cell_type": "code",
   "execution_count": 10,
   "metadata": {},
   "outputs": [],
   "source": [
    "def load_naverMovie(movie_list):\n",
    "    movie_list.openDt = movie_list.openDt.astype(str)\n",
    "    ls = movie_list[[\"movieCd\",\"movieNm\", \"openDt\", \"directors\"]].values\n",
    "    \n",
    "    i = 1\n",
    "    total = len(ls)\n",
    "    links = []\n",
    "    movieNms = []\n",
    "    movieCds = []\n",
    "    for v in ls:\n",
    "        movieNm, link = get_naverApi(v[1], int(v[2][:4]), v[3].split(\" \")[0].split(\",\")[0])\n",
    "        code = v[0]\n",
    "        links.append(link)\n",
    "        movieNms.append(movieNm)\n",
    "        movieCds.append(code)\n",
    "        progress_bar(i, total)\n",
    "        i += 1\n",
    "        time.sleep(0.1)\n",
    "\n",
    "    print()\n",
    "    print(\"complete!\")\n",
    "    \n",
    "    return movieCds, movieNms, links"
   ]
  },
  {
   "cell_type": "code",
   "execution_count": 11,
   "metadata": {},
   "outputs": [],
   "source": [
    "movieNm, link = get_naverApi(\"타이타닉\", 1997, \"제임스 카메론\")"
   ]
  },
  {
   "cell_type": "code",
   "execution_count": 12,
   "metadata": {},
   "outputs": [
    {
     "data": {
      "text/plain": [
       "('타이타닉', 'https://movie.naver.com/movie/bi/mi/basic.nhn?code=18847')"
      ]
     },
     "execution_count": 12,
     "metadata": {},
     "output_type": "execute_result"
    }
   ],
   "source": [
    "movieNm, link"
   ]
  },
  {
   "cell_type": "code",
   "execution_count": 121,
   "metadata": {},
   "outputs": [],
   "source": [
    "naver_movie_code = link[51:]"
   ]
  },
  {
   "cell_type": "code",
   "execution_count": 13,
   "metadata": {},
   "outputs": [],
   "source": [
    "target_url = 'https://movie.naver.com/movie/bi/mi/basic.nhn?code=179482'"
   ]
  },
  {
   "cell_type": "code",
   "execution_count": 14,
   "metadata": {},
   "outputs": [],
   "source": [
    "soup = BeautifulSoup(urllib.request.urlopen(target_url).read(), \"html.parser\")"
   ]
  },
  {
   "cell_type": "code",
   "execution_count": null,
   "metadata": {},
   "outputs": [],
   "source": [
    "review_total = soup.find(\"div\",class_=\"score_total\")"
   ]
  },
  {
   "cell_type": "code",
   "execution_count": null,
   "metadata": {},
   "outputs": [],
   "source": []
  },
  {
   "cell_type": "code",
   "execution_count": null,
   "metadata": {},
   "outputs": [],
   "source": []
  },
  {
   "cell_type": "code",
   "execution_count": null,
   "metadata": {},
   "outputs": [],
   "source": []
  },
  {
   "cell_type": "code",
   "execution_count": 39,
   "metadata": {},
   "outputs": [],
   "source": [
    "def get_reviews(naver_movie_code):\n",
    "    target_url = f'https://movie.naver.com/movie/bi/mi/pointWriteFormList.nhn?code={naver_movie_code}&type=after&isActualPointWriteExecute=false&isMileageSubscriptionAlready=false&isMileageSubscriptionReject=false'\n",
    "    soup = BeautifulSoup(urllib.request.urlopen(target_url).read(), \"html.parser\")\n",
    "    review_total = soup.find(\"div\",class_=\"score_total\")\n",
    "    \n",
    "#     review가 없는 경우는 아무것도 리턴하지 않는다\n",
    "    if review_total is not None:\n",
    "        number = review_total.find('em').text\n",
    "        number = int(re.sub(',', '', number))\n",
    "        page_num = number //10\n",
    "\n",
    "        user_id = []\n",
    "        review = []\n",
    "        score = []\n",
    "        \n",
    "        for page in range(1, page_num):\n",
    "            target_url_page = target_url + '&page={}'.format(page)\n",
    "            soup = BeautifulSoup(urllib.request.urlopen(target_url_page).read(), \"html.parser\")\n",
    "            review_divs = soup.find_all('div',class_='score_reple')\n",
    "            score_divs = soup.find_all('div', class_=\"star_score\")\n",
    "            for spans in review_divs:\n",
    "                txt = spans.find('p').text.strip()\n",
    "                if txt is not None:\n",
    "                    review.append(txt)\n",
    "                else:\n",
    "                    review.append('')\n",
    "            for spans in review_divs:\n",
    "                dl = spans.find('dl')\n",
    "                if dl is not None:\n",
    "                    user = dl.find('span').text\n",
    "                    user_id.append(user)\n",
    "                else:\n",
    "                    user_id.append('')\n",
    "            for span in score_divs:\n",
    "                if span is not None:\n",
    "                    s = span.find('em').text.strip()\n",
    "                    score.append(s)\n",
    "                else:\n",
    "                    score.append('')\n",
    "            \n",
    "        return user_id, review, score\n",
    "    else:\n",
    "        return [\"\", \"\", \"\"]"
   ]
  },
  {
   "cell_type": "code",
   "execution_count": 73,
   "metadata": {},
   "outputs": [
    {
     "name": "stdout",
     "output_type": "stream",
     "text": [
      "Processing: 5/5 [100.0%] ****************************************\n",
      "complete!\n"
     ]
    }
   ],
   "source": [
    "movieCds, movieNms, links = load_naverMovie(movies[5:10])"
   ]
  },
  {
   "cell_type": "code",
   "execution_count": 75,
   "metadata": {},
   "outputs": [
    {
     "data": {
      "text/plain": [
       "['어벤져스: 엔드게임', '알라딘', '7번방의 선물', '겨울왕국', '어바웃 타임']"
      ]
     },
     "execution_count": 75,
     "metadata": {},
     "output_type": "execute_result"
    }
   ],
   "source": [
    "movieNms"
   ]
  },
  {
   "cell_type": "code",
   "execution_count": null,
   "metadata": {},
   "outputs": [
    {
     "name": "stderr",
     "output_type": "stream",
     "text": [
      "\n",
      "  0%|                                                                                            | 0/5 [00:00<?, ?it/s]"
     ]
    }
   ],
   "source": [
    "user_id = []\n",
    "review = []\n",
    "score = []\n",
    "for link in tqdm(links):\n",
    "    code = link[51:]\n",
    "    ids, reply, star_score = get_reviews(code)\n",
    "    user_id.append(ids)\n",
    "    review.append(reply)\n",
    "    score.append(star_score)"
   ]
  },
  {
   "cell_type": "code",
   "execution_count": 58,
   "metadata": {},
   "outputs": [
    {
     "data": {
      "text/plain": [
       "(40940, 40940, 40940)"
      ]
     },
     "execution_count": 58,
     "metadata": {},
     "output_type": "execute_result"
    }
   ],
   "source": [
    "len(user_id[0]), len(review[0]), len(score[0])"
   ]
  },
  {
   "cell_type": "code",
   "execution_count": null,
   "metadata": {},
   "outputs": [],
   "source": [
    "for i in range(5):\n",
    "    df = pd.DataFrame([user_id[i], review[i], score[i]], index=[\"user_id\", \"review\", \"score\"]).T\n",
    "    df.to_csv(os.path.join(save_path, f\"{movieCds[i]} {movieNms[i]}.csv\"), encoding=\"utf-8\")"
   ]
  },
  {
   "cell_type": "code",
   "execution_count": 64,
   "metadata": {},
   "outputs": [],
   "source": [
    "reviews = []\n",
    "for i in range(5):\n",
    "    reviews.append(pd.DataFrame([user_id[i], review[i], score[i]], index=[\"user_id\", \"review\", \"score\"]).T)"
   ]
  },
  {
   "cell_type": "code",
   "execution_count": 72,
   "metadata": {},
   "outputs": [],
   "source": [
    "for i in range(5):\n",
    "    reviews[i].to_csv(os.path.join(save_path, f\"{movies.iloc[i].movieCd} {movies.iloc[i].movieNm}.csv\"), encoding=\"utf-8\")"
   ]
  },
  {
   "cell_type": "code",
   "execution_count": null,
   "metadata": {},
   "outputs": [],
   "source": []
  },
  {
   "cell_type": "code",
   "execution_count": null,
   "metadata": {},
   "outputs": [],
   "source": []
  },
  {
   "cell_type": "code",
   "execution_count": null,
   "metadata": {},
   "outputs": [],
   "source": []
  },
  {
   "cell_type": "code",
   "execution_count": null,
   "metadata": {},
   "outputs": [],
   "source": []
  },
  {
   "cell_type": "code",
   "execution_count": null,
   "metadata": {},
   "outputs": [],
   "source": []
  }
 ],
 "metadata": {
  "kernelspec": {
   "display_name": "mypython",
   "language": "python",
   "name": "myenv"
  },
  "language_info": {
   "codemirror_mode": {
    "name": "ipython",
    "version": 3
   },
   "file_extension": ".py",
   "mimetype": "text/x-python",
   "name": "python",
   "nbconvert_exporter": "python",
   "pygments_lexer": "ipython3",
   "version": "3.6.5"
  }
 },
 "nbformat": 4,
 "nbformat_minor": 2
}
