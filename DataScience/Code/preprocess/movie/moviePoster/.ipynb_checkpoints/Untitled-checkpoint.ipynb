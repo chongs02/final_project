{
 "cells": [
  {
   "cell_type": "code",
   "execution_count": 79,
   "metadata": {},
   "outputs": [],
   "source": [
    "import os\n",
    "import sys\n",
    "import urllib.request\n",
    "import requests\n",
    "import json\n",
    "\n",
    "from bs4 import BeautifulSoup"
   ]
  },
  {
   "cell_type": "code",
   "execution_count": 125,
   "metadata": {},
   "outputs": [],
   "source": [
    "def get_posterUrl(movieNm, prdtYear):\n",
    "    \n",
    "    client_id = \"JjcGyzzf5rjyFKNPCTxG\"\n",
    "    client_secret = \"MDi_1o76AT\"\n",
    "    encText = urllib.parse.quote(f\"{movieNm} {prdtYear}\")\n",
    "    url = \"https://openapi.naver.com/v1/search/movie?query=\" + encText + \"&display=10\" # json 결과\n",
    "    request = urllib.request.Request(url)\n",
    "\n",
    "    request.add_header(\"X-Naver-Client-Id\",client_id)\n",
    "    request.add_header(\"X-Naver-Client-Secret\",client_secret)\n",
    "\n",
    "    response = urllib.request.urlopen(request)\n",
    "    rescode = response.getcode()\n",
    "\n",
    "    if(rescode==200):\n",
    "        html = response.read().decode(\"utf-8\")\n",
    "        parse = json.loads(html)\n",
    "        posterUrl = parse[\"items\"][0][\"image\"]\n",
    "    else:\n",
    "        print(\"Error Code:\" + rescode)\n",
    "    \n",
    "    return posterUrl"
   ]
  },
  {
   "cell_type": "code",
   "execution_count": 126,
   "metadata": {},
   "outputs": [
    {
     "data": {
      "text/plain": [
       "'https://ssl.pstatic.net/imgmovie/mdi/mit110/0622/62266_P115_110943.jpg'"
      ]
     },
     "execution_count": 126,
     "metadata": {},
     "output_type": "execute_result"
    }
   ],
   "source": [
    "get_posterUrl(\"아바타\", 2009)"
   ]
  },
  {
   "cell_type": "code",
   "execution_count": 127,
   "metadata": {},
   "outputs": [
    {
     "data": {
      "text/plain": [
       "{'lastBuildDate': 'Tue, 22 Oct 2019 18:07:21 +0900',\n",
       " 'total': 1,\n",
       " 'start': 1,\n",
       " 'display': 1,\n",
       " 'items': [{'title': '<b>아바타</b>',\n",
       "   'link': 'https://movie.naver.com/movie/bi/mi/basic.nhn?code=62266',\n",
       "   'image': 'https://ssl.pstatic.net/imgmovie/mdi/mit110/0622/62266_P115_110943.jpg',\n",
       "   'subtitle': 'Avatar',\n",
       "   'pubDate': '2009',\n",
       "   'director': '제임스 카메론|',\n",
       "   'actor': '샘 워싱턴|조 샐다나|시고니 위버|스티븐 랭|',\n",
       "   'userRating': '9.07'}]}"
      ]
     },
     "execution_count": 127,
     "metadata": {},
     "output_type": "execute_result"
    }
   ],
   "source": [
    "parse"
   ]
  },
  {
   "cell_type": "code",
   "execution_count": null,
   "metadata": {},
   "outputs": [],
   "source": []
  }
 ],
 "metadata": {
  "kernelspec": {
   "display_name": "movie-inside",
   "language": "python",
   "name": "movie-inside"
  },
  "language_info": {
   "codemirror_mode": {
    "name": "ipython",
    "version": 3
   },
   "file_extension": ".py",
   "mimetype": "text/x-python",
   "name": "python",
   "nbconvert_exporter": "python",
   "pygments_lexer": "ipython3",
   "version": "3.6.9"
  }
 },
 "nbformat": 4,
 "nbformat_minor": 2
}
