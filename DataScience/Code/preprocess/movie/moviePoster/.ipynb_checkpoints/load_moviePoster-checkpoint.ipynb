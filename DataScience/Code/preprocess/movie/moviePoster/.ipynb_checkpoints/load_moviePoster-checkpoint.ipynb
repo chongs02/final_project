{
 "cells": [
  {
   "cell_type": "code",
   "execution_count": 23,
   "metadata": {},
   "outputs": [],
   "source": [
    "import requests\n",
    "import numpy as np\n",
    "import pandas as pd\n",
    "import matplotlib.pyplot as plt\n",
    "import lxml\n",
    "from bs4 import BeautifulSoup\n",
    "import os\n",
    "import json"
   ]
  },
  {
   "cell_type": "code",
   "execution_count": 5,
   "metadata": {},
   "outputs": [],
   "source": [
    "save_path = r\"C:\\Users\\Jwp\\Desktop\\workspace\\Final_Project\\DataScience\\Final_Data\\movie\\moviePoster\""
   ]
  },
  {
   "cell_type": "code",
   "execution_count": 196,
   "metadata": {},
   "outputs": [],
   "source": [
    "def load_Poster(pages):\n",
    "    \n",
    "    moviePoster = pd.DataFrame()\n",
    "    \n",
    "    for page in range(1, pages+1):\n",
    "        url = f\"http://175.125.91.94/openapi/service/rest/meta/KFApost?numOfRows=200&pageNo={page}\"\n",
    "        res = requests.get(url)\n",
    "        soup = BeautifulSoup(res.text, \"html.parser\")\n",
    "        tmp = soup.find_all(\"item\")\n",
    "        \n",
    "        movieNm = []\n",
    "        movieNmEn = []\n",
    "        posters = []\n",
    "        for i in range(len(tmp)):\n",
    "            try:\n",
    "                movieNm.append(tmp[i].find('title').text)\n",
    "            except:\n",
    "                movieNm.append(\"\")\n",
    "            try:\n",
    "                movieNmEn.append(tmp[i].find('alternativetitle').text)\n",
    "            except:\n",
    "                movieNmEn.append(\"\")\n",
    "            try:\n",
    "                posters.append(tmp[i].find('referenceidentifier').text)\n",
    "            except:\n",
    "                posters.append(\"\")\n",
    "                \n",
    "        posters = pd.DataFrame([movieNm, movieNmEn, posters]).T\n",
    "        moviePoster = pd.concat([moviePoster, posters], axis=0)\n",
    "    \n",
    "    moviePoster.columns = [\"movieNm\", \"movieNmEn\", \"posterUrl\"]\n",
    "    \n",
    "    return moviePoster"
   ]
  },
  {
   "cell_type": "code",
   "execution_count": 197,
   "metadata": {},
   "outputs": [],
   "source": [
    "moviePoster = load_Poster(1)"
   ]
  },
  {
   "cell_type": "code",
   "execution_count": 199,
   "metadata": {},
   "outputs": [
    {
     "data": {
      "text/html": [
       "<div>\n",
       "<style scoped>\n",
       "    .dataframe tbody tr th:only-of-type {\n",
       "        vertical-align: middle;\n",
       "    }\n",
       "\n",
       "    .dataframe tbody tr th {\n",
       "        vertical-align: top;\n",
       "    }\n",
       "\n",
       "    .dataframe thead th {\n",
       "        text-align: right;\n",
       "    }\n",
       "</style>\n",
       "<table border=\"1\" class=\"dataframe\">\n",
       "  <thead>\n",
       "    <tr style=\"text-align: right;\">\n",
       "      <th></th>\n",
       "      <th>movieNm</th>\n",
       "      <th>movieNmEn</th>\n",
       "      <th>posterUrl</th>\n",
       "    </tr>\n",
       "  </thead>\n",
       "  <tbody>\n",
       "    <tr>\n",
       "      <td>195</td>\n",
       "      <td>화해</td>\n",
       "      <td>Make Peace (Hwahae)</td>\n",
       "      <td>http://file.koreafilm.or.kr/thm/02/00/05/32/TN...</td>\n",
       "    </tr>\n",
       "    <tr>\n",
       "      <td>196</td>\n",
       "      <td>볼펜 잡듯이</td>\n",
       "      <td>Lily (Bolpen japdeusi)</td>\n",
       "      <td>http://file.koreafilm.or.kr/thm/02/00/05/32/TN...</td>\n",
       "    </tr>\n",
       "    <tr>\n",
       "      <td>197</td>\n",
       "      <td>Neglected</td>\n",
       "      <td>Neglected (Hwageun)</td>\n",
       "      <td>http://file.koreafilm.or.kr/thm/02/00/05/32/TN...</td>\n",
       "    </tr>\n",
       "    <tr>\n",
       "      <td>198</td>\n",
       "      <td>여왕의 집</td>\n",
       "      <td>House of the Queen (Yeowangui jip)</td>\n",
       "      <td>http://file.koreafilm.or.kr/thm/02/00/05/32/TN...</td>\n",
       "    </tr>\n",
       "    <tr>\n",
       "      <td>199</td>\n",
       "      <td>얘네들 MONEY?!</td>\n",
       "      <td>What's Up with These Kids? (Yaenedeul MONEY?!)</td>\n",
       "      <td>http://file.koreafilm.or.kr/thm/02/00/05/32/TN...</td>\n",
       "    </tr>\n",
       "  </tbody>\n",
       "</table>\n",
       "</div>"
      ],
      "text/plain": [
       "         movieNm                                       movieNmEn  \\\n",
       "195           화해                             Make Peace (Hwahae)   \n",
       "196       볼펜 잡듯이                          Lily (Bolpen japdeusi)   \n",
       "197    Neglected                             Neglected (Hwageun)   \n",
       "198        여왕의 집              House of the Queen (Yeowangui jip)   \n",
       "199  얘네들 MONEY?!  What's Up with These Kids? (Yaenedeul MONEY?!)   \n",
       "\n",
       "                                             posterUrl  \n",
       "195  http://file.koreafilm.or.kr/thm/02/00/05/32/TN...  \n",
       "196  http://file.koreafilm.or.kr/thm/02/00/05/32/TN...  \n",
       "197  http://file.koreafilm.or.kr/thm/02/00/05/32/TN...  \n",
       "198  http://file.koreafilm.or.kr/thm/02/00/05/32/TN...  \n",
       "199  http://file.koreafilm.or.kr/thm/02/00/05/32/TN...  "
      ]
     },
     "execution_count": 199,
     "metadata": {},
     "output_type": "execute_result"
    }
   ],
   "source": [
    "moviePoster.tail()"
   ]
  },
  {
   "cell_type": "code",
   "execution_count": null,
   "metadata": {},
   "outputs": [],
   "source": []
  },
  {
   "cell_type": "code",
   "execution_count": null,
   "metadata": {},
   "outputs": [],
   "source": []
  }
 ],
 "metadata": {
  "kernelspec": {
   "display_name": "movie-inside",
   "language": "python",
   "name": "movie-inside"
  },
  "language_info": {
   "codemirror_mode": {
    "name": "ipython",
    "version": 3
   },
   "file_extension": ".py",
   "mimetype": "text/x-python",
   "name": "python",
   "nbconvert_exporter": "python",
   "pygments_lexer": "ipython3",
   "version": "3.6.9"
  }
 },
 "nbformat": 4,
 "nbformat_minor": 2
}
