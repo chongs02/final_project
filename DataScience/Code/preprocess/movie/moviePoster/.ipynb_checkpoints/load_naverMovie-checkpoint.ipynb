{
 "cells": [
  {
   "cell_type": "markdown",
   "metadata": {},
   "source": [
    "## Naver API 포스터, 평점 정보 로드"
   ]
  },
  {
   "cell_type": "code",
   "execution_count": 131,
   "metadata": {},
   "outputs": [],
   "source": [
    "import os\n",
    "import sys\n",
    "import time\n",
    "import json\n",
    "\n",
    "import urllib\n",
    "import urllib.request\n",
    "import requests\n",
    "\n",
    "import pandas as pd\n",
    "from bs4 import BeautifulSoup"
   ]
  },
  {
   "cell_type": "code",
   "execution_count": 114,
   "metadata": {},
   "outputs": [],
   "source": [
    "data_path = r\"C:\\Users\\Jwp\\Desktop\\workspace\\Final_project\\DataScience\\Final_Data\\movie\\movieInfo\\all\"\n",
    "save_path = r\"C:\\Users\\Jwp\\Desktop\\workspace\\Final_Project\\DataScience\\Final_Data\\movie\\moviePoster\""
   ]
  },
  {
   "cell_type": "code",
   "execution_count": 123,
   "metadata": {},
   "outputs": [],
   "source": [
    "movies = pd.read_csv(os.path.join(data_path, \"movie_list_all.csv\"), encoding=\"utf-8\")"
   ]
  },
  {
   "cell_type": "code",
   "execution_count": 124,
   "metadata": {},
   "outputs": [
    {
     "data": {
      "text/plain": [
       "19874"
      ]
     },
     "execution_count": 124,
     "metadata": {},
     "output_type": "execute_result"
    }
   ],
   "source": [
    "len(movies)"
   ]
  },
  {
   "cell_type": "code",
   "execution_count": 128,
   "metadata": {},
   "outputs": [
    {
     "data": {
      "text/html": [
       "<div>\n",
       "<style scoped>\n",
       "    .dataframe tbody tr th:only-of-type {\n",
       "        vertical-align: middle;\n",
       "    }\n",
       "\n",
       "    .dataframe tbody tr th {\n",
       "        vertical-align: top;\n",
       "    }\n",
       "\n",
       "    .dataframe thead th {\n",
       "        text-align: right;\n",
       "    }\n",
       "</style>\n",
       "<table border=\"1\" class=\"dataframe\">\n",
       "  <thead>\n",
       "    <tr style=\"text-align: right;\">\n",
       "      <th></th>\n",
       "      <th>movieCd</th>\n",
       "      <th>movieNm</th>\n",
       "      <th>movieNmEn</th>\n",
       "      <th>prdtYear</th>\n",
       "      <th>openDt</th>\n",
       "      <th>typeNm</th>\n",
       "      <th>prdtStatNm</th>\n",
       "      <th>nationAlt</th>\n",
       "      <th>genreAlt</th>\n",
       "      <th>repNationNm</th>\n",
       "      <th>repGenreNm</th>\n",
       "      <th>directors</th>\n",
       "      <th>companyCd</th>\n",
       "      <th>companyNm</th>\n",
       "    </tr>\n",
       "  </thead>\n",
       "  <tbody>\n",
       "    <tr>\n",
       "      <th>0</th>\n",
       "      <td>20196285</td>\n",
       "      <td>오만</td>\n",
       "      <td>Huris</td>\n",
       "      <td>2019</td>\n",
       "      <td>20190905</td>\n",
       "      <td>장편</td>\n",
       "      <td>개봉</td>\n",
       "      <td>한국</td>\n",
       "      <td>드라마</td>\n",
       "      <td>한국</td>\n",
       "      <td>드라마</td>\n",
       "      <td>지일주</td>\n",
       "      <td>('20156848', ' ', ' ', ' ', ' ', ' ', ' ', ' '...</td>\n",
       "      <td>('(주)백그림', ' ', ' ', ' ', ' ', ' ', ' ', ' ', ...</td>\n",
       "    </tr>\n",
       "    <tr>\n",
       "      <th>1</th>\n",
       "      <td>20183407</td>\n",
       "      <td>버티고</td>\n",
       "      <td>Vertigo</td>\n",
       "      <td>2019</td>\n",
       "      <td>20191016</td>\n",
       "      <td>장편</td>\n",
       "      <td>개봉</td>\n",
       "      <td>한국</td>\n",
       "      <td>드라마,멜로/로맨스</td>\n",
       "      <td>한국</td>\n",
       "      <td>드라마</td>\n",
       "      <td>전계수</td>\n",
       "      <td>('20100414', ' ', ' ', ' ', ' ', ' ', ' ', ' '...</td>\n",
       "      <td>('영화사 도로시(주)', ' ', ' ', ' ', ' ', ' ', ' ', '...</td>\n",
       "    </tr>\n",
       "    <tr>\n",
       "      <th>2</th>\n",
       "      <td>20199428</td>\n",
       "      <td>크롤</td>\n",
       "      <td>CRAWL</td>\n",
       "      <td>2019</td>\n",
       "      <td>20191127</td>\n",
       "      <td>장편</td>\n",
       "      <td>개봉예정</td>\n",
       "      <td>미국</td>\n",
       "      <td>액션,스릴러</td>\n",
       "      <td>미국</td>\n",
       "      <td>액션</td>\n",
       "      <td>알렉산더 아야</td>\n",
       "      <td>(' ', ' ', ' ', ' ', ' ', ' ', ' ', ' ', ' ', ...</td>\n",
       "      <td>(' ', ' ', ' ', ' ', ' ', ' ', ' ', ' ', ' ', ...</td>\n",
       "    </tr>\n",
       "    <tr>\n",
       "      <th>3</th>\n",
       "      <td>20191029</td>\n",
       "      <td>82년생 김지영</td>\n",
       "      <td>KIM JI-YOUNG, BORN 1982</td>\n",
       "      <td>2019</td>\n",
       "      <td>20191023</td>\n",
       "      <td>장편</td>\n",
       "      <td>개봉</td>\n",
       "      <td>한국</td>\n",
       "      <td>드라마</td>\n",
       "      <td>한국</td>\n",
       "      <td>드라마</td>\n",
       "      <td>김도영</td>\n",
       "      <td>('20192181', ' ', ' ', ' ', ' ', ' ', ' ', ' '...</td>\n",
       "      <td>('(주)봄바람영화사', ' ', ' ', ' ', ' ', ' ', ' ', ' ...</td>\n",
       "    </tr>\n",
       "    <tr>\n",
       "      <th>4</th>\n",
       "      <td>20149501</td>\n",
       "      <td>사선의 끝</td>\n",
       "      <td>The Threshold of Death</td>\n",
       "      <td>2019</td>\n",
       "      <td>20191030</td>\n",
       "      <td>장편</td>\n",
       "      <td>개봉예정</td>\n",
       "      <td>한국</td>\n",
       "      <td>드라마</td>\n",
       "      <td>한국</td>\n",
       "      <td>드라마</td>\n",
       "      <td>이은상</td>\n",
       "      <td>('20124237', ' ', ' ', ' ', ' ', ' ', ' ', ' '...</td>\n",
       "      <td>('(주)엠씨엠씨', ' ', ' ', ' ', ' ', ' ', ' ', ' ',...</td>\n",
       "    </tr>\n",
       "  </tbody>\n",
       "</table>\n",
       "</div>"
      ],
      "text/plain": [
       "    movieCd   movieNm                 movieNmEn  prdtYear    openDt typeNm  \\\n",
       "0  20196285        오만                     Huris      2019  20190905     장편   \n",
       "1  20183407       버티고                   Vertigo      2019  20191016     장편   \n",
       "2  20199428        크롤                     CRAWL      2019  20191127     장편   \n",
       "3  20191029  82년생 김지영  KIM JI-YOUNG, BORN 1982       2019  20191023     장편   \n",
       "4  20149501     사선의 끝    The Threshold of Death      2019  20191030     장편   \n",
       "\n",
       "  prdtStatNm nationAlt    genreAlt repNationNm repGenreNm directors  \\\n",
       "0         개봉        한국         드라마          한국        드라마       지일주   \n",
       "1         개봉        한국  드라마,멜로/로맨스          한국        드라마       전계수   \n",
       "2       개봉예정        미국      액션,스릴러          미국         액션   알렉산더 아야   \n",
       "3         개봉        한국         드라마          한국        드라마       김도영   \n",
       "4       개봉예정        한국         드라마          한국        드라마       이은상   \n",
       "\n",
       "                                           companyCd  \\\n",
       "0  ('20156848', ' ', ' ', ' ', ' ', ' ', ' ', ' '...   \n",
       "1  ('20100414', ' ', ' ', ' ', ' ', ' ', ' ', ' '...   \n",
       "2  (' ', ' ', ' ', ' ', ' ', ' ', ' ', ' ', ' ', ...   \n",
       "3  ('20192181', ' ', ' ', ' ', ' ', ' ', ' ', ' '...   \n",
       "4  ('20124237', ' ', ' ', ' ', ' ', ' ', ' ', ' '...   \n",
       "\n",
       "                                           companyNm  \n",
       "0  ('(주)백그림', ' ', ' ', ' ', ' ', ' ', ' ', ' ', ...  \n",
       "1  ('영화사 도로시(주)', ' ', ' ', ' ', ' ', ' ', ' ', '...  \n",
       "2  (' ', ' ', ' ', ' ', ' ', ' ', ' ', ' ', ' ', ...  \n",
       "3  ('(주)봄바람영화사', ' ', ' ', ' ', ' ', ' ', ' ', ' ...  \n",
       "4  ('(주)엠씨엠씨', ' ', ' ', ' ', ' ', ' ', ' ', ' ',...  "
      ]
     },
     "execution_count": 128,
     "metadata": {},
     "output_type": "execute_result"
    }
   ],
   "source": [
    "movies.head()"
   ]
  },
  {
   "cell_type": "code",
   "execution_count": 210,
   "metadata": {},
   "outputs": [],
   "source": [
    "def progress_bar(i, total):\n",
    "    k = i/total*100\n",
    "    star = \"*\"*int(k/2.5)\n",
    "    print(\"Processing: {}/{} [{:.1f}%] {}\".format(i, total, k, star), end=\"\\r\")"
   ]
  },
  {
   "cell_type": "code",
   "execution_count": 205,
   "metadata": {},
   "outputs": [],
   "source": [
    "def get_naverApi(movieNm, openDt, director):\n",
    "    \n",
    "    client_id = \"JjcGyzzf5rjyFKNPCTxG\"\n",
    "    client_secret = \"MDi_1o76AT\"\n",
    "    encText = urllib.parse.quote(f\"{movieNm}\")\n",
    "    url = \"https://openapi.naver.com/v1/search/movie?query=\" + encText + f\"&yearfrom={openDt-1}&yearto={openDt}\"\n",
    "    request = urllib.request.Request(url)\n",
    "\n",
    "    request.add_header(\"X-Naver-Client-Id\",client_id)\n",
    "    request.add_header(\"X-Naver-Client-Secret\",client_secret)\n",
    "\n",
    "    response = urllib.request.urlopen(request)\n",
    "    rescode = response.getcode()\n",
    "\n",
    "    if(rescode == 200):\n",
    "        html = response.read().decode(\"utf-8\")\n",
    "        parse = json.loads(html)\n",
    "                \n",
    "        if parse[\"items\"] == []:\n",
    "            poster = \"\"\n",
    "            userRating = \"\"\n",
    "            \n",
    "        else:\n",
    "            if len(parse[\"items\"]) > 1:\n",
    "                for i, item in enumerate(parse[\"items\"]):\n",
    "                    if director in item[\"director\"]:\n",
    "                        idx = i\n",
    "                    elif item[\"pubDate\"] == str(openDt):\n",
    "                        idx = i\n",
    "                    else:\n",
    "                        idx = 0\n",
    "            else:\n",
    "                 idx = 0\n",
    "            \n",
    "            info = parse[\"items\"][idx]\n",
    "            poster = info[\"image\"]\n",
    "            userRating = info[\"userRating\"]\n",
    "            \n",
    "    else:\n",
    "        poster = \"\"\n",
    "        userRating = \"\"\n",
    "    \n",
    "    return poster, userRating"
   ]
  },
  {
   "cell_type": "code",
   "execution_count": 206,
   "metadata": {},
   "outputs": [],
   "source": [
    "image, score = get_naverApi(\"졸업\", 2019, \"박주환\")"
   ]
  },
  {
   "cell_type": "code",
   "execution_count": 207,
   "metadata": {},
   "outputs": [
    {
     "data": {
      "text/plain": [
       "('https://ssl.pstatic.net/imgmovie/mdi/mit110/1737/173753_P10_104955.jpg',\n",
       " '10.00')"
      ]
     },
     "execution_count": 207,
     "metadata": {},
     "output_type": "execute_result"
    }
   ],
   "source": [
    "image, score"
   ]
  },
  {
   "cell_type": "code",
   "execution_count": 208,
   "metadata": {},
   "outputs": [],
   "source": [
    "def load_naverMovie(movie_list):\n",
    "    movie_list.openDt = movie_list.openDt.astype(str)\n",
    "    ls = movie_list[[\"movieNm\", \"openDt\", \"directors\"]].values\n",
    "    \n",
    "    i = 1\n",
    "    total = len(ls)\n",
    "    poster = []\n",
    "    userRating = []\n",
    "    for v in ls:\n",
    "        image, score = get_naverApi(v[0], int(v[1][:4]), v[2].split(\" \")[0].split(\",\")[0])\n",
    "        poster.append(image)\n",
    "        userRating.append(score)\n",
    "        \n",
    "        progress_bar(i, total):\n",
    "        i += 1\n",
    "        time.sleep(0.1)\n",
    "\n",
    "    print()\n",
    "    print(\"complete!\")\n",
    "    \n",
    "    return poster, userRating"
   ]
  },
  {
   "cell_type": "markdown",
   "metadata": {},
   "source": [
    "### 포스터, 평점 정보 불러오기"
   ]
  },
  {
   "cell_type": "code",
   "execution_count": 209,
   "metadata": {
    "scrolled": true
   },
   "outputs": [
    {
     "name": "stdout",
     "output_type": "stream",
     "text": [
      "Processing: 19874/19874 [100.0%] ****************************************\n",
      "complete!\n"
     ]
    }
   ],
   "source": [
    "poster, userRating = load_naverMovie(movies)"
   ]
  },
  {
   "cell_type": "code",
   "execution_count": 211,
   "metadata": {},
   "outputs": [],
   "source": [
    "naver_movie = pd.DataFrame([poster, userRating], index=[\"poster\", \"userRating\"]).T"
   ]
  },
  {
   "cell_type": "code",
   "execution_count": 217,
   "metadata": {},
   "outputs": [
    {
     "data": {
      "text/plain": [
       "19874"
      ]
     },
     "execution_count": 217,
     "metadata": {},
     "output_type": "execute_result"
    }
   ],
   "source": [
    "len(naver_movie)"
   ]
  },
  {
   "cell_type": "code",
   "execution_count": 220,
   "metadata": {},
   "outputs": [
    {
     "data": {
      "text/html": [
       "<div>\n",
       "<style scoped>\n",
       "    .dataframe tbody tr th:only-of-type {\n",
       "        vertical-align: middle;\n",
       "    }\n",
       "\n",
       "    .dataframe tbody tr th {\n",
       "        vertical-align: top;\n",
       "    }\n",
       "\n",
       "    .dataframe thead th {\n",
       "        text-align: right;\n",
       "    }\n",
       "</style>\n",
       "<table border=\"1\" class=\"dataframe\">\n",
       "  <thead>\n",
       "    <tr style=\"text-align: right;\">\n",
       "      <th></th>\n",
       "      <th>poster</th>\n",
       "      <th>userRating</th>\n",
       "    </tr>\n",
       "  </thead>\n",
       "  <tbody>\n",
       "    <tr>\n",
       "      <th>11</th>\n",
       "      <td></td>\n",
       "      <td>0.00</td>\n",
       "    </tr>\n",
       "    <tr>\n",
       "      <th>12</th>\n",
       "      <td></td>\n",
       "      <td>0.00</td>\n",
       "    </tr>\n",
       "    <tr>\n",
       "      <th>22</th>\n",
       "      <td></td>\n",
       "      <td></td>\n",
       "    </tr>\n",
       "    <tr>\n",
       "      <th>24</th>\n",
       "      <td></td>\n",
       "      <td></td>\n",
       "    </tr>\n",
       "    <tr>\n",
       "      <th>28</th>\n",
       "      <td></td>\n",
       "      <td></td>\n",
       "    </tr>\n",
       "    <tr>\n",
       "      <th>...</th>\n",
       "      <td>...</td>\n",
       "      <td>...</td>\n",
       "    </tr>\n",
       "    <tr>\n",
       "      <th>19868</th>\n",
       "      <td></td>\n",
       "      <td>7.50</td>\n",
       "    </tr>\n",
       "    <tr>\n",
       "      <th>19870</th>\n",
       "      <td></td>\n",
       "      <td></td>\n",
       "    </tr>\n",
       "    <tr>\n",
       "      <th>19871</th>\n",
       "      <td></td>\n",
       "      <td></td>\n",
       "    </tr>\n",
       "    <tr>\n",
       "      <th>19872</th>\n",
       "      <td></td>\n",
       "      <td></td>\n",
       "    </tr>\n",
       "    <tr>\n",
       "      <th>19873</th>\n",
       "      <td></td>\n",
       "      <td></td>\n",
       "    </tr>\n",
       "  </tbody>\n",
       "</table>\n",
       "<p>6671 rows × 2 columns</p>\n",
       "</div>"
      ],
      "text/plain": [
       "      poster userRating\n",
       "11                 0.00\n",
       "12                 0.00\n",
       "22                     \n",
       "24                     \n",
       "28                     \n",
       "...      ...        ...\n",
       "19868              7.50\n",
       "19870                  \n",
       "19871                  \n",
       "19872                  \n",
       "19873                  \n",
       "\n",
       "[6671 rows x 2 columns]"
      ]
     },
     "execution_count": 220,
     "metadata": {},
     "output_type": "execute_result"
    }
   ],
   "source": [
    "naver_movie[naver_movie.poster == \"\"]"
   ]
  },
  {
   "cell_type": "code",
   "execution_count": 215,
   "metadata": {},
   "outputs": [],
   "source": [
    "naver_movie.to_csv(os.path.join(save_path, \"naver_movie.csv\"), index=None, encoding=\"utf-8\")"
   ]
  },
  {
   "cell_type": "code",
   "execution_count": 216,
   "metadata": {},
   "outputs": [],
   "source": [
    "naver_movie.to_csv(os.path.join(save_path, \"naver_movie_euc.csv\"), index=None, encoding=\"euc-kr\")"
   ]
  },
  {
   "cell_type": "code",
   "execution_count": null,
   "metadata": {},
   "outputs": [],
   "source": []
  },
  {
   "cell_type": "code",
   "execution_count": null,
   "metadata": {},
   "outputs": [],
   "source": []
  },
  {
   "cell_type": "code",
   "execution_count": null,
   "metadata": {},
   "outputs": [],
   "source": []
  },
  {
   "cell_type": "code",
   "execution_count": 295,
   "metadata": {},
   "outputs": [],
   "source": [
    "posters = []\n",
    "for query in ls:\n",
    "    poster = get_posterUrl(query[0], int(query[1][:4]))\n",
    "    posters.append(poster)"
   ]
  },
  {
   "cell_type": "code",
   "execution_count": 296,
   "metadata": {},
   "outputs": [
    {
     "data": {
      "text/plain": [
       "['https://ssl.pstatic.net/imgmovie/mdi/mit110/0622/62266_P115_110943.jpg',\n",
       " 'https://ssl.pstatic.net/imgmovie/mdi/mit110/0375/C7541-00.jpg',\n",
       " 'https://ssl.pstatic.net/imgmovie/mdi/mit110/0937/93756_P93_115513.jpg',\n",
       " 'https://ssl.pstatic.net/imgmovie/mdi/mit110/0838/83893_P09_112146.jpg',\n",
       " 'https://ssl.pstatic.net/imgmovie/mdi/mit110/0615/61521_P00_184120.jpg',\n",
       " 'https://ssl.pstatic.net/imgmovie/mdi/mit110/1369/136900_P57_104126.jpg',\n",
       " 'https://ssl.pstatic.net/imgmovie/mdi/mit110/1637/163788_P18_105943.jpg',\n",
       " 'https://ssl.pstatic.net/imgmovie/mdi/mit110/0947/94775_P00_102022.jpg',\n",
       " 'https://ssl.pstatic.net/imgmovie/mdi/mit110/1009/100931_P98_151621.jpg',\n",
       " 'https://ssl.pstatic.net/imgmovie/mdi/mit110/0920/92075_P31_154949.jpg',\n",
       " 'https://ssl.pstatic.net/imgmovie/mdi/mit110/0388/38899_P47_165103.jpg',\n",
       " 'https://ssl.pstatic.net/imgmovie/mdi/mit110/0398/39841_P03_231710.jpg',\n",
       " 'https://ssl.pstatic.net/imgmovie/mdi/mit110/1349/134963_P15_094953.jpg',\n",
       " 'https://ssl.pstatic.net/imgmovie/mdi/mit110/0366/C6666-00.jpg',\n",
       " 'https://ssl.pstatic.net/imgmovie/mdi/mit110/0806/80632_P12_154113.jpg',\n",
       " 'https://ssl.pstatic.net/imgmovie/mdi/mit110/0453/45321_P00_124547.jpg',\n",
       " 'https://ssl.pstatic.net/imgmovie/mdi/mit110/0452/45290_P59_104735.jpg',\n",
       " 'https://ssl.pstatic.net/imgmovie/mdi/mit110/1619/161967_P80_151640.jpg',\n",
       " 'https://ssl.pstatic.net/imgmovie/mdi/mit110/1019/101901_P64_103951.jpg',\n",
       " 'https://ssl.pstatic.net/imgmovie/mdi/mit110/1309/130966_P114_165801.jpg']"
      ]
     },
     "execution_count": 296,
     "metadata": {},
     "output_type": "execute_result"
    }
   ],
   "source": [
    "posters"
   ]
  },
  {
   "cell_type": "code",
   "execution_count": 308,
   "metadata": {},
   "outputs": [],
   "source": [
    "movies[\"poster\"] = poster"
   ]
  },
  {
   "cell_type": "code",
   "execution_count": 218,
   "metadata": {},
   "outputs": [
    {
     "data": {
      "text/html": [
       "<div>\n",
       "<style scoped>\n",
       "    .dataframe tbody tr th:only-of-type {\n",
       "        vertical-align: middle;\n",
       "    }\n",
       "\n",
       "    .dataframe tbody tr th {\n",
       "        vertical-align: top;\n",
       "    }\n",
       "\n",
       "    .dataframe thead th {\n",
       "        text-align: right;\n",
       "    }\n",
       "</style>\n",
       "<table border=\"1\" class=\"dataframe\">\n",
       "  <thead>\n",
       "    <tr style=\"text-align: right;\">\n",
       "      <th></th>\n",
       "      <th>movieCd</th>\n",
       "      <th>movieNm</th>\n",
       "      <th>movieNmEn</th>\n",
       "      <th>prdtYear</th>\n",
       "      <th>openDt</th>\n",
       "      <th>typeNm</th>\n",
       "      <th>prdtStatNm</th>\n",
       "      <th>nationAlt</th>\n",
       "      <th>genreAlt</th>\n",
       "      <th>repNationNm</th>\n",
       "      <th>repGenreNm</th>\n",
       "      <th>directors</th>\n",
       "      <th>companyCd</th>\n",
       "      <th>companyNm</th>\n",
       "    </tr>\n",
       "  </thead>\n",
       "  <tbody>\n",
       "    <tr>\n",
       "      <th>0</th>\n",
       "      <td>20196285</td>\n",
       "      <td>오만</td>\n",
       "      <td>Huris</td>\n",
       "      <td>2019</td>\n",
       "      <td>20190905</td>\n",
       "      <td>장편</td>\n",
       "      <td>개봉</td>\n",
       "      <td>한국</td>\n",
       "      <td>드라마</td>\n",
       "      <td>한국</td>\n",
       "      <td>드라마</td>\n",
       "      <td>지일주</td>\n",
       "      <td>('20156848', ' ', ' ', ' ', ' ', ' ', ' ', ' '...</td>\n",
       "      <td>('(주)백그림', ' ', ' ', ' ', ' ', ' ', ' ', ' ', ...</td>\n",
       "    </tr>\n",
       "    <tr>\n",
       "      <th>1</th>\n",
       "      <td>20183407</td>\n",
       "      <td>버티고</td>\n",
       "      <td>Vertigo</td>\n",
       "      <td>2019</td>\n",
       "      <td>20191016</td>\n",
       "      <td>장편</td>\n",
       "      <td>개봉</td>\n",
       "      <td>한국</td>\n",
       "      <td>드라마,멜로/로맨스</td>\n",
       "      <td>한국</td>\n",
       "      <td>드라마</td>\n",
       "      <td>전계수</td>\n",
       "      <td>('20100414', ' ', ' ', ' ', ' ', ' ', ' ', ' '...</td>\n",
       "      <td>('영화사 도로시(주)', ' ', ' ', ' ', ' ', ' ', ' ', '...</td>\n",
       "    </tr>\n",
       "    <tr>\n",
       "      <th>2</th>\n",
       "      <td>20199428</td>\n",
       "      <td>크롤</td>\n",
       "      <td>CRAWL</td>\n",
       "      <td>2019</td>\n",
       "      <td>20191127</td>\n",
       "      <td>장편</td>\n",
       "      <td>개봉예정</td>\n",
       "      <td>미국</td>\n",
       "      <td>액션,스릴러</td>\n",
       "      <td>미국</td>\n",
       "      <td>액션</td>\n",
       "      <td>알렉산더 아야</td>\n",
       "      <td>(' ', ' ', ' ', ' ', ' ', ' ', ' ', ' ', ' ', ...</td>\n",
       "      <td>(' ', ' ', ' ', ' ', ' ', ' ', ' ', ' ', ' ', ...</td>\n",
       "    </tr>\n",
       "    <tr>\n",
       "      <th>3</th>\n",
       "      <td>20191029</td>\n",
       "      <td>82년생 김지영</td>\n",
       "      <td>KIM JI-YOUNG, BORN 1982</td>\n",
       "      <td>2019</td>\n",
       "      <td>20191023</td>\n",
       "      <td>장편</td>\n",
       "      <td>개봉</td>\n",
       "      <td>한국</td>\n",
       "      <td>드라마</td>\n",
       "      <td>한국</td>\n",
       "      <td>드라마</td>\n",
       "      <td>김도영</td>\n",
       "      <td>('20192181', ' ', ' ', ' ', ' ', ' ', ' ', ' '...</td>\n",
       "      <td>('(주)봄바람영화사', ' ', ' ', ' ', ' ', ' ', ' ', ' ...</td>\n",
       "    </tr>\n",
       "    <tr>\n",
       "      <th>4</th>\n",
       "      <td>20149501</td>\n",
       "      <td>사선의 끝</td>\n",
       "      <td>The Threshold of Death</td>\n",
       "      <td>2019</td>\n",
       "      <td>20191030</td>\n",
       "      <td>장편</td>\n",
       "      <td>개봉예정</td>\n",
       "      <td>한국</td>\n",
       "      <td>드라마</td>\n",
       "      <td>한국</td>\n",
       "      <td>드라마</td>\n",
       "      <td>이은상</td>\n",
       "      <td>('20124237', ' ', ' ', ' ', ' ', ' ', ' ', ' '...</td>\n",
       "      <td>('(주)엠씨엠씨', ' ', ' ', ' ', ' ', ' ', ' ', ' ',...</td>\n",
       "    </tr>\n",
       "  </tbody>\n",
       "</table>\n",
       "</div>"
      ],
      "text/plain": [
       "    movieCd   movieNm                 movieNmEn  prdtYear    openDt typeNm  \\\n",
       "0  20196285        오만                     Huris      2019  20190905     장편   \n",
       "1  20183407       버티고                   Vertigo      2019  20191016     장편   \n",
       "2  20199428        크롤                     CRAWL      2019  20191127     장편   \n",
       "3  20191029  82년생 김지영  KIM JI-YOUNG, BORN 1982       2019  20191023     장편   \n",
       "4  20149501     사선의 끝    The Threshold of Death      2019  20191030     장편   \n",
       "\n",
       "  prdtStatNm nationAlt    genreAlt repNationNm repGenreNm directors  \\\n",
       "0         개봉        한국         드라마          한국        드라마       지일주   \n",
       "1         개봉        한국  드라마,멜로/로맨스          한국        드라마       전계수   \n",
       "2       개봉예정        미국      액션,스릴러          미국         액션   알렉산더 아야   \n",
       "3         개봉        한국         드라마          한국        드라마       김도영   \n",
       "4       개봉예정        한국         드라마          한국        드라마       이은상   \n",
       "\n",
       "                                           companyCd  \\\n",
       "0  ('20156848', ' ', ' ', ' ', ' ', ' ', ' ', ' '...   \n",
       "1  ('20100414', ' ', ' ', ' ', ' ', ' ', ' ', ' '...   \n",
       "2  (' ', ' ', ' ', ' ', ' ', ' ', ' ', ' ', ' ', ...   \n",
       "3  ('20192181', ' ', ' ', ' ', ' ', ' ', ' ', ' '...   \n",
       "4  ('20124237', ' ', ' ', ' ', ' ', ' ', ' ', ' '...   \n",
       "\n",
       "                                           companyNm  \n",
       "0  ('(주)백그림', ' ', ' ', ' ', ' ', ' ', ' ', ' ', ...  \n",
       "1  ('영화사 도로시(주)', ' ', ' ', ' ', ' ', ' ', ' ', '...  \n",
       "2  (' ', ' ', ' ', ' ', ' ', ' ', ' ', ' ', ' ', ...  \n",
       "3  ('(주)봄바람영화사', ' ', ' ', ' ', ' ', ' ', ' ', ' ...  \n",
       "4  ('(주)엠씨엠씨', ' ', ' ', ' ', ' ', ' ', ' ', ' ',...  "
      ]
     },
     "execution_count": 218,
     "metadata": {},
     "output_type": "execute_result"
    }
   ],
   "source": [
    "movies.head()"
   ]
  },
  {
   "cell_type": "code",
   "execution_count": 310,
   "metadata": {},
   "outputs": [],
   "source": [
    "movies.to_csv(os.path.join(save_path, \"movie_merge_poster.csv\"), index=None, encoding=\"euc-kr\")"
   ]
  },
  {
   "cell_type": "code",
   "execution_count": null,
   "metadata": {},
   "outputs": [],
   "source": []
  },
  {
   "cell_type": "code",
   "execution_count": null,
   "metadata": {},
   "outputs": [],
   "source": []
  },
  {
   "cell_type": "markdown",
   "metadata": {},
   "source": [
    "## Error 데이터 확인"
   ]
  },
  {
   "cell_type": "code",
   "execution_count": 189,
   "metadata": {},
   "outputs": [],
   "source": [
    "movieNm = \"크롤\"\n",
    "openDt = 2019"
   ]
  },
  {
   "cell_type": "code",
   "execution_count": 190,
   "metadata": {},
   "outputs": [],
   "source": [
    "client_id = \"JjcGyzzf5rjyFKNPCTxG\"\n",
    "client_secret = \"MDi_1o76AT\"\n",
    "encText = urllib.parse.quote(f\"{movieNm}\")\n",
    "url = \"https://openapi.naver.com/v1/search/movie?query=\" + encText + f\"&yearfrom={openDt-1}&yearto={openDt}\"\n",
    "request = urllib.request.Request(url)\n",
    "\n",
    "request.add_header(\"X-Naver-Client-Id\",client_id)\n",
    "request.add_header(\"X-Naver-Client-Secret\",client_secret)\n",
    "\n",
    "response = urllib.request.urlopen(request)\n",
    "rescode = response.getcode()\n",
    "\n",
    "if(rescode == 200):\n",
    "    html = response.read().decode(\"utf-8\")\n",
    "    parse = json.loads(html)\n",
    "\n",
    "    if parse[\"items\"] == []:\n",
    "        poster = \"\"\n",
    "        userRating = \"\"\n",
    "\n",
    "    else:\n",
    "        if len(parse[\"items\"]) > 1:\n",
    "            for i, item in enumerate(parse[\"items\"]):\n",
    "                if director in item[\"director\"]:\n",
    "                    idx = i\n",
    "                elif item[\"pubDate\"] == str(openDt):\n",
    "                    idx = i\n",
    "                else:\n",
    "                    idx = 0\n",
    "        else:\n",
    "             idx = 0\n",
    "\n",
    "        info = parse[\"items\"][idx]\n",
    "        poster = info[\"image\"]\n",
    "        userRating = info[\"userRating\"]\n",
    "\n",
    "else:\n",
    "    poster = \"\"\n",
    "    userRating = \"\""
   ]
  },
  {
   "cell_type": "code",
   "execution_count": 191,
   "metadata": {},
   "outputs": [
    {
     "data": {
      "text/plain": [
       "{'lastBuildDate': 'Tue, 29 Oct 2019 16:59:10 +0900',\n",
       " 'total': 3,\n",
       " 'start': 1,\n",
       " 'display': 3,\n",
       " 'items': [{'title': '<b>크롤</b>',\n",
       "   'link': 'https://movie.naver.com/movie/bi/mi/basic.nhn?code=183803',\n",
       "   'image': 'https://ssl.pstatic.net/imgmovie/mdi/mit110/1838/183803_P01_165442.jpg',\n",
       "   'subtitle': 'Crawl',\n",
       "   'pubDate': '2019',\n",
       "   'director': '알렉산드르 아야|',\n",
       "   'actor': '카야 스코델라리오|배리 페퍼|',\n",
       "   'userRating': '6.52'},\n",
       "  {'title': '포르<b>크롤</b>',\n",
       "   'link': 'https://movie.naver.com/movie/bi/mi/basic.nhn?code=186770',\n",
       "   'image': 'https://ssl.pstatic.net/imgmovie/mdi/mit110/1867/186770_P01_163536.JPG',\n",
       "   'subtitle': 'Porquerolles',\n",
       "   'pubDate': '2019',\n",
       "   'director': '니키 해믈린|',\n",
       "   'actor': '',\n",
       "   'userRating': '0.00'},\n",
       "  {'title': '나이트 <b>크롤</b>러스',\n",
       "   'link': 'https://movie.naver.com/movie/bi/mi/basic.nhn?code=176474',\n",
       "   'image': '',\n",
       "   'subtitle': 'NIGHT CRAWLERS',\n",
       "   'pubDate': '2018',\n",
       "   'director': '덴타루스 존스|',\n",
       "   'actor': '',\n",
       "   'userRating': '0.00'}]}"
      ]
     },
     "execution_count": 191,
     "metadata": {},
     "output_type": "execute_result"
    }
   ],
   "source": [
    "parse"
   ]
  },
  {
   "cell_type": "code",
   "execution_count": 71,
   "metadata": {},
   "outputs": [
    {
     "data": {
      "text/plain": [
       "True"
      ]
     },
     "execution_count": 71,
     "metadata": {},
     "output_type": "execute_result"
    }
   ],
   "source": [
    "parse[\"items\"] == []"
   ]
  },
  {
   "cell_type": "code",
   "execution_count": null,
   "metadata": {},
   "outputs": [],
   "source": []
  },
  {
   "cell_type": "code",
   "execution_count": null,
   "metadata": {},
   "outputs": [],
   "source": []
  }
 ],
 "metadata": {
  "kernelspec": {
   "display_name": "movie-inside",
   "language": "python",
   "name": "movie-inside"
  },
  "language_info": {
   "codemirror_mode": {
    "name": "ipython",
    "version": 3
   },
   "file_extension": ".py",
   "mimetype": "text/x-python",
   "name": "python",
   "nbconvert_exporter": "python",
   "pygments_lexer": "ipython3",
   "version": "3.6.9"
  }
 },
 "nbformat": 4,
 "nbformat_minor": 2
}
