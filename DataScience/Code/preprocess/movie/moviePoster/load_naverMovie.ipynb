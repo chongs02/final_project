{
 "cells": [
  {
   "cell_type": "markdown",
   "metadata": {},
   "source": [
    "## Naver API 포스터, 평점 정보 로드"
   ]
  },
  {
   "cell_type": "code",
   "execution_count": 1,
   "metadata": {},
   "outputs": [],
   "source": [
    "import os\n",
    "import sys\n",
    "import time\n",
    "import json\n",
    "\n",
    "import urllib\n",
    "import urllib.request\n",
    "import requests\n",
    "\n",
    "import pandas as pd\n",
    "from bs4 import BeautifulSoup"
   ]
  },
  {
   "cell_type": "code",
   "execution_count": 2,
   "metadata": {},
   "outputs": [],
   "source": [
    "data_path = r\"C:\\Users\\Jwp\\Desktop\\workspace\\Final_project\\DataScience\\Final_Data\\movie\\movieInfo\\all\"\n",
    "save_path = r\"C:\\Users\\Jwp\\Desktop\\workspace\\Final_Project\\DataScience\\Final_Data\\movie\\moviePoster\""
   ]
  },
  {
   "cell_type": "code",
   "execution_count": 18,
   "metadata": {},
   "outputs": [],
   "source": [
    "movies = pd.read_csv(os.path.join(data_path, \"movie_merged_all_en.csv\"), encoding=\"utf-8\")"
   ]
  },
  {
   "cell_type": "code",
   "execution_count": 19,
   "metadata": {},
   "outputs": [
    {
     "data": {
      "text/plain": [
       "19874"
      ]
     },
     "execution_count": 19,
     "metadata": {},
     "output_type": "execute_result"
    }
   ],
   "source": [
    "len(movies)"
   ]
  },
  {
   "cell_type": "code",
   "execution_count": 20,
   "metadata": {},
   "outputs": [
    {
     "data": {
      "text/html": [
       "<div>\n",
       "<style scoped>\n",
       "    .dataframe tbody tr th:only-of-type {\n",
       "        vertical-align: middle;\n",
       "    }\n",
       "\n",
       "    .dataframe tbody tr th {\n",
       "        vertical-align: top;\n",
       "    }\n",
       "\n",
       "    .dataframe thead th {\n",
       "        text-align: right;\n",
       "    }\n",
       "</style>\n",
       "<table border=\"1\" class=\"dataframe\">\n",
       "  <thead>\n",
       "    <tr style=\"text-align: right;\">\n",
       "      <th></th>\n",
       "      <th>movieCd</th>\n",
       "      <th>movieNm</th>\n",
       "      <th>movieNmEn</th>\n",
       "      <th>prdtYear</th>\n",
       "      <th>openDt</th>\n",
       "      <th>prdtStatNm</th>\n",
       "      <th>repGenre</th>\n",
       "      <th>genre</th>\n",
       "      <th>repNation</th>\n",
       "      <th>nations</th>\n",
       "      <th>...</th>\n",
       "      <th>directors</th>\n",
       "      <th>actors</th>\n",
       "      <th>actors_en</th>\n",
       "      <th>cast</th>\n",
       "      <th>cast_en</th>\n",
       "      <th>companyCd</th>\n",
       "      <th>companyNm</th>\n",
       "      <th>companyNmEn</th>\n",
       "      <th>companyPartNm</th>\n",
       "      <th>watchGradeNm</th>\n",
       "    </tr>\n",
       "  </thead>\n",
       "  <tbody>\n",
       "    <tr>\n",
       "      <th>19869</th>\n",
       "      <td>19910228</td>\n",
       "      <td>LA이야기</td>\n",
       "      <td>La Story</td>\n",
       "      <td>1991</td>\n",
       "      <td>19910608</td>\n",
       "      <td>개봉</td>\n",
       "      <td>코미디</td>\n",
       "      <td>코미디</td>\n",
       "      <td>미국</td>\n",
       "      <td>미국</td>\n",
       "      <td>...</td>\n",
       "      <td>믹 잭슨</td>\n",
       "      <td>['스티브 마틴', '빅토리아 테넌트']</td>\n",
       "      <td>['Steve Martin', 'Victoria Tennant']</td>\n",
       "      <td>['', '']</td>\n",
       "      <td>['', '']</td>\n",
       "      <td>['20100963']</td>\n",
       "      <td>['세경영화㈜']</td>\n",
       "      <td>['']</td>\n",
       "      <td>['수입사']</td>\n",
       "      <td>['고등학생이상관람가']</td>\n",
       "    </tr>\n",
       "    <tr>\n",
       "      <th>19870</th>\n",
       "      <td>19920137</td>\n",
       "      <td>우리는 그들을 잊으려 했다</td>\n",
       "      <td>THE FORGOTTEN</td>\n",
       "      <td>1992</td>\n",
       "      <td>19920307</td>\n",
       "      <td>개봉</td>\n",
       "      <td>NaN</td>\n",
       "      <td>NaN</td>\n",
       "      <td>NaN</td>\n",
       "      <td>NaN</td>\n",
       "      <td>...</td>\n",
       "      <td></td>\n",
       "      <td>NaN</td>\n",
       "      <td>NaN</td>\n",
       "      <td>NaN</td>\n",
       "      <td>NaN</td>\n",
       "      <td>NaN</td>\n",
       "      <td>NaN</td>\n",
       "      <td>NaN</td>\n",
       "      <td>NaN</td>\n",
       "      <td>NaN</td>\n",
       "    </tr>\n",
       "    <tr>\n",
       "      <th>19871</th>\n",
       "      <td>19880146</td>\n",
       "      <td>원+씩스</td>\n",
       "      <td>ONE + SIX</td>\n",
       "      <td>1988</td>\n",
       "      <td>19880625</td>\n",
       "      <td>개봉</td>\n",
       "      <td>NaN</td>\n",
       "      <td>NaN</td>\n",
       "      <td>이탈리아</td>\n",
       "      <td>이탈리아</td>\n",
       "      <td>...</td>\n",
       "      <td></td>\n",
       "      <td>[]</td>\n",
       "      <td>[]</td>\n",
       "      <td>[]</td>\n",
       "      <td>[]</td>\n",
       "      <td>[]</td>\n",
       "      <td>[]</td>\n",
       "      <td>[]</td>\n",
       "      <td>[]</td>\n",
       "      <td>[]</td>\n",
       "    </tr>\n",
       "    <tr>\n",
       "      <th>19872</th>\n",
       "      <td>19910263</td>\n",
       "      <td>최가손우2</td>\n",
       "      <td>CRAZY COMPANIES 2</td>\n",
       "      <td>1988</td>\n",
       "      <td>19910803</td>\n",
       "      <td>개봉</td>\n",
       "      <td>NaN</td>\n",
       "      <td>NaN</td>\n",
       "      <td>NaN</td>\n",
       "      <td>NaN</td>\n",
       "      <td>...</td>\n",
       "      <td></td>\n",
       "      <td>NaN</td>\n",
       "      <td>NaN</td>\n",
       "      <td>NaN</td>\n",
       "      <td>NaN</td>\n",
       "      <td>NaN</td>\n",
       "      <td>NaN</td>\n",
       "      <td>NaN</td>\n",
       "      <td>NaN</td>\n",
       "      <td>NaN</td>\n",
       "    </tr>\n",
       "    <tr>\n",
       "      <th>19873</th>\n",
       "      <td>19910096</td>\n",
       "      <td>칙칙이의 내일은 참피온</td>\n",
       "      <td>Tomorrow's Champion</td>\n",
       "      <td>1991</td>\n",
       "      <td>19910803</td>\n",
       "      <td>개봉</td>\n",
       "      <td>코미디</td>\n",
       "      <td>코미디</td>\n",
       "      <td>한국</td>\n",
       "      <td>한국</td>\n",
       "      <td>...</td>\n",
       "      <td></td>\n",
       "      <td>['장고웅']</td>\n",
       "      <td>['JANG Go-ung ']</td>\n",
       "      <td>['']</td>\n",
       "      <td>['']</td>\n",
       "      <td>[]</td>\n",
       "      <td>[]</td>\n",
       "      <td>[]</td>\n",
       "      <td>[]</td>\n",
       "      <td>[]</td>\n",
       "    </tr>\n",
       "  </tbody>\n",
       "</table>\n",
       "<p>5 rows × 22 columns</p>\n",
       "</div>"
      ],
      "text/plain": [
       "        movieCd         movieNm            movieNmEn  prdtYear    openDt  \\\n",
       "19869  19910228           LA이야기             La Story      1991  19910608   \n",
       "19870  19920137  우리는 그들을 잊으려 했다        THE FORGOTTEN      1992  19920307   \n",
       "19871  19880146            원+씩스            ONE + SIX      1988  19880625   \n",
       "19872  19910263           최가손우2    CRAZY COMPANIES 2      1988  19910803   \n",
       "19873  19910096    칙칙이의 내일은 참피온  Tomorrow's Champion      1991  19910803   \n",
       "\n",
       "      prdtStatNm repGenre genre repNation nations  ... directors  \\\n",
       "19869         개봉      코미디   코미디        미국      미국  ...      믹 잭슨   \n",
       "19870         개봉      NaN   NaN       NaN     NaN  ...             \n",
       "19871         개봉      NaN   NaN      이탈리아    이탈리아  ...             \n",
       "19872         개봉      NaN   NaN       NaN     NaN  ...             \n",
       "19873         개봉      코미디   코미디        한국      한국  ...             \n",
       "\n",
       "                       actors                             actors_en      cast  \\\n",
       "19869  ['스티브 마틴', '빅토리아 테넌트']  ['Steve Martin', 'Victoria Tennant']  ['', '']   \n",
       "19870                     NaN                                   NaN       NaN   \n",
       "19871                      []                                    []        []   \n",
       "19872                     NaN                                   NaN       NaN   \n",
       "19873                 ['장고웅']                      ['JANG Go-ung ']      ['']   \n",
       "\n",
       "        cast_en     companyCd  companyNm companyNmEn companyPartNm  \\\n",
       "19869  ['', '']  ['20100963']  ['세경영화㈜']        ['']       ['수입사']   \n",
       "19870       NaN           NaN        NaN         NaN           NaN   \n",
       "19871        []            []         []          []            []   \n",
       "19872       NaN           NaN        NaN         NaN           NaN   \n",
       "19873      ['']            []         []          []            []   \n",
       "\n",
       "        watchGradeNm  \n",
       "19869  ['고등학생이상관람가']  \n",
       "19870            NaN  \n",
       "19871             []  \n",
       "19872            NaN  \n",
       "19873             []  \n",
       "\n",
       "[5 rows x 22 columns]"
      ]
     },
     "execution_count": 20,
     "metadata": {},
     "output_type": "execute_result"
    }
   ],
   "source": [
    "movies.tail()"
   ]
  },
  {
   "cell_type": "code",
   "execution_count": 6,
   "metadata": {},
   "outputs": [],
   "source": [
    "def progress_bar(i, total):\n",
    "    k = i/total*100\n",
    "    star = \"*\"*int(k/2.5)\n",
    "    print(\"Processing: {}/{} [{:.1f}%] {}\".format(i, total, k, star), end=\"\\r\")"
   ]
  },
  {
   "cell_type": "code",
   "execution_count": 7,
   "metadata": {},
   "outputs": [],
   "source": [
    "def get_naverApi(movieNm, openDt, director):\n",
    "    \n",
    "    client_id = \"JjcGyzzf5rjyFKNPCTxG\"\n",
    "    client_secret = \"MDi_1o76AT\"\n",
    "    encText = urllib.parse.quote(f\"{movieNm}\")\n",
    "    url = \"https://openapi.naver.com/v1/search/movie?query=\" + encText + f\"&yearfrom={openDt-1}&yearto={openDt}\"\n",
    "    request = urllib.request.Request(url)\n",
    "\n",
    "    request.add_header(\"X-Naver-Client-Id\",client_id)\n",
    "    request.add_header(\"X-Naver-Client-Secret\",client_secret)\n",
    "\n",
    "    response = urllib.request.urlopen(request)\n",
    "    rescode = response.getcode()\n",
    "\n",
    "    if(rescode == 200):\n",
    "        html = response.read().decode(\"utf-8\")\n",
    "        parse = json.loads(html)\n",
    "                \n",
    "        if parse[\"items\"] == []:\n",
    "            poster = \"\"\n",
    "            userRating = \"\"\n",
    "            \n",
    "        else:\n",
    "            if len(parse[\"items\"]) > 1:\n",
    "                for i, item in enumerate(parse[\"items\"]):\n",
    "                    if director in item[\"director\"]:\n",
    "                        idx = i\n",
    "                        break\n",
    "                    elif item[\"pubDate\"] == str(openDt):\n",
    "                        idx = i\n",
    "                        break\n",
    "                    else:\n",
    "                        idx = 0\n",
    "            else:\n",
    "                 idx = 0\n",
    "            \n",
    "            info = parse[\"items\"][idx]\n",
    "            poster = info[\"image\"]\n",
    "            userRating = info[\"userRating\"]\n",
    "            \n",
    "    else:\n",
    "        poster = \"\"\n",
    "        userRating = \"\"\n",
    "    \n",
    "    return poster, userRating"
   ]
  },
  {
   "cell_type": "code",
   "execution_count": 206,
   "metadata": {},
   "outputs": [],
   "source": [
    "image, score = get_naverApi(\"졸업\", 2019, \"박주환\")"
   ]
  },
  {
   "cell_type": "code",
   "execution_count": 207,
   "metadata": {},
   "outputs": [
    {
     "data": {
      "text/plain": [
       "('https://ssl.pstatic.net/imgmovie/mdi/mit110/1737/173753_P10_104955.jpg',\n",
       " '10.00')"
      ]
     },
     "execution_count": 207,
     "metadata": {},
     "output_type": "execute_result"
    }
   ],
   "source": [
    "image, score"
   ]
  },
  {
   "cell_type": "code",
   "execution_count": 10,
   "metadata": {},
   "outputs": [],
   "source": [
    "def load_naverMovie(movie_list):\n",
    "    movie_list.openDt = movie_list.openDt.astype(str)\n",
    "    ls = movie_list[[\"movieNm\", \"openDt\", \"directors\"]].values\n",
    "    \n",
    "    i = 1\n",
    "    total = len(ls)\n",
    "    poster = []\n",
    "    userRating = []\n",
    "    for v in ls:\n",
    "        image, score = get_naverApi(v[0], int(v[1][:4]), v[2].split(\" \")[0].split(\",\")[0][:2])\n",
    "        poster.append(image)\n",
    "        userRating.append(score)\n",
    "        \n",
    "        progress_bar(i, total)\n",
    "        i += 1\n",
    "        time.sleep(0.1)\n",
    "\n",
    "    print()\n",
    "    print(\"complete!\")\n",
    "    \n",
    "    return poster, userRating"
   ]
  },
  {
   "cell_type": "markdown",
   "metadata": {},
   "source": [
    "### 포스터, 평점 정보 불러오기"
   ]
  },
  {
   "cell_type": "code",
   "execution_count": 11,
   "metadata": {
    "scrolled": true
   },
   "outputs": [
    {
     "name": "stdout",
     "output_type": "stream",
     "text": [
      "Processing: 19874/19874 [100.0%] ****************************************\n",
      "complete!\n"
     ]
    }
   ],
   "source": [
    "poster, userRating = load_naverMovie(movies)"
   ]
  },
  {
   "cell_type": "code",
   "execution_count": 12,
   "metadata": {},
   "outputs": [],
   "source": [
    "naver_movie = pd.DataFrame([poster, userRating], index=[\"poster\", \"userRating\"]).T"
   ]
  },
  {
   "cell_type": "code",
   "execution_count": 13,
   "metadata": {},
   "outputs": [
    {
     "data": {
      "text/plain": [
       "19874"
      ]
     },
     "execution_count": 13,
     "metadata": {},
     "output_type": "execute_result"
    }
   ],
   "source": [
    "len(naver_movie)"
   ]
  },
  {
   "cell_type": "code",
   "execution_count": 14,
   "metadata": {},
   "outputs": [
    {
     "data": {
      "text/html": [
       "<div>\n",
       "<style scoped>\n",
       "    .dataframe tbody tr th:only-of-type {\n",
       "        vertical-align: middle;\n",
       "    }\n",
       "\n",
       "    .dataframe tbody tr th {\n",
       "        vertical-align: top;\n",
       "    }\n",
       "\n",
       "    .dataframe thead th {\n",
       "        text-align: right;\n",
       "    }\n",
       "</style>\n",
       "<table border=\"1\" class=\"dataframe\">\n",
       "  <thead>\n",
       "    <tr style=\"text-align: right;\">\n",
       "      <th></th>\n",
       "      <th>poster</th>\n",
       "      <th>userRating</th>\n",
       "    </tr>\n",
       "  </thead>\n",
       "  <tbody>\n",
       "    <tr>\n",
       "      <th>11</th>\n",
       "      <td></td>\n",
       "      <td>0.00</td>\n",
       "    </tr>\n",
       "    <tr>\n",
       "      <th>12</th>\n",
       "      <td></td>\n",
       "      <td>0.00</td>\n",
       "    </tr>\n",
       "    <tr>\n",
       "      <th>22</th>\n",
       "      <td></td>\n",
       "      <td></td>\n",
       "    </tr>\n",
       "    <tr>\n",
       "      <th>24</th>\n",
       "      <td></td>\n",
       "      <td></td>\n",
       "    </tr>\n",
       "    <tr>\n",
       "      <th>28</th>\n",
       "      <td></td>\n",
       "      <td></td>\n",
       "    </tr>\n",
       "    <tr>\n",
       "      <th>...</th>\n",
       "      <td>...</td>\n",
       "      <td>...</td>\n",
       "    </tr>\n",
       "    <tr>\n",
       "      <th>19868</th>\n",
       "      <td></td>\n",
       "      <td>7.50</td>\n",
       "    </tr>\n",
       "    <tr>\n",
       "      <th>19870</th>\n",
       "      <td></td>\n",
       "      <td></td>\n",
       "    </tr>\n",
       "    <tr>\n",
       "      <th>19871</th>\n",
       "      <td></td>\n",
       "      <td></td>\n",
       "    </tr>\n",
       "    <tr>\n",
       "      <th>19872</th>\n",
       "      <td></td>\n",
       "      <td></td>\n",
       "    </tr>\n",
       "    <tr>\n",
       "      <th>19873</th>\n",
       "      <td></td>\n",
       "      <td></td>\n",
       "    </tr>\n",
       "  </tbody>\n",
       "</table>\n",
       "<p>6579 rows × 2 columns</p>\n",
       "</div>"
      ],
      "text/plain": [
       "      poster userRating\n",
       "11                 0.00\n",
       "12                 0.00\n",
       "22                     \n",
       "24                     \n",
       "28                     \n",
       "...      ...        ...\n",
       "19868              7.50\n",
       "19870                  \n",
       "19871                  \n",
       "19872                  \n",
       "19873                  \n",
       "\n",
       "[6579 rows x 2 columns]"
      ]
     },
     "execution_count": 14,
     "metadata": {},
     "output_type": "execute_result"
    }
   ],
   "source": [
    "naver_movie[naver_movie.poster == \"\"]"
   ]
  },
  {
   "cell_type": "code",
   "execution_count": 15,
   "metadata": {},
   "outputs": [],
   "source": [
    "naver_movie.to_csv(os.path.join(save_path, \"naver_movie2.csv\"), index=None, encoding=\"utf-8\")"
   ]
  },
  {
   "cell_type": "code",
   "execution_count": 216,
   "metadata": {},
   "outputs": [],
   "source": [
    "# naver_movie.to_csv(os.path.join(save_path, \"naver_movie_euc.csv\"), index=None, encoding=\"euc-kr\")"
   ]
  },
  {
   "cell_type": "code",
   "execution_count": null,
   "metadata": {},
   "outputs": [],
   "source": []
  },
  {
   "cell_type": "code",
   "execution_count": null,
   "metadata": {},
   "outputs": [],
   "source": []
  },
  {
   "cell_type": "markdown",
   "metadata": {},
   "source": [
    "## Error 데이터 확인"
   ]
  },
  {
   "cell_type": "code",
   "execution_count": 189,
   "metadata": {},
   "outputs": [],
   "source": [
    "movieNm = \"크롤\"\n",
    "openDt = 2019"
   ]
  },
  {
   "cell_type": "code",
   "execution_count": 190,
   "metadata": {},
   "outputs": [],
   "source": [
    "client_id = \"JjcGyzzf5rjyFKNPCTxG\"\n",
    "client_secret = \"MDi_1o76AT\"\n",
    "encText = urllib.parse.quote(f\"{movieNm}\")\n",
    "url = \"https://openapi.naver.com/v1/search/movie?query=\" + encText + f\"&yearfrom={openDt-1}&yearto={openDt}\"\n",
    "request = urllib.request.Request(url)\n",
    "\n",
    "request.add_header(\"X-Naver-Client-Id\",client_id)\n",
    "request.add_header(\"X-Naver-Client-Secret\",client_secret)\n",
    "\n",
    "response = urllib.request.urlopen(request)\n",
    "rescode = response.getcode()\n",
    "\n",
    "if(rescode == 200):\n",
    "    html = response.read().decode(\"utf-8\")\n",
    "    parse = json.loads(html)\n",
    "\n",
    "    if parse[\"items\"] == []:\n",
    "        poster = \"\"\n",
    "        userRating = \"\"\n",
    "\n",
    "    else:\n",
    "        if len(parse[\"items\"]) > 1:\n",
    "            for i, item in enumerate(parse[\"items\"]):\n",
    "                if director in item[\"director\"]:\n",
    "                    idx = i\n",
    "                elif item[\"pubDate\"] == str(openDt):\n",
    "                    idx = i\n",
    "                else:\n",
    "                    idx = 0\n",
    "        else:\n",
    "             idx = 0\n",
    "\n",
    "        info = parse[\"items\"][idx]\n",
    "        poster = info[\"image\"]\n",
    "        userRating = info[\"userRating\"]\n",
    "\n",
    "else:\n",
    "    poster = \"\"\n",
    "    userRating = \"\""
   ]
  },
  {
   "cell_type": "code",
   "execution_count": 191,
   "metadata": {},
   "outputs": [
    {
     "data": {
      "text/plain": [
       "{'lastBuildDate': 'Tue, 29 Oct 2019 16:59:10 +0900',\n",
       " 'total': 3,\n",
       " 'start': 1,\n",
       " 'display': 3,\n",
       " 'items': [{'title': '<b>크롤</b>',\n",
       "   'link': 'https://movie.naver.com/movie/bi/mi/basic.nhn?code=183803',\n",
       "   'image': 'https://ssl.pstatic.net/imgmovie/mdi/mit110/1838/183803_P01_165442.jpg',\n",
       "   'subtitle': 'Crawl',\n",
       "   'pubDate': '2019',\n",
       "   'director': '알렉산드르 아야|',\n",
       "   'actor': '카야 스코델라리오|배리 페퍼|',\n",
       "   'userRating': '6.52'},\n",
       "  {'title': '포르<b>크롤</b>',\n",
       "   'link': 'https://movie.naver.com/movie/bi/mi/basic.nhn?code=186770',\n",
       "   'image': 'https://ssl.pstatic.net/imgmovie/mdi/mit110/1867/186770_P01_163536.JPG',\n",
       "   'subtitle': 'Porquerolles',\n",
       "   'pubDate': '2019',\n",
       "   'director': '니키 해믈린|',\n",
       "   'actor': '',\n",
       "   'userRating': '0.00'},\n",
       "  {'title': '나이트 <b>크롤</b>러스',\n",
       "   'link': 'https://movie.naver.com/movie/bi/mi/basic.nhn?code=176474',\n",
       "   'image': '',\n",
       "   'subtitle': 'NIGHT CRAWLERS',\n",
       "   'pubDate': '2018',\n",
       "   'director': '덴타루스 존스|',\n",
       "   'actor': '',\n",
       "   'userRating': '0.00'}]}"
      ]
     },
     "execution_count": 191,
     "metadata": {},
     "output_type": "execute_result"
    }
   ],
   "source": [
    "parse"
   ]
  },
  {
   "cell_type": "code",
   "execution_count": 71,
   "metadata": {},
   "outputs": [
    {
     "data": {
      "text/plain": [
       "True"
      ]
     },
     "execution_count": 71,
     "metadata": {},
     "output_type": "execute_result"
    }
   ],
   "source": [
    "parse[\"items\"] == []"
   ]
  },
  {
   "cell_type": "code",
   "execution_count": null,
   "metadata": {},
   "outputs": [],
   "source": []
  },
  {
   "cell_type": "code",
   "execution_count": null,
   "metadata": {},
   "outputs": [],
   "source": []
  }
 ],
 "metadata": {
  "kernelspec": {
   "display_name": "movie-inside",
   "language": "python",
   "name": "movie-inside"
  },
  "language_info": {
   "codemirror_mode": {
    "name": "ipython",
    "version": 3
   },
   "file_extension": ".py",
   "mimetype": "text/x-python",
   "name": "python",
   "nbconvert_exporter": "python",
   "pygments_lexer": "ipython3",
   "version": "3.6.9"
  }
 },
 "nbformat": 4,
 "nbformat_minor": 2
}
