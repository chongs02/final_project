{
 "cells": [
  {
   "cell_type": "code",
   "execution_count": 2,
   "metadata": {},
   "outputs": [],
   "source": [
    "import pandas as pd\n",
    "import os"
   ]
  },
  {
   "cell_type": "code",
   "execution_count": 3,
   "metadata": {},
   "outputs": [],
   "source": [
    "save_path = r\"C:\\Users\\Jwp\\Desktop\\workspace\\Final_project\\DataScience\\Final_Data\\movie\\movieInfo\\all\""
   ]
  },
  {
   "cell_type": "code",
   "execution_count": 4,
   "metadata": {},
   "outputs": [],
   "source": [
    "mlist = pd.read_csv(os.path.join(save_path, \"movie_list_all.csv\"), encoding=\"utf-8\")"
   ]
  },
  {
   "cell_type": "code",
   "execution_count": 5,
   "metadata": {},
   "outputs": [],
   "source": [
    "details = pd.read_csv(os.path.join(save_path, \"movie_details_all.csv\"), encoding=\"utf-8\")"
   ]
  },
  {
   "cell_type": "code",
   "execution_count": 7,
   "metadata": {},
   "outputs": [
    {
     "data": {
      "text/plain": [
       "(19874, 19874)"
      ]
     },
     "execution_count": 7,
     "metadata": {},
     "output_type": "execute_result"
    }
   ],
   "source": [
    "len(mlist), len(details)"
   ]
  },
  {
   "cell_type": "code",
   "execution_count": null,
   "metadata": {},
   "outputs": [],
   "source": []
  },
  {
   "cell_type": "code",
   "execution_count": 9,
   "metadata": {},
   "outputs": [],
   "source": [
    "def movie_merge(mlist, details, lang=\"en\"):\n",
    "    \n",
    "    df = mlist.merge(details, on='movieCd')\n",
    "    \n",
    "    columns = ['movieCd', 'movieNm_x', 'movieNmEn', 'prdtYear', 'openDt', 'prdtStatNm', 'repGenreNm', \n",
    "               'genreAlt', 'repNationNm', 'nationAlt', 'typeNm', 'showTm', 'directors', 'actors', \n",
    "               'actors_en', 'cast', 'cast_en', 'companyCd_y', 'companyNm_y', 'companyNmEn', \n",
    "               'companyPartNm', 'watchGradeNm']\n",
    "    df = df[columns]\n",
    "    \n",
    "    if lang == \"kor\":\n",
    "        columns_kor = ['영화코드', '영화명', '영화명_영어', '제작연도', '개봉일', '제작상태', '대표장르',\n",
    "                       '장르전체', '대표제작국가', '제작국가', '단/장편', '상영시간', '감독명', '배우명', \n",
    "                       '배우명_영어', '역할명', '역할명_영어', '참여영화사코드',  '참여영화사명', \n",
    "                       '참여영화사명_영어', '참영영화사분야명', '관람등급']\n",
    "        \n",
    "        df.columns = columns_kor\n",
    "        \n",
    "    elif lang == \"en\":\n",
    "        columns_en = ['movieCd', 'movieNm', 'movieNmEn', 'prdtYear', 'openDt', 'prdtStatNm', 'repGenre', \n",
    "                      'genre', 'repNation', 'nations', 'typeNm', 'showTm', 'directors', 'actors', \n",
    "                      'actors_en', 'cast', 'cast_en', 'companyCd', 'companyNm', 'companyNmEn', \n",
    "                      'companyPartNm', 'watchGradeNm']\n",
    "        \n",
    "        df.columns = columns_en\n",
    "        \n",
    "    else:\n",
    "        print(\"Type is wrong!\")\n",
    "    \n",
    "    return df"
   ]
  },
  {
   "cell_type": "code",
   "execution_count": 10,
   "metadata": {},
   "outputs": [],
   "source": [
    "merged_en = movie_merge(mlist, details, lang=\"en\")"
   ]
  },
  {
   "cell_type": "code",
   "execution_count": 12,
   "metadata": {},
   "outputs": [],
   "source": [
    "merged_kor = movie_merge(mlist, details, lang=\"kor\")"
   ]
  },
  {
   "cell_type": "code",
   "execution_count": 20,
   "metadata": {},
   "outputs": [
    {
     "data": {
      "text/plain": [
       "(19874, 19874)"
      ]
     },
     "execution_count": 20,
     "metadata": {},
     "output_type": "execute_result"
    }
   ],
   "source": [
    "len(merged_en), len(merged_kor)"
   ]
  },
  {
   "cell_type": "code",
   "execution_count": 16,
   "metadata": {},
   "outputs": [
    {
     "data": {
      "text/html": [
       "<div>\n",
       "<style scoped>\n",
       "    .dataframe tbody tr th:only-of-type {\n",
       "        vertical-align: middle;\n",
       "    }\n",
       "\n",
       "    .dataframe tbody tr th {\n",
       "        vertical-align: top;\n",
       "    }\n",
       "\n",
       "    .dataframe thead th {\n",
       "        text-align: right;\n",
       "    }\n",
       "</style>\n",
       "<table border=\"1\" class=\"dataframe\">\n",
       "  <thead>\n",
       "    <tr style=\"text-align: right;\">\n",
       "      <th></th>\n",
       "      <th>movieCd</th>\n",
       "      <th>movieNm</th>\n",
       "      <th>movieNmEn</th>\n",
       "      <th>prdtYear</th>\n",
       "      <th>openDt</th>\n",
       "      <th>prdtStatNm</th>\n",
       "      <th>repGenre</th>\n",
       "      <th>genre</th>\n",
       "      <th>repNation</th>\n",
       "      <th>nations</th>\n",
       "      <th>...</th>\n",
       "      <th>directors</th>\n",
       "      <th>actors</th>\n",
       "      <th>actors_en</th>\n",
       "      <th>cast</th>\n",
       "      <th>cast_en</th>\n",
       "      <th>companyCd</th>\n",
       "      <th>companyNm</th>\n",
       "      <th>companyNmEn</th>\n",
       "      <th>companyPartNm</th>\n",
       "      <th>watchGradeNm</th>\n",
       "    </tr>\n",
       "  </thead>\n",
       "  <tbody>\n",
       "    <tr>\n",
       "      <th>0</th>\n",
       "      <td>20196285</td>\n",
       "      <td>오만</td>\n",
       "      <td>Huris</td>\n",
       "      <td>2019</td>\n",
       "      <td>20190905</td>\n",
       "      <td>개봉</td>\n",
       "      <td>드라마</td>\n",
       "      <td>드라마</td>\n",
       "      <td>한국</td>\n",
       "      <td>한국</td>\n",
       "      <td>...</td>\n",
       "      <td>지일주</td>\n",
       "      <td>['지일주', '박원상', '김기방']</td>\n",
       "      <td>['JI Il-joo', 'PARK Won-sang', 'KIM Ki-Bang']</td>\n",
       "      <td>['', '', '']</td>\n",
       "      <td>['', '', '']</td>\n",
       "      <td>['20156848', '20156848']</td>\n",
       "      <td>['(주)백그림', '(주)백그림']</td>\n",
       "      <td>['', '']</td>\n",
       "      <td>['제작사', '배급사']</td>\n",
       "      <td>['15세이상관람가']</td>\n",
       "    </tr>\n",
       "    <tr>\n",
       "      <th>1</th>\n",
       "      <td>20183407</td>\n",
       "      <td>버티고</td>\n",
       "      <td>Vertigo</td>\n",
       "      <td>2019</td>\n",
       "      <td>20191016</td>\n",
       "      <td>개봉</td>\n",
       "      <td>드라마</td>\n",
       "      <td>드라마,멜로/로맨스</td>\n",
       "      <td>한국</td>\n",
       "      <td>한국</td>\n",
       "      <td>...</td>\n",
       "      <td>전계수</td>\n",
       "      <td>['천우희', '유태오', '정재광']</td>\n",
       "      <td>['CHUN Woo-hee', 'YOO Teo', 'JEONG Jae-gwang']</td>\n",
       "      <td>['서영', '', '관우']</td>\n",
       "      <td>['Seo-young', '', '']</td>\n",
       "      <td>['20100414', '20188741', '20188741', '20100851']</td>\n",
       "      <td>['영화사 도로시(주)', '(주)트리플픽쳐스', '(주)트리플픽쳐스', '(주)화...</td>\n",
       "      <td>['Film Dorothy', 'Triple Pictures Inc.', 'Trip...</td>\n",
       "      <td>['제작사', '배급사', '제공', '해외세일즈사']</td>\n",
       "      <td>['15세이상관람가']</td>\n",
       "    </tr>\n",
       "  </tbody>\n",
       "</table>\n",
       "<p>2 rows × 22 columns</p>\n",
       "</div>"
      ],
      "text/plain": [
       "    movieCd movieNm movieNmEn  prdtYear    openDt prdtStatNm repGenre  \\\n",
       "0  20196285      오만     Huris      2019  20190905         개봉      드라마   \n",
       "1  20183407     버티고   Vertigo      2019  20191016         개봉      드라마   \n",
       "\n",
       "        genre repNation nations  ... directors                 actors  \\\n",
       "0         드라마        한국      한국  ...       지일주  ['지일주', '박원상', '김기방']   \n",
       "1  드라마,멜로/로맨스        한국      한국  ...       전계수  ['천우희', '유태오', '정재광']   \n",
       "\n",
       "                                        actors_en              cast  \\\n",
       "0   ['JI Il-joo', 'PARK Won-sang', 'KIM Ki-Bang']      ['', '', '']   \n",
       "1  ['CHUN Woo-hee', 'YOO Teo', 'JEONG Jae-gwang']  ['서영', '', '관우']   \n",
       "\n",
       "                 cast_en                                         companyCd  \\\n",
       "0           ['', '', '']                          ['20156848', '20156848']   \n",
       "1  ['Seo-young', '', '']  ['20100414', '20188741', '20188741', '20100851']   \n",
       "\n",
       "                                           companyNm  \\\n",
       "0                               ['(주)백그림', '(주)백그림']   \n",
       "1  ['영화사 도로시(주)', '(주)트리플픽쳐스', '(주)트리플픽쳐스', '(주)화...   \n",
       "\n",
       "                                         companyNmEn  \\\n",
       "0                                           ['', '']   \n",
       "1  ['Film Dorothy', 'Triple Pictures Inc.', 'Trip...   \n",
       "\n",
       "                    companyPartNm  watchGradeNm  \n",
       "0                  ['제작사', '배급사']  ['15세이상관람가']  \n",
       "1  ['제작사', '배급사', '제공', '해외세일즈사']  ['15세이상관람가']  \n",
       "\n",
       "[2 rows x 22 columns]"
      ]
     },
     "execution_count": 16,
     "metadata": {},
     "output_type": "execute_result"
    }
   ],
   "source": [
    "merged_en.head(2)"
   ]
  },
  {
   "cell_type": "code",
   "execution_count": 19,
   "metadata": {},
   "outputs": [
    {
     "data": {
      "text/html": [
       "<div>\n",
       "<style scoped>\n",
       "    .dataframe tbody tr th:only-of-type {\n",
       "        vertical-align: middle;\n",
       "    }\n",
       "\n",
       "    .dataframe tbody tr th {\n",
       "        vertical-align: top;\n",
       "    }\n",
       "\n",
       "    .dataframe thead th {\n",
       "        text-align: right;\n",
       "    }\n",
       "</style>\n",
       "<table border=\"1\" class=\"dataframe\">\n",
       "  <thead>\n",
       "    <tr style=\"text-align: right;\">\n",
       "      <th></th>\n",
       "      <th>영화코드</th>\n",
       "      <th>영화명</th>\n",
       "      <th>영화명_영어</th>\n",
       "      <th>제작연도</th>\n",
       "      <th>개봉일</th>\n",
       "      <th>제작상태</th>\n",
       "      <th>대표장르</th>\n",
       "      <th>장르전체</th>\n",
       "      <th>대표제작국가</th>\n",
       "      <th>제작국가</th>\n",
       "      <th>...</th>\n",
       "      <th>감독명</th>\n",
       "      <th>배우명</th>\n",
       "      <th>배우명_영어</th>\n",
       "      <th>역할명</th>\n",
       "      <th>역할명_영어</th>\n",
       "      <th>참여영화사코드</th>\n",
       "      <th>참여영화사명</th>\n",
       "      <th>참여영화사명_영어</th>\n",
       "      <th>참영영화사분야명</th>\n",
       "      <th>관람등급</th>\n",
       "    </tr>\n",
       "  </thead>\n",
       "  <tbody>\n",
       "    <tr>\n",
       "      <th>19872</th>\n",
       "      <td>19910263</td>\n",
       "      <td>최가손우2</td>\n",
       "      <td>CRAZY COMPANIES 2</td>\n",
       "      <td>1988</td>\n",
       "      <td>19910803</td>\n",
       "      <td>개봉</td>\n",
       "      <td>NaN</td>\n",
       "      <td>NaN</td>\n",
       "      <td>NaN</td>\n",
       "      <td>NaN</td>\n",
       "      <td>...</td>\n",
       "      <td></td>\n",
       "      <td>NaN</td>\n",
       "      <td>NaN</td>\n",
       "      <td>NaN</td>\n",
       "      <td>NaN</td>\n",
       "      <td>NaN</td>\n",
       "      <td>NaN</td>\n",
       "      <td>NaN</td>\n",
       "      <td>NaN</td>\n",
       "      <td>NaN</td>\n",
       "    </tr>\n",
       "    <tr>\n",
       "      <th>19873</th>\n",
       "      <td>19910096</td>\n",
       "      <td>칙칙이의 내일은 참피온</td>\n",
       "      <td>Tomorrow's Champion</td>\n",
       "      <td>1991</td>\n",
       "      <td>19910803</td>\n",
       "      <td>개봉</td>\n",
       "      <td>코미디</td>\n",
       "      <td>코미디</td>\n",
       "      <td>한국</td>\n",
       "      <td>한국</td>\n",
       "      <td>...</td>\n",
       "      <td></td>\n",
       "      <td>['장고웅']</td>\n",
       "      <td>['JANG Go-ung ']</td>\n",
       "      <td>['']</td>\n",
       "      <td>['']</td>\n",
       "      <td>[]</td>\n",
       "      <td>[]</td>\n",
       "      <td>[]</td>\n",
       "      <td>[]</td>\n",
       "      <td>[]</td>\n",
       "    </tr>\n",
       "  </tbody>\n",
       "</table>\n",
       "<p>2 rows × 22 columns</p>\n",
       "</div>"
      ],
      "text/plain": [
       "           영화코드           영화명               영화명_영어  제작연도       개봉일 제작상태 대표장르  \\\n",
       "19872  19910263         최가손우2    CRAZY COMPANIES 2  1988  19910803   개봉  NaN   \n",
       "19873  19910096  칙칙이의 내일은 참피온  Tomorrow's Champion  1991  19910803   개봉  코미디   \n",
       "\n",
       "      장르전체 대표제작국가 제작국가  ... 감독명      배우명            배우명_영어   역할명 역할명_영어  \\\n",
       "19872  NaN    NaN  NaN  ...          NaN               NaN   NaN    NaN   \n",
       "19873  코미디     한국   한국  ...      ['장고웅']  ['JANG Go-ung ']  ['']   ['']   \n",
       "\n",
       "      참여영화사코드 참여영화사명 참여영화사명_영어 참영영화사분야명 관람등급  \n",
       "19872     NaN    NaN       NaN      NaN  NaN  \n",
       "19873      []     []        []       []   []  \n",
       "\n",
       "[2 rows x 22 columns]"
      ]
     },
     "execution_count": 19,
     "metadata": {},
     "output_type": "execute_result"
    }
   ],
   "source": [
    "merged_kor.tail(2)"
   ]
  },
  {
   "cell_type": "code",
   "execution_count": 21,
   "metadata": {},
   "outputs": [],
   "source": [
    "merged_en.to_csv(os.path.join(save_path, \"movie_merged_all_en.csv\"), index=None, encoding=\"utf-8\")"
   ]
  },
  {
   "cell_type": "code",
   "execution_count": 22,
   "metadata": {},
   "outputs": [],
   "source": [
    "merged_kor.to_csv(os.path.join(save_path, \"movie_merged_all_kor.csv\"), index=None, encoding=\"utf-8\")"
   ]
  },
  {
   "cell_type": "code",
   "execution_count": null,
   "metadata": {},
   "outputs": [],
   "source": []
  }
 ],
 "metadata": {
  "kernelspec": {
   "display_name": "movie-inside",
   "language": "python",
   "name": "movie-inside"
  },
  "language_info": {
   "codemirror_mode": {
    "name": "ipython",
    "version": 3
   },
   "file_extension": ".py",
   "mimetype": "text/x-python",
   "name": "python",
   "nbconvert_exporter": "python",
   "pygments_lexer": "ipython3",
   "version": "3.6.9"
  }
 },
 "nbformat": 4,
 "nbformat_minor": 2
}
