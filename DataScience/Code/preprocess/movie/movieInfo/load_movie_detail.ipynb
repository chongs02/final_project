{
 "cells": [
  {
   "cell_type": "code",
   "execution_count": 1,
   "metadata": {},
   "outputs": [],
   "source": [
    "import requests\n",
    "import numpy as np\n",
    "import pandas as pd\n",
    "import matplotlib.pyplot as plt\n",
    "from bs4 import BeautifulSoup\n",
    "import os\n",
    "import json"
   ]
  },
  {
   "cell_type": "code",
   "execution_count": 2,
   "metadata": {},
   "outputs": [],
   "source": [
    "data_path = r\"D:\\workspace-Jwp\\Final_Data\""
   ]
  },
  {
   "cell_type": "code",
   "execution_count": 3,
   "metadata": {},
   "outputs": [],
   "source": [
    "movie_list = pd.read_csv(os.path.join(data_path, \"movies_2018_3.csv\"), encoding=\"utf-8\")"
   ]
  },
  {
   "cell_type": "code",
   "execution_count": 5,
   "metadata": {},
   "outputs": [
    {
     "data": {
      "text/html": [
       "<div>\n",
       "<style scoped>\n",
       "    .dataframe tbody tr th:only-of-type {\n",
       "        vertical-align: middle;\n",
       "    }\n",
       "\n",
       "    .dataframe tbody tr th {\n",
       "        vertical-align: top;\n",
       "    }\n",
       "\n",
       "    .dataframe thead th {\n",
       "        text-align: right;\n",
       "    }\n",
       "</style>\n",
       "<table border=\"1\" class=\"dataframe\">\n",
       "  <thead>\n",
       "    <tr style=\"text-align: right;\">\n",
       "      <th></th>\n",
       "      <th>movieCd</th>\n",
       "      <th>movieNm</th>\n",
       "      <th>movieNmEn</th>\n",
       "      <th>prdtYear</th>\n",
       "      <th>openDt</th>\n",
       "      <th>typeNm</th>\n",
       "      <th>prdtStatNm</th>\n",
       "      <th>nationAlt</th>\n",
       "      <th>genreAlt</th>\n",
       "      <th>repNationNm</th>\n",
       "      <th>repGenreNm</th>\n",
       "      <th>directors</th>\n",
       "      <th>companyCd</th>\n",
       "      <th>companyNm</th>\n",
       "    </tr>\n",
       "  </thead>\n",
       "  <tbody>\n",
       "    <tr>\n",
       "      <th>0</th>\n",
       "      <td>20184678</td>\n",
       "      <td>배반의 장미</td>\n",
       "      <td>Too Hot to Die</td>\n",
       "      <td>2018.0</td>\n",
       "      <td>20181018</td>\n",
       "      <td>장편</td>\n",
       "      <td>개봉</td>\n",
       "      <td>한국</td>\n",
       "      <td>코미디</td>\n",
       "      <td>한국</td>\n",
       "      <td>코미디</td>\n",
       "      <td>('박진영', ' ', ' ', ' ')</td>\n",
       "      <td>('20100947', ' ', ' ')</td>\n",
       "      <td>('(주)태원엔터테인먼트', ' ', ' ')</td>\n",
       "    </tr>\n",
       "    <tr>\n",
       "      <th>1</th>\n",
       "      <td>20174442</td>\n",
       "      <td>뷰티풀 데이즈</td>\n",
       "      <td>Beautiful Days</td>\n",
       "      <td>2018.0</td>\n",
       "      <td>20181121</td>\n",
       "      <td>장편</td>\n",
       "      <td>개봉</td>\n",
       "      <td>한국,프랑스</td>\n",
       "      <td>드라마</td>\n",
       "      <td>한국</td>\n",
       "      <td>드라마</td>\n",
       "      <td>('윤재호', ' ', ' ', ' ')</td>\n",
       "      <td>('20101149', ' ', ' ')</td>\n",
       "      <td>('(주)페퍼민트앤컴퍼니', ' ', ' ')</td>\n",
       "    </tr>\n",
       "    <tr>\n",
       "      <th>2</th>\n",
       "      <td>20168766</td>\n",
       "      <td>종이 비행기</td>\n",
       "      <td>Paper Planes</td>\n",
       "      <td>2016.0</td>\n",
       "      <td>20180131</td>\n",
       "      <td>장편</td>\n",
       "      <td>개봉</td>\n",
       "      <td>한국</td>\n",
       "      <td>드라마</td>\n",
       "      <td>한국</td>\n",
       "      <td>드라마</td>\n",
       "      <td>('노홍식', '필동', ' ', ' ')</td>\n",
       "      <td>('20112272', ' ', ' ')</td>\n",
       "      <td>('(주)파란프로덕션', ' ', ' ')</td>\n",
       "    </tr>\n",
       "    <tr>\n",
       "      <th>3</th>\n",
       "      <td>20182466</td>\n",
       "      <td>퀴어영화 뷰티풀</td>\n",
       "      <td>QUEER MOVIE Beautiful</td>\n",
       "      <td>2018.0</td>\n",
       "      <td>20181006</td>\n",
       "      <td>장편</td>\n",
       "      <td>개봉</td>\n",
       "      <td>한국</td>\n",
       "      <td>멜로/로맨스,코미디</td>\n",
       "      <td>한국</td>\n",
       "      <td>멜로/로맨스</td>\n",
       "      <td>('백인규', ' ', ' ', ' ')</td>\n",
       "      <td>('20140513', ' ', ' ')</td>\n",
       "      <td>('99film', ' ', ' ')</td>\n",
       "    </tr>\n",
       "    <tr>\n",
       "      <th>4</th>\n",
       "      <td>20177981</td>\n",
       "      <td>밤치기</td>\n",
       "      <td>Hit the Night</td>\n",
       "      <td>2017.0</td>\n",
       "      <td>20181101</td>\n",
       "      <td>장편</td>\n",
       "      <td>개봉</td>\n",
       "      <td>한국</td>\n",
       "      <td>멜로/로맨스</td>\n",
       "      <td>한국</td>\n",
       "      <td>멜로/로맨스</td>\n",
       "      <td>('정가영', ' ', ' ', ' ')</td>\n",
       "      <td>('20175761', ' ', ' ')</td>\n",
       "      <td>('(주)레진엔터테인먼트', ' ', ' ')</td>\n",
       "    </tr>\n",
       "  </tbody>\n",
       "</table>\n",
       "</div>"
      ],
      "text/plain": [
       "    movieCd   movieNm              movieNmEn  prdtYear    openDt typeNm  \\\n",
       "0  20184678    배반의 장미         Too Hot to Die    2018.0  20181018     장편   \n",
       "1  20174442   뷰티풀 데이즈         Beautiful Days    2018.0  20181121     장편   \n",
       "2  20168766    종이 비행기           Paper Planes    2016.0  20180131     장편   \n",
       "3  20182466  퀴어영화 뷰티풀  QUEER MOVIE Beautiful    2018.0  20181006     장편   \n",
       "4  20177981       밤치기          Hit the Night    2017.0  20181101     장편   \n",
       "\n",
       "  prdtStatNm nationAlt    genreAlt repNationNm repGenreNm  \\\n",
       "0         개봉        한국         코미디          한국        코미디   \n",
       "1         개봉    한국,프랑스         드라마          한국        드라마   \n",
       "2         개봉        한국         드라마          한국        드라마   \n",
       "3         개봉        한국  멜로/로맨스,코미디          한국     멜로/로맨스   \n",
       "4         개봉        한국      멜로/로맨스          한국     멜로/로맨스   \n",
       "\n",
       "                 directors               companyCd                  companyNm  \n",
       "0   ('박진영', ' ', ' ', ' ')  ('20100947', ' ', ' ')  ('(주)태원엔터테인먼트', ' ', ' ')  \n",
       "1   ('윤재호', ' ', ' ', ' ')  ('20101149', ' ', ' ')  ('(주)페퍼민트앤컴퍼니', ' ', ' ')  \n",
       "2  ('노홍식', '필동', ' ', ' ')  ('20112272', ' ', ' ')    ('(주)파란프로덕션', ' ', ' ')  \n",
       "3   ('백인규', ' ', ' ', ' ')  ('20140513', ' ', ' ')       ('99film', ' ', ' ')  \n",
       "4   ('정가영', ' ', ' ', ' ')  ('20175761', ' ', ' ')  ('(주)레진엔터테인먼트', ' ', ' ')  "
      ]
     },
     "execution_count": 5,
     "metadata": {},
     "output_type": "execute_result"
    }
   ],
   "source": [
    "movie_list.head()"
   ]
  },
  {
   "cell_type": "code",
   "execution_count": 11,
   "metadata": {},
   "outputs": [],
   "source": [
    "movie_code = movie_list[\"movieCd\"].to_list()"
   ]
  },
  {
   "cell_type": "code",
   "execution_count": 15,
   "metadata": {},
   "outputs": [
    {
     "data": {
      "text/plain": [
       "20184678"
      ]
     },
     "execution_count": 15,
     "metadata": {},
     "output_type": "execute_result"
    }
   ],
   "source": [
    "code = movie_code[0]\n",
    "code"
   ]
  },
  {
   "cell_type": "code",
   "execution_count": 14,
   "metadata": {},
   "outputs": [],
   "source": [
    "url = f\"http://www.kobis.or.kr/kobisopenapi/webservice/rest/movie/searchMovieInfo.json?key=430156241533f1d058c603178cc3ca0e&movieCd={code}\""
   ]
  },
  {
   "cell_type": "code",
   "execution_count": null,
   "metadata": {},
   "outputs": [],
   "source": []
  }
 ],
 "metadata": {
  "kernelspec": {
   "display_name": "Python 3",
   "language": "python",
   "name": "python3"
  },
  "language_info": {
   "codemirror_mode": {
    "name": "ipython",
    "version": 3
   },
   "file_extension": ".py",
   "mimetype": "text/x-python",
   "name": "python",
   "nbconvert_exporter": "python",
   "pygments_lexer": "ipython3",
   "version": "3.6.9"
  }
 },
 "nbformat": 4,
 "nbformat_minor": 2
}
