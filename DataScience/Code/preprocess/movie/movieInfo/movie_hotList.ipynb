{
 "cells": [
  {
   "cell_type": "code",
   "execution_count": 18,
   "metadata": {},
   "outputs": [],
   "source": [
    "import requests\n",
    "import numpy as np\n",
    "import pandas as pd\n",
    "import matplotlib.pyplot as plt\n",
    "from bs4 import BeautifulSoup\n",
    "\n",
    "import math\n",
    "import os\n",
    "import json"
   ]
  },
  {
   "cell_type": "code",
   "execution_count": 3,
   "metadata": {},
   "outputs": [],
   "source": [
    "save_path = r\"C:\\Users\\Jwp\\Desktop\\workspace\\Final_project\\DataScience\\Final_Data\\movie\\movieInfo\""
   ]
  },
  {
   "cell_type": "code",
   "execution_count": 4,
   "metadata": {},
   "outputs": [],
   "source": [
    "name = '타이타닉'"
   ]
  },
  {
   "cell_type": "code",
   "execution_count": 5,
   "metadata": {},
   "outputs": [],
   "source": [
    "def load_hot_movies(name):\n",
    "    name = name\n",
    "    \n",
    "    url = f\"http://www.kobis.or.kr/kobisopenapi/webservice/rest/movie/searchMovieList.json?key=430156241533f1d058c603178cc3ca0e&movieNm={name}\"\n",
    "    res = requests.get(url)\n",
    "    movies = res.json()[\"movieListResult\"][\"movieList\"]\n",
    "    \n",
    "    movie = pd.DataFrame(movies, columns=movies[0].keys()).iloc[[0]]\n",
    "    movie.directors = movie.directors.iloc[0][0]['peopleNm']\n",
    "    try:\n",
    "        stor = list(movie.companys[0][0].values())\n",
    "        movie['companyCd'] = stor[0]\n",
    "        movie['companyNm'] = stor[1]\n",
    "    except:\n",
    "        pass\n",
    "    movie = movie.drop('companys', axis=1)\n",
    "    \n",
    "    return movie"
   ]
  },
  {
   "cell_type": "code",
   "execution_count": 6,
   "metadata": {},
   "outputs": [],
   "source": [
    "movie_name = ['82년생 김지영','말레피센트 2','조커','가장 보통의 연애','람보 : 라스트 워','퍼펙트맨', '두번할까요','날씨의 아이','더 킹: 헨리 5세','경계선']"
   ]
  },
  {
   "cell_type": "code",
   "execution_count": 7,
   "metadata": {},
   "outputs": [],
   "source": [
    "movies = [load_hot_movies(i) for i in movie_name]"
   ]
  },
  {
   "cell_type": "code",
   "execution_count": 8,
   "metadata": {},
   "outputs": [
    {
     "data": {
      "text/plain": [
       "10"
      ]
     },
     "execution_count": 8,
     "metadata": {},
     "output_type": "execute_result"
    }
   ],
   "source": [
    "len(movies)"
   ]
  },
  {
   "cell_type": "code",
   "execution_count": 9,
   "metadata": {
    "scrolled": true
   },
   "outputs": [
    {
     "name": "stderr",
     "output_type": "stream",
     "text": [
      "C:\\Users\\Jwp\\Anaconda3\\envs\\movie-inside\\lib\\site-packages\\ipykernel_launcher.py:3: FutureWarning: Sorting because non-concatenation axis is not aligned. A future version\n",
      "of pandas will change to not sort by default.\n",
      "\n",
      "To accept the future behavior, pass 'sort=False'.\n",
      "\n",
      "To retain the current behavior and silence the warning, pass 'sort=True'.\n",
      "\n",
      "  This is separate from the ipykernel package so we can avoid doing imports until\n"
     ]
    }
   ],
   "source": [
    "mlist = pd.DataFrame()\n",
    "for movie in movies:\n",
    "    mlist = pd.concat([mlist, movie], axis=0)"
   ]
  },
  {
   "cell_type": "code",
   "execution_count": 10,
   "metadata": {},
   "outputs": [],
   "source": [
    "mlist = mlist[movies[0].keys()]"
   ]
  },
  {
   "cell_type": "code",
   "execution_count": 13,
   "metadata": {},
   "outputs": [
    {
     "data": {
      "text/html": [
       "<div>\n",
       "<style scoped>\n",
       "    .dataframe tbody tr th:only-of-type {\n",
       "        vertical-align: middle;\n",
       "    }\n",
       "\n",
       "    .dataframe tbody tr th {\n",
       "        vertical-align: top;\n",
       "    }\n",
       "\n",
       "    .dataframe thead th {\n",
       "        text-align: right;\n",
       "    }\n",
       "</style>\n",
       "<table border=\"1\" class=\"dataframe\">\n",
       "  <thead>\n",
       "    <tr style=\"text-align: right;\">\n",
       "      <th></th>\n",
       "      <th>movieCd</th>\n",
       "      <th>movieNm</th>\n",
       "      <th>movieNmEn</th>\n",
       "      <th>prdtYear</th>\n",
       "      <th>openDt</th>\n",
       "      <th>typeNm</th>\n",
       "      <th>prdtStatNm</th>\n",
       "      <th>nationAlt</th>\n",
       "      <th>genreAlt</th>\n",
       "      <th>repNationNm</th>\n",
       "      <th>repGenreNm</th>\n",
       "      <th>directors</th>\n",
       "      <th>companyCd</th>\n",
       "      <th>companyNm</th>\n",
       "    </tr>\n",
       "  </thead>\n",
       "  <tbody>\n",
       "    <tr>\n",
       "      <td>0</td>\n",
       "      <td>20191029</td>\n",
       "      <td>82년생 김지영</td>\n",
       "      <td>KIM JI-YOUNG, BORN 1982</td>\n",
       "      <td>2019</td>\n",
       "      <td>20191023</td>\n",
       "      <td>장편</td>\n",
       "      <td>개봉</td>\n",
       "      <td>한국</td>\n",
       "      <td>드라마</td>\n",
       "      <td>한국</td>\n",
       "      <td>드라마</td>\n",
       "      <td>김도영</td>\n",
       "      <td>20192181</td>\n",
       "      <td>(주)봄바람영화사</td>\n",
       "    </tr>\n",
       "    <tr>\n",
       "      <td>0</td>\n",
       "      <td>20191589</td>\n",
       "      <td>말레피센트 2</td>\n",
       "      <td>Maleficent: Mistress of Evil</td>\n",
       "      <td>2019</td>\n",
       "      <td>20191017</td>\n",
       "      <td>장편</td>\n",
       "      <td>개봉</td>\n",
       "      <td>미국</td>\n",
       "      <td>어드벤처,가족,판타지</td>\n",
       "      <td>미국</td>\n",
       "      <td>어드벤처</td>\n",
       "      <td>요아킴 뢰닝</td>\n",
       "      <td>NaN</td>\n",
       "      <td>NaN</td>\n",
       "    </tr>\n",
       "    <tr>\n",
       "      <td>0</td>\n",
       "      <td>20199950</td>\n",
       "      <td>조커</td>\n",
       "      <td>Joker</td>\n",
       "      <td>2019</td>\n",
       "      <td>20191002</td>\n",
       "      <td>장편</td>\n",
       "      <td>개봉</td>\n",
       "      <td>미국</td>\n",
       "      <td>액션,드라마,스릴러</td>\n",
       "      <td>미국</td>\n",
       "      <td>액션</td>\n",
       "      <td>토드 필립스</td>\n",
       "      <td>NaN</td>\n",
       "      <td>NaN</td>\n",
       "    </tr>\n",
       "    <tr>\n",
       "      <td>0</td>\n",
       "      <td>20195920</td>\n",
       "      <td>가장 보통의 연애</td>\n",
       "      <td>Crazy Romance</td>\n",
       "      <td>2019</td>\n",
       "      <td>20191002</td>\n",
       "      <td>장편</td>\n",
       "      <td>개봉</td>\n",
       "      <td>한국</td>\n",
       "      <td>멜로/로맨스,코미디</td>\n",
       "      <td>한국</td>\n",
       "      <td>멜로/로맨스</td>\n",
       "      <td>김한결</td>\n",
       "      <td>20100450</td>\n",
       "      <td>영화사 집</td>\n",
       "    </tr>\n",
       "    <tr>\n",
       "      <td>0</td>\n",
       "      <td>20196136</td>\n",
       "      <td>람보 : 라스트 워</td>\n",
       "      <td>Rambo: Last Blood</td>\n",
       "      <td>2019</td>\n",
       "      <td>20191023</td>\n",
       "      <td>장편</td>\n",
       "      <td>개봉</td>\n",
       "      <td>미국</td>\n",
       "      <td>액션</td>\n",
       "      <td>미국</td>\n",
       "      <td>액션</td>\n",
       "      <td>애드리언 그런버그</td>\n",
       "      <td>NaN</td>\n",
       "      <td>NaN</td>\n",
       "    </tr>\n",
       "    <tr>\n",
       "      <td>0</td>\n",
       "      <td>20184483</td>\n",
       "      <td>퍼펙트맨</td>\n",
       "      <td>Man of Men</td>\n",
       "      <td>2019</td>\n",
       "      <td>20191002</td>\n",
       "      <td>장편</td>\n",
       "      <td>개봉</td>\n",
       "      <td>한국</td>\n",
       "      <td>코미디,드라마</td>\n",
       "      <td>한국</td>\n",
       "      <td>코미디</td>\n",
       "      <td>용수</td>\n",
       "      <td>20187561</td>\n",
       "      <td>(주)맨필름</td>\n",
       "    </tr>\n",
       "    <tr>\n",
       "      <td>0</td>\n",
       "      <td>20185361</td>\n",
       "      <td>두번할까요</td>\n",
       "      <td>LOVE, AGAIN</td>\n",
       "      <td>2019</td>\n",
       "      <td>20191017</td>\n",
       "      <td>장편</td>\n",
       "      <td>개봉</td>\n",
       "      <td>한국</td>\n",
       "      <td>코미디,멜로/로맨스</td>\n",
       "      <td>한국</td>\n",
       "      <td>코미디</td>\n",
       "      <td>박용집</td>\n",
       "      <td>20122736</td>\n",
       "      <td>(주)영화사울림</td>\n",
       "    </tr>\n",
       "    <tr>\n",
       "      <td>0</td>\n",
       "      <td>20190280</td>\n",
       "      <td>날씨의 아이</td>\n",
       "      <td>Weathering With You</td>\n",
       "      <td>2019</td>\n",
       "      <td>20191030</td>\n",
       "      <td>장편</td>\n",
       "      <td>개봉예정</td>\n",
       "      <td>일본</td>\n",
       "      <td>애니메이션,판타지,멜로/로맨스</td>\n",
       "      <td>일본</td>\n",
       "      <td>애니메이션</td>\n",
       "      <td>신카이 마코토</td>\n",
       "      <td>NaN</td>\n",
       "      <td>NaN</td>\n",
       "    </tr>\n",
       "    <tr>\n",
       "      <td>0</td>\n",
       "      <td>20198961</td>\n",
       "      <td>더 킹: 헨리 5세</td>\n",
       "      <td>The King</td>\n",
       "      <td>2019</td>\n",
       "      <td>20191023</td>\n",
       "      <td>장편</td>\n",
       "      <td>개봉</td>\n",
       "      <td>네덜란드</td>\n",
       "      <td>드라마</td>\n",
       "      <td>네덜란드</td>\n",
       "      <td>드라마</td>\n",
       "      <td>데이비드 미쇼</td>\n",
       "      <td>NaN</td>\n",
       "      <td>NaN</td>\n",
       "    </tr>\n",
       "    <tr>\n",
       "      <td>0</td>\n",
       "      <td>20195005</td>\n",
       "      <td>경계선</td>\n",
       "      <td>Border</td>\n",
       "      <td>2018</td>\n",
       "      <td>20191024</td>\n",
       "      <td>장편</td>\n",
       "      <td>개봉</td>\n",
       "      <td>스웨덴,덴마크</td>\n",
       "      <td>판타지,멜로/로맨스</td>\n",
       "      <td>스웨덴</td>\n",
       "      <td>판타지</td>\n",
       "      <td>알리 아바시</td>\n",
       "      <td>NaN</td>\n",
       "      <td>NaN</td>\n",
       "    </tr>\n",
       "  </tbody>\n",
       "</table>\n",
       "</div>"
      ],
      "text/plain": [
       "    movieCd     movieNm                     movieNmEn prdtYear    openDt  \\\n",
       "0  20191029    82년생 김지영      KIM JI-YOUNG, BORN 1982      2019  20191023   \n",
       "0  20191589     말레피센트 2  Maleficent: Mistress of Evil     2019  20191017   \n",
       "0  20199950          조커                         Joker     2019  20191002   \n",
       "0  20195920   가장 보통의 연애                 Crazy Romance     2019  20191002   \n",
       "0  20196136  람보 : 라스트 워             Rambo: Last Blood     2019  20191023   \n",
       "0  20184483        퍼펙트맨                    Man of Men     2019  20191002   \n",
       "0  20185361       두번할까요                   LOVE, AGAIN     2019  20191017   \n",
       "0  20190280      날씨의 아이           Weathering With You     2019  20191030   \n",
       "0  20198961  더 킹: 헨리 5세                      The King     2019  20191023   \n",
       "0  20195005         경계선                        Border     2018  20191024   \n",
       "\n",
       "  typeNm prdtStatNm nationAlt          genreAlt repNationNm repGenreNm  \\\n",
       "0     장편         개봉        한국               드라마          한국        드라마   \n",
       "0     장편         개봉        미국       어드벤처,가족,판타지          미국       어드벤처   \n",
       "0     장편         개봉        미국        액션,드라마,스릴러          미국         액션   \n",
       "0     장편         개봉        한국        멜로/로맨스,코미디          한국     멜로/로맨스   \n",
       "0     장편         개봉        미국                액션          미국         액션   \n",
       "0     장편         개봉        한국           코미디,드라마          한국        코미디   \n",
       "0     장편         개봉        한국        코미디,멜로/로맨스          한국        코미디   \n",
       "0     장편       개봉예정        일본  애니메이션,판타지,멜로/로맨스          일본      애니메이션   \n",
       "0     장편         개봉      네덜란드               드라마        네덜란드        드라마   \n",
       "0     장편         개봉   스웨덴,덴마크        판타지,멜로/로맨스         스웨덴        판타지   \n",
       "\n",
       "   directors companyCd  companyNm  \n",
       "0        김도영  20192181  (주)봄바람영화사  \n",
       "0     요아킴 뢰닝       NaN        NaN  \n",
       "0     토드 필립스       NaN        NaN  \n",
       "0        김한결  20100450      영화사 집  \n",
       "0  애드리언 그런버그       NaN        NaN  \n",
       "0         용수  20187561     (주)맨필름  \n",
       "0        박용집  20122736   (주)영화사울림  \n",
       "0    신카이 마코토       NaN        NaN  \n",
       "0    데이비드 미쇼       NaN        NaN  \n",
       "0     알리 아바시       NaN        NaN  "
      ]
     },
     "execution_count": 13,
     "metadata": {},
     "output_type": "execute_result"
    }
   ],
   "source": [
    "mlist"
   ]
  },
  {
   "cell_type": "code",
   "execution_count": 11,
   "metadata": {},
   "outputs": [],
   "source": [
    "mlist.to_csv(os.path.join(save_path, \"movie_list.csv\"), index=None, encoding='euc-kr')"
   ]
  },
  {
   "cell_type": "code",
   "execution_count": 17,
   "metadata": {},
   "outputs": [
    {
     "data": {
      "text/plain": [
       "14"
      ]
     },
     "execution_count": 17,
     "metadata": {},
     "output_type": "execute_result"
    }
   ],
   "source": [
    "len(mlist.columns)"
   ]
  },
  {
   "cell_type": "code",
   "execution_count": null,
   "metadata": {},
   "outputs": [],
   "source": []
  },
  {
   "cell_type": "code",
   "execution_count": null,
   "metadata": {},
   "outputs": [],
   "source": []
  },
  {
   "cell_type": "code",
   "execution_count": 14,
   "metadata": {},
   "outputs": [],
   "source": [
    "name = '조커'\n",
    "\n",
    "url = f\"http://www.kobis.or.kr/kobisopenapi/webservice/rest/movie/searchMovieList.json?key=430156241533f1d058c603178cc3ca0e&movieNm={name}\"\n",
    "res = requests.get(url)\n",
    "movies = res.json()[\"movieListResult\"][\"movieList\"]"
   ]
  },
  {
   "cell_type": "code",
   "execution_count": 15,
   "metadata": {},
   "outputs": [],
   "source": [
    "movie = pd.DataFrame(movies, columns=movies[0].keys()).iloc[[0]]"
   ]
  },
  {
   "cell_type": "code",
   "execution_count": 16,
   "metadata": {},
   "outputs": [
    {
     "data": {
      "text/plain": [
       "dict_keys(['movieCd', 'movieNm', 'movieNmEn', 'prdtYear', 'openDt', 'typeNm', 'prdtStatNm', 'nationAlt', 'genreAlt', 'repNationNm', 'repGenreNm', 'directors', 'companys'])"
      ]
     },
     "execution_count": 16,
     "metadata": {},
     "output_type": "execute_result"
    }
   ],
   "source": [
    "movies[0].keys()"
   ]
  },
  {
   "cell_type": "code",
   "execution_count": 17,
   "metadata": {},
   "outputs": [
    {
     "data": {
      "text/html": [
       "<div>\n",
       "<style scoped>\n",
       "    .dataframe tbody tr th:only-of-type {\n",
       "        vertical-align: middle;\n",
       "    }\n",
       "\n",
       "    .dataframe tbody tr th {\n",
       "        vertical-align: top;\n",
       "    }\n",
       "\n",
       "    .dataframe thead th {\n",
       "        text-align: right;\n",
       "    }\n",
       "</style>\n",
       "<table border=\"1\" class=\"dataframe\">\n",
       "  <thead>\n",
       "    <tr style=\"text-align: right;\">\n",
       "      <th></th>\n",
       "      <th>movieCd</th>\n",
       "      <th>movieNm</th>\n",
       "      <th>movieNmEn</th>\n",
       "      <th>prdtYear</th>\n",
       "      <th>openDt</th>\n",
       "      <th>typeNm</th>\n",
       "      <th>prdtStatNm</th>\n",
       "      <th>nationAlt</th>\n",
       "      <th>genreAlt</th>\n",
       "      <th>repNationNm</th>\n",
       "      <th>repGenreNm</th>\n",
       "      <th>directors</th>\n",
       "      <th>companys</th>\n",
       "    </tr>\n",
       "  </thead>\n",
       "  <tbody>\n",
       "    <tr>\n",
       "      <td>0</td>\n",
       "      <td>20199950</td>\n",
       "      <td>조커</td>\n",
       "      <td>Joker</td>\n",
       "      <td>2019</td>\n",
       "      <td>20191002</td>\n",
       "      <td>장편</td>\n",
       "      <td>개봉</td>\n",
       "      <td>미국</td>\n",
       "      <td>액션,드라마,스릴러</td>\n",
       "      <td>미국</td>\n",
       "      <td>액션</td>\n",
       "      <td>[{'peopleNm': '토드 필립스'}]</td>\n",
       "      <td>[]</td>\n",
       "    </tr>\n",
       "  </tbody>\n",
       "</table>\n",
       "</div>"
      ],
      "text/plain": [
       "    movieCd movieNm movieNmEn prdtYear    openDt typeNm prdtStatNm nationAlt  \\\n",
       "0  20199950      조커     Joker     2019  20191002     장편         개봉        미국   \n",
       "\n",
       "     genreAlt repNationNm repGenreNm                 directors companys  \n",
       "0  액션,드라마,스릴러          미국         액션  [{'peopleNm': '토드 필립스'}]       []  "
      ]
     },
     "execution_count": 17,
     "metadata": {},
     "output_type": "execute_result"
    }
   ],
   "source": [
    "movie"
   ]
  },
  {
   "cell_type": "code",
   "execution_count": null,
   "metadata": {},
   "outputs": [],
   "source": []
  }
 ],
 "metadata": {
  "kernelspec": {
   "display_name": "movie-inside",
   "language": "python",
   "name": "movie-inside"
  },
  "language_info": {
   "codemirror_mode": {
    "name": "ipython",
    "version": 3
   },
   "file_extension": ".py",
   "mimetype": "text/x-python",
   "name": "python",
   "nbconvert_exporter": "python",
   "pygments_lexer": "ipython3",
   "version": "3.6.9"
  }
 },
 "nbformat": 4,
 "nbformat_minor": 2
}
