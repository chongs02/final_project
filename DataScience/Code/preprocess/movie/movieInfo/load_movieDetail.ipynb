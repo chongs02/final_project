{
 "cells": [
  {
   "cell_type": "markdown",
   "metadata": {},
   "source": [
    "## Kofic API 영화 상세 목록 로드<br>\n",
    "\n",
    "### API Key 하나당 일일 **3000개** 요청 제한\n",
    "- 영화목록 데이터를 **2900**개씩 분할하여 요청"
   ]
  },
  {
   "cell_type": "code",
   "execution_count": 25,
   "metadata": {},
   "outputs": [],
   "source": [
    "import requests\n",
    "import numpy as np\n",
    "import pandas as pd\n",
    "import matplotlib.pyplot as plt\n",
    "from bs4 import BeautifulSoup\n",
    "\n",
    "from tqdm import tqdm\n",
    "\n",
    "import os\n",
    "import time\n",
    "import json"
   ]
  },
  {
   "cell_type": "code",
   "execution_count": 26,
   "metadata": {},
   "outputs": [],
   "source": [
    "save_path = r\"C:\\Users\\Jwp\\Desktop\\workspace\\Final_project\\DataScience\\Final_Data\\movie\\movieInfo\\all\""
   ]
  },
  {
   "cell_type": "code",
   "execution_count": 27,
   "metadata": {},
   "outputs": [],
   "source": [
    "key1 = \"430156241533f1d058c603178cc3ca0e\"\n",
    "key2 = \"843263a42ef422fedcc5a1abcbbfbaa7\"\n",
    "key3 = \"6c3bac1836c5bf83e8beef288cbd5665\"\n",
    "key4 = \"918fb53581a78bbd50069905bb10fc8c\"\n",
    "key5 = \"8332302a9428957b49381ad9224573f8\""
   ]
  },
  {
   "cell_type": "code",
   "execution_count": 3,
   "metadata": {},
   "outputs": [],
   "source": [
    "mlist = pd.read_csv(os.path.join(save_path, \"movie_list_all.csv\"), encoding=\"utf-8\")"
   ]
  },
  {
   "cell_type": "code",
   "execution_count": 30,
   "metadata": {},
   "outputs": [
    {
     "data": {
      "text/html": [
       "<div>\n",
       "<style scoped>\n",
       "    .dataframe tbody tr th:only-of-type {\n",
       "        vertical-align: middle;\n",
       "    }\n",
       "\n",
       "    .dataframe tbody tr th {\n",
       "        vertical-align: top;\n",
       "    }\n",
       "\n",
       "    .dataframe thead th {\n",
       "        text-align: right;\n",
       "    }\n",
       "</style>\n",
       "<table border=\"1\" class=\"dataframe\">\n",
       "  <thead>\n",
       "    <tr style=\"text-align: right;\">\n",
       "      <th></th>\n",
       "      <th>movieCd</th>\n",
       "      <th>movieNm</th>\n",
       "      <th>movieNmEn</th>\n",
       "      <th>prdtYear</th>\n",
       "      <th>openDt</th>\n",
       "      <th>typeNm</th>\n",
       "      <th>prdtStatNm</th>\n",
       "      <th>nationAlt</th>\n",
       "      <th>genreAlt</th>\n",
       "      <th>repNationNm</th>\n",
       "      <th>repGenreNm</th>\n",
       "      <th>directors</th>\n",
       "      <th>companyCd</th>\n",
       "      <th>companyNm</th>\n",
       "    </tr>\n",
       "  </thead>\n",
       "  <tbody>\n",
       "    <tr>\n",
       "      <th>19872</th>\n",
       "      <td>19910263</td>\n",
       "      <td>최가손우2</td>\n",
       "      <td>CRAZY COMPANIES 2</td>\n",
       "      <td>1988</td>\n",
       "      <td>19910803</td>\n",
       "      <td>NaN</td>\n",
       "      <td>개봉</td>\n",
       "      <td>NaN</td>\n",
       "      <td>NaN</td>\n",
       "      <td>NaN</td>\n",
       "      <td>NaN</td>\n",
       "      <td></td>\n",
       "      <td>(' ', ' ', ' ', ' ', ' ', ' ', ' ', ' ', ' ', ...</td>\n",
       "      <td>(' ', ' ', ' ', ' ', ' ', ' ', ' ', ' ', ' ', ...</td>\n",
       "    </tr>\n",
       "    <tr>\n",
       "      <th>19873</th>\n",
       "      <td>19910096</td>\n",
       "      <td>칙칙이의 내일은 참피온</td>\n",
       "      <td>Tomorrow's Champion</td>\n",
       "      <td>1991</td>\n",
       "      <td>19910803</td>\n",
       "      <td>장편</td>\n",
       "      <td>개봉</td>\n",
       "      <td>한국</td>\n",
       "      <td>코미디</td>\n",
       "      <td>한국</td>\n",
       "      <td>코미디</td>\n",
       "      <td></td>\n",
       "      <td>(' ', ' ', ' ', ' ', ' ', ' ', ' ', ' ', ' ', ...</td>\n",
       "      <td>(' ', ' ', ' ', ' ', ' ', ' ', ' ', ' ', ' ', ...</td>\n",
       "    </tr>\n",
       "  </tbody>\n",
       "</table>\n",
       "</div>"
      ],
      "text/plain": [
       "        movieCd       movieNm            movieNmEn  prdtYear    openDt typeNm  \\\n",
       "19872  19910263         최가손우2    CRAZY COMPANIES 2      1988  19910803    NaN   \n",
       "19873  19910096  칙칙이의 내일은 참피온  Tomorrow's Champion      1991  19910803     장편   \n",
       "\n",
       "      prdtStatNm nationAlt genreAlt repNationNm repGenreNm directors  \\\n",
       "19872         개봉       NaN      NaN         NaN        NaN             \n",
       "19873         개봉        한국      코미디          한국        코미디             \n",
       "\n",
       "                                               companyCd  \\\n",
       "19872  (' ', ' ', ' ', ' ', ' ', ' ', ' ', ' ', ' ', ...   \n",
       "19873  (' ', ' ', ' ', ' ', ' ', ' ', ' ', ' ', ' ', ...   \n",
       "\n",
       "                                               companyNm  \n",
       "19872  (' ', ' ', ' ', ' ', ' ', ' ', ' ', ' ', ' ', ...  \n",
       "19873  (' ', ' ', ' ', ' ', ' ', ' ', ' ', ' ', ' ', ...  "
      ]
     },
     "execution_count": 30,
     "metadata": {},
     "output_type": "execute_result"
    }
   ],
   "source": [
    "mlist.tail(2)"
   ]
  },
  {
   "cell_type": "markdown",
   "metadata": {},
   "source": [
    "### 데이터 분할"
   ]
  },
  {
   "cell_type": "code",
   "execution_count": 31,
   "metadata": {},
   "outputs": [],
   "source": [
    "mlist1 = mlist.iloc[:2900]"
   ]
  },
  {
   "cell_type": "code",
   "execution_count": 32,
   "metadata": {},
   "outputs": [
    {
     "data": {
      "text/html": [
       "<div>\n",
       "<style scoped>\n",
       "    .dataframe tbody tr th:only-of-type {\n",
       "        vertical-align: middle;\n",
       "    }\n",
       "\n",
       "    .dataframe tbody tr th {\n",
       "        vertical-align: top;\n",
       "    }\n",
       "\n",
       "    .dataframe thead th {\n",
       "        text-align: right;\n",
       "    }\n",
       "</style>\n",
       "<table border=\"1\" class=\"dataframe\">\n",
       "  <thead>\n",
       "    <tr style=\"text-align: right;\">\n",
       "      <th></th>\n",
       "      <th>movieCd</th>\n",
       "      <th>movieNm</th>\n",
       "      <th>movieNmEn</th>\n",
       "      <th>prdtYear</th>\n",
       "      <th>openDt</th>\n",
       "      <th>typeNm</th>\n",
       "      <th>prdtStatNm</th>\n",
       "      <th>nationAlt</th>\n",
       "      <th>genreAlt</th>\n",
       "      <th>repNationNm</th>\n",
       "      <th>repGenreNm</th>\n",
       "      <th>directors</th>\n",
       "      <th>companyCd</th>\n",
       "      <th>companyNm</th>\n",
       "    </tr>\n",
       "  </thead>\n",
       "  <tbody>\n",
       "    <tr>\n",
       "      <th>2898</th>\n",
       "      <td>20185108</td>\n",
       "      <td>저스티스 배틀</td>\n",
       "      <td>The Danger Element</td>\n",
       "      <td>2017</td>\n",
       "      <td>20180612</td>\n",
       "      <td>장편</td>\n",
       "      <td>개봉</td>\n",
       "      <td>미국</td>\n",
       "      <td>액션</td>\n",
       "      <td>미국</td>\n",
       "      <td>액션</td>\n",
       "      <td>존 소올스</td>\n",
       "      <td>(' ', ' ', ' ', ' ', ' ', ' ', ' ', ' ', ' ', ...</td>\n",
       "      <td>(' ', ' ', ' ', ' ', ' ', ' ', ' ', ' ', ' ', ...</td>\n",
       "    </tr>\n",
       "    <tr>\n",
       "      <th>2899</th>\n",
       "      <td>20185625</td>\n",
       "      <td>여직원들 : 2대2 섹스</td>\n",
       "      <td>NaN</td>\n",
       "      <td>2018</td>\n",
       "      <td>20180612</td>\n",
       "      <td>장편</td>\n",
       "      <td>개봉</td>\n",
       "      <td>한국</td>\n",
       "      <td>멜로/로맨스</td>\n",
       "      <td>한국</td>\n",
       "      <td>멜로/로맨스</td>\n",
       "      <td>이상민</td>\n",
       "      <td>('20161021', ' ', ' ', ' ', ' ', ' ', ' ', ' '...</td>\n",
       "      <td>('(주)영화사가을', ' ', ' ', ' ', ' ', ' ', ' ', ' '...</td>\n",
       "    </tr>\n",
       "  </tbody>\n",
       "</table>\n",
       "</div>"
      ],
      "text/plain": [
       "       movieCd        movieNm           movieNmEn  prdtYear    openDt typeNm  \\\n",
       "2898  20185108        저스티스 배틀  The Danger Element      2017  20180612     장편   \n",
       "2899  20185625  여직원들 : 2대2 섹스                 NaN      2018  20180612     장편   \n",
       "\n",
       "     prdtStatNm nationAlt genreAlt repNationNm repGenreNm directors  \\\n",
       "2898         개봉        미국       액션          미국         액션     존 소올스   \n",
       "2899         개봉        한국   멜로/로맨스          한국     멜로/로맨스       이상민   \n",
       "\n",
       "                                              companyCd  \\\n",
       "2898  (' ', ' ', ' ', ' ', ' ', ' ', ' ', ' ', ' ', ...   \n",
       "2899  ('20161021', ' ', ' ', ' ', ' ', ' ', ' ', ' '...   \n",
       "\n",
       "                                              companyNm  \n",
       "2898  (' ', ' ', ' ', ' ', ' ', ' ', ' ', ' ', ' ', ...  \n",
       "2899  ('(주)영화사가을', ' ', ' ', ' ', ' ', ' ', ' ', ' '...  "
      ]
     },
     "execution_count": 32,
     "metadata": {},
     "output_type": "execute_result"
    }
   ],
   "source": [
    "mlist1.tail(2)"
   ]
  },
  {
   "cell_type": "code",
   "execution_count": 33,
   "metadata": {},
   "outputs": [
    {
     "data": {
      "text/html": [
       "<div>\n",
       "<style scoped>\n",
       "    .dataframe tbody tr th:only-of-type {\n",
       "        vertical-align: middle;\n",
       "    }\n",
       "\n",
       "    .dataframe tbody tr th {\n",
       "        vertical-align: top;\n",
       "    }\n",
       "\n",
       "    .dataframe thead th {\n",
       "        text-align: right;\n",
       "    }\n",
       "</style>\n",
       "<table border=\"1\" class=\"dataframe\">\n",
       "  <thead>\n",
       "    <tr style=\"text-align: right;\">\n",
       "      <th></th>\n",
       "      <th>movieCd</th>\n",
       "      <th>movieNm</th>\n",
       "      <th>movieNmEn</th>\n",
       "      <th>prdtYear</th>\n",
       "      <th>openDt</th>\n",
       "      <th>typeNm</th>\n",
       "      <th>prdtStatNm</th>\n",
       "      <th>nationAlt</th>\n",
       "      <th>genreAlt</th>\n",
       "      <th>repNationNm</th>\n",
       "      <th>repGenreNm</th>\n",
       "      <th>directors</th>\n",
       "      <th>companyCd</th>\n",
       "      <th>companyNm</th>\n",
       "    </tr>\n",
       "  </thead>\n",
       "  <tbody>\n",
       "    <tr>\n",
       "      <th>5798</th>\n",
       "      <td>20179224</td>\n",
       "      <td>숙모, 내가 더 잘해요</td>\n",
       "      <td>Love deprives</td>\n",
       "      <td>2015</td>\n",
       "      <td>20170110</td>\n",
       "      <td>장편</td>\n",
       "      <td>개봉</td>\n",
       "      <td>일본</td>\n",
       "      <td>드라마</td>\n",
       "      <td>일본</td>\n",
       "      <td>드라마</td>\n",
       "      <td>긴다이치 코고로</td>\n",
       "      <td>(' ', ' ', ' ', ' ', ' ', ' ', ' ', ' ', ' ', ...</td>\n",
       "      <td>(' ', ' ', ' ', ' ', ' ', ' ', ' ', ' ', ' ', ...</td>\n",
       "    </tr>\n",
       "    <tr>\n",
       "      <th>5799</th>\n",
       "      <td>20179222</td>\n",
       "      <td>기둥서방의 여인</td>\n",
       "      <td>Melancholy flowers</td>\n",
       "      <td>2015</td>\n",
       "      <td>20170110</td>\n",
       "      <td>장편</td>\n",
       "      <td>개봉</td>\n",
       "      <td>일본</td>\n",
       "      <td>드라마</td>\n",
       "      <td>일본</td>\n",
       "      <td>드라마</td>\n",
       "      <td>호리이 히카루</td>\n",
       "      <td>(' ', ' ', ' ', ' ', ' ', ' ', ' ', ' ', ' ', ...</td>\n",
       "      <td>(' ', ' ', ' ', ' ', ' ', ' ', ' ', ' ', ' ', ...</td>\n",
       "    </tr>\n",
       "  </tbody>\n",
       "</table>\n",
       "</div>"
      ],
      "text/plain": [
       "       movieCd       movieNm           movieNmEn  prdtYear    openDt typeNm  \\\n",
       "5798  20179224  숙모, 내가 더 잘해요       Love deprives      2015  20170110     장편   \n",
       "5799  20179222      기둥서방의 여인  Melancholy flowers      2015  20170110     장편   \n",
       "\n",
       "     prdtStatNm nationAlt genreAlt repNationNm repGenreNm directors  \\\n",
       "5798         개봉        일본      드라마          일본        드라마  긴다이치 코고로   \n",
       "5799         개봉        일본      드라마          일본        드라마   호리이 히카루   \n",
       "\n",
       "                                              companyCd  \\\n",
       "5798  (' ', ' ', ' ', ' ', ' ', ' ', ' ', ' ', ' ', ...   \n",
       "5799  (' ', ' ', ' ', ' ', ' ', ' ', ' ', ' ', ' ', ...   \n",
       "\n",
       "                                              companyNm  \n",
       "5798  (' ', ' ', ' ', ' ', ' ', ' ', ' ', ' ', ' ', ...  \n",
       "5799  (' ', ' ', ' ', ' ', ' ', ' ', ' ', ' ', ' ', ...  "
      ]
     },
     "execution_count": 33,
     "metadata": {},
     "output_type": "execute_result"
    }
   ],
   "source": [
    "mlist2 = mlist.iloc[2900:5800]\n",
    "mlist2.tail(2)"
   ]
  },
  {
   "cell_type": "code",
   "execution_count": 34,
   "metadata": {},
   "outputs": [
    {
     "data": {
      "text/html": [
       "<div>\n",
       "<style scoped>\n",
       "    .dataframe tbody tr th:only-of-type {\n",
       "        vertical-align: middle;\n",
       "    }\n",
       "\n",
       "    .dataframe tbody tr th {\n",
       "        vertical-align: top;\n",
       "    }\n",
       "\n",
       "    .dataframe thead th {\n",
       "        text-align: right;\n",
       "    }\n",
       "</style>\n",
       "<table border=\"1\" class=\"dataframe\">\n",
       "  <thead>\n",
       "    <tr style=\"text-align: right;\">\n",
       "      <th></th>\n",
       "      <th>movieCd</th>\n",
       "      <th>movieNm</th>\n",
       "      <th>movieNmEn</th>\n",
       "      <th>prdtYear</th>\n",
       "      <th>openDt</th>\n",
       "      <th>typeNm</th>\n",
       "      <th>prdtStatNm</th>\n",
       "      <th>nationAlt</th>\n",
       "      <th>genreAlt</th>\n",
       "      <th>repNationNm</th>\n",
       "      <th>repGenreNm</th>\n",
       "      <th>directors</th>\n",
       "      <th>companyCd</th>\n",
       "      <th>companyNm</th>\n",
       "    </tr>\n",
       "  </thead>\n",
       "  <tbody>\n",
       "    <tr>\n",
       "      <th>8698</th>\n",
       "      <td>2010A019</td>\n",
       "      <td>쏠라 어택</td>\n",
       "      <td>Solar Attack</td>\n",
       "      <td>2006</td>\n",
       "      <td>20150716</td>\n",
       "      <td>장편</td>\n",
       "      <td>개봉</td>\n",
       "      <td>캐나다</td>\n",
       "      <td>액션,SF,스릴러</td>\n",
       "      <td>캐나다</td>\n",
       "      <td>액션</td>\n",
       "      <td>폴 질러</td>\n",
       "      <td>(' ', ' ', ' ', ' ', ' ', ' ', ' ', ' ', ' ', ...</td>\n",
       "      <td>(' ', ' ', ' ', ' ', ' ', ' ', ' ', ' ', ' ', ...</td>\n",
       "    </tr>\n",
       "    <tr>\n",
       "      <th>8699</th>\n",
       "      <td>20088594</td>\n",
       "      <td>소녀괴담 : 17살 여고생의 악몽</td>\n",
       "      <td>The Haunting of Molly Hartley</td>\n",
       "      <td>2008</td>\n",
       "      <td>20150716</td>\n",
       "      <td>장편</td>\n",
       "      <td>개봉</td>\n",
       "      <td>미국</td>\n",
       "      <td>공포(호러),스릴러</td>\n",
       "      <td>미국</td>\n",
       "      <td>공포(호러)</td>\n",
       "      <td>미키 리델</td>\n",
       "      <td>(' ', ' ', ' ', ' ', ' ', ' ', ' ', ' ', ' ', ...</td>\n",
       "      <td>(' ', ' ', ' ', ' ', ' ', ' ', ' ', ' ', ' ', ...</td>\n",
       "    </tr>\n",
       "  </tbody>\n",
       "</table>\n",
       "</div>"
      ],
      "text/plain": [
       "       movieCd             movieNm                      movieNmEn  prdtYear  \\\n",
       "8698  2010A019               쏠라 어택                   Solar Attack      2006   \n",
       "8699  20088594  소녀괴담 : 17살 여고생의 악몽  The Haunting of Molly Hartley      2008   \n",
       "\n",
       "        openDt typeNm prdtStatNm nationAlt    genreAlt repNationNm repGenreNm  \\\n",
       "8698  20150716     장편         개봉       캐나다   액션,SF,스릴러         캐나다         액션   \n",
       "8699  20150716     장편         개봉        미국  공포(호러),스릴러          미국     공포(호러)   \n",
       "\n",
       "     directors                                          companyCd  \\\n",
       "8698      폴 질러  (' ', ' ', ' ', ' ', ' ', ' ', ' ', ' ', ' ', ...   \n",
       "8699     미키 리델  (' ', ' ', ' ', ' ', ' ', ' ', ' ', ' ', ' ', ...   \n",
       "\n",
       "                                              companyNm  \n",
       "8698  (' ', ' ', ' ', ' ', ' ', ' ', ' ', ' ', ' ', ...  \n",
       "8699  (' ', ' ', ' ', ' ', ' ', ' ', ' ', ' ', ' ', ...  "
      ]
     },
     "execution_count": 34,
     "metadata": {},
     "output_type": "execute_result"
    }
   ],
   "source": [
    "mlist3 = mlist.iloc[5800:8700]\n",
    "mlist3.tail(2)"
   ]
  },
  {
   "cell_type": "code",
   "execution_count": 35,
   "metadata": {},
   "outputs": [
    {
     "data": {
      "text/html": [
       "<div>\n",
       "<style scoped>\n",
       "    .dataframe tbody tr th:only-of-type {\n",
       "        vertical-align: middle;\n",
       "    }\n",
       "\n",
       "    .dataframe tbody tr th {\n",
       "        vertical-align: top;\n",
       "    }\n",
       "\n",
       "    .dataframe thead th {\n",
       "        text-align: right;\n",
       "    }\n",
       "</style>\n",
       "<table border=\"1\" class=\"dataframe\">\n",
       "  <thead>\n",
       "    <tr style=\"text-align: right;\">\n",
       "      <th></th>\n",
       "      <th>movieCd</th>\n",
       "      <th>movieNm</th>\n",
       "      <th>movieNmEn</th>\n",
       "      <th>prdtYear</th>\n",
       "      <th>openDt</th>\n",
       "      <th>typeNm</th>\n",
       "      <th>prdtStatNm</th>\n",
       "      <th>nationAlt</th>\n",
       "      <th>genreAlt</th>\n",
       "      <th>repNationNm</th>\n",
       "      <th>repGenreNm</th>\n",
       "      <th>directors</th>\n",
       "      <th>companyCd</th>\n",
       "      <th>companyNm</th>\n",
       "    </tr>\n",
       "  </thead>\n",
       "  <tbody>\n",
       "    <tr>\n",
       "      <th>11598</th>\n",
       "      <td>19910271</td>\n",
       "      <td>괴마천사</td>\n",
       "      <td>Taoism Drunkaro</td>\n",
       "      <td>1983</td>\n",
       "      <td>19910824</td>\n",
       "      <td>장편</td>\n",
       "      <td>개봉</td>\n",
       "      <td>홍콩</td>\n",
       "      <td>멜로/로맨스</td>\n",
       "      <td>홍콩</td>\n",
       "      <td>멜로/로맨스</td>\n",
       "      <td>나유, 원상인</td>\n",
       "      <td>(' ', ' ', ' ', ' ', ' ', ' ', ' ', ' ', ' ', ...</td>\n",
       "      <td>(' ', ' ', ' ', ' ', ' ', ' ', ' ', ' ', ' ', ...</td>\n",
       "    </tr>\n",
       "    <tr>\n",
       "      <th>11599</th>\n",
       "      <td>20040528</td>\n",
       "      <td>고티카</td>\n",
       "      <td>Gothika</td>\n",
       "      <td>2003</td>\n",
       "      <td>20040402</td>\n",
       "      <td>장편</td>\n",
       "      <td>개봉</td>\n",
       "      <td>미국</td>\n",
       "      <td>공포(호러)</td>\n",
       "      <td>미국</td>\n",
       "      <td>공포(호러)</td>\n",
       "      <td>마티유 카소비츠</td>\n",
       "      <td>('20102989', '20103668', '20101728', ' ', ' ',...</td>\n",
       "      <td>('다크 캐슬 엔터테인먼트', '워너 브러더스 픽쳐스', '콜럼비아트라이스타영화㈜'...</td>\n",
       "    </tr>\n",
       "  </tbody>\n",
       "</table>\n",
       "</div>"
      ],
      "text/plain": [
       "        movieCd movieNm        movieNmEn  prdtYear    openDt typeNm  \\\n",
       "11598  19910271    괴마천사  Taoism Drunkaro      1983  19910824     장편   \n",
       "11599  20040528     고티카          Gothika      2003  20040402     장편   \n",
       "\n",
       "      prdtStatNm nationAlt genreAlt repNationNm repGenreNm directors  \\\n",
       "11598         개봉        홍콩   멜로/로맨스          홍콩     멜로/로맨스   나유, 원상인   \n",
       "11599         개봉        미국   공포(호러)          미국     공포(호러)  마티유 카소비츠   \n",
       "\n",
       "                                               companyCd  \\\n",
       "11598  (' ', ' ', ' ', ' ', ' ', ' ', ' ', ' ', ' ', ...   \n",
       "11599  ('20102989', '20103668', '20101728', ' ', ' ',...   \n",
       "\n",
       "                                               companyNm  \n",
       "11598  (' ', ' ', ' ', ' ', ' ', ' ', ' ', ' ', ' ', ...  \n",
       "11599  ('다크 캐슬 엔터테인먼트', '워너 브러더스 픽쳐스', '콜럼비아트라이스타영화㈜'...  "
      ]
     },
     "execution_count": 35,
     "metadata": {},
     "output_type": "execute_result"
    }
   ],
   "source": [
    "mlist4 = mlist.iloc[8700:11600]\n",
    "mlist4.tail(2)"
   ]
  },
  {
   "cell_type": "code",
   "execution_count": 36,
   "metadata": {},
   "outputs": [
    {
     "data": {
      "text/html": [
       "<div>\n",
       "<style scoped>\n",
       "    .dataframe tbody tr th:only-of-type {\n",
       "        vertical-align: middle;\n",
       "    }\n",
       "\n",
       "    .dataframe tbody tr th {\n",
       "        vertical-align: top;\n",
       "    }\n",
       "\n",
       "    .dataframe thead th {\n",
       "        text-align: right;\n",
       "    }\n",
       "</style>\n",
       "<table border=\"1\" class=\"dataframe\">\n",
       "  <thead>\n",
       "    <tr style=\"text-align: right;\">\n",
       "      <th></th>\n",
       "      <th>movieCd</th>\n",
       "      <th>movieNm</th>\n",
       "      <th>movieNmEn</th>\n",
       "      <th>prdtYear</th>\n",
       "      <th>openDt</th>\n",
       "      <th>typeNm</th>\n",
       "      <th>prdtStatNm</th>\n",
       "      <th>nationAlt</th>\n",
       "      <th>genreAlt</th>\n",
       "      <th>repNationNm</th>\n",
       "      <th>repGenreNm</th>\n",
       "      <th>directors</th>\n",
       "      <th>companyCd</th>\n",
       "      <th>companyNm</th>\n",
       "    </tr>\n",
       "  </thead>\n",
       "  <tbody>\n",
       "    <tr>\n",
       "      <th>14498</th>\n",
       "      <td>20080252</td>\n",
       "      <td>데스 디파잉:어느 마술사의 사랑</td>\n",
       "      <td>Death Defying Acts</td>\n",
       "      <td>2007</td>\n",
       "      <td>20080327</td>\n",
       "      <td>장편</td>\n",
       "      <td>개봉</td>\n",
       "      <td>영국,호주</td>\n",
       "      <td>드라마,멜로/로맨스,스릴러</td>\n",
       "      <td>영국</td>\n",
       "      <td>드라마</td>\n",
       "      <td>질리안 암스트롱</td>\n",
       "      <td>(' ', ' ', ' ', ' ', ' ', ' ', ' ', ' ', ' ', ...</td>\n",
       "      <td>(' ', ' ', ' ', ' ', ' ', ' ', ' ', ' ', ' ', ...</td>\n",
       "    </tr>\n",
       "    <tr>\n",
       "      <th>14499</th>\n",
       "      <td>20080659</td>\n",
       "      <td>88분</td>\n",
       "      <td>88 Minutes</td>\n",
       "      <td>2007</td>\n",
       "      <td>20080529</td>\n",
       "      <td>장편</td>\n",
       "      <td>개봉</td>\n",
       "      <td>미국,독일,캐나다</td>\n",
       "      <td>드라마,미스터리,스릴러</td>\n",
       "      <td>미국</td>\n",
       "      <td>드라마</td>\n",
       "      <td>존 애브넛</td>\n",
       "      <td>(' ', ' ', ' ', ' ', ' ', ' ', ' ', ' ', ' ', ...</td>\n",
       "      <td>(' ', ' ', ' ', ' ', ' ', ' ', ' ', ' ', ' ', ...</td>\n",
       "    </tr>\n",
       "  </tbody>\n",
       "</table>\n",
       "</div>"
      ],
      "text/plain": [
       "        movieCd            movieNm           movieNmEn  prdtYear    openDt  \\\n",
       "14498  20080252  데스 디파잉:어느 마술사의 사랑  Death Defying Acts      2007  20080327   \n",
       "14499  20080659                88분          88 Minutes      2007  20080529   \n",
       "\n",
       "      typeNm prdtStatNm  nationAlt        genreAlt repNationNm repGenreNm  \\\n",
       "14498     장편         개봉      영국,호주  드라마,멜로/로맨스,스릴러          영국        드라마   \n",
       "14499     장편         개봉  미국,독일,캐나다    드라마,미스터리,스릴러          미국        드라마   \n",
       "\n",
       "      directors                                          companyCd  \\\n",
       "14498  질리안 암스트롱  (' ', ' ', ' ', ' ', ' ', ' ', ' ', ' ', ' ', ...   \n",
       "14499     존 애브넛  (' ', ' ', ' ', ' ', ' ', ' ', ' ', ' ', ' ', ...   \n",
       "\n",
       "                                               companyNm  \n",
       "14498  (' ', ' ', ' ', ' ', ' ', ' ', ' ', ' ', ' ', ...  \n",
       "14499  (' ', ' ', ' ', ' ', ' ', ' ', ' ', ' ', ' ', ...  "
      ]
     },
     "execution_count": 36,
     "metadata": {},
     "output_type": "execute_result"
    }
   ],
   "source": [
    "mlist5 = mlist.iloc[11600:14500]\n",
    "mlist5.tail(2)"
   ]
  },
  {
   "cell_type": "code",
   "execution_count": 37,
   "metadata": {},
   "outputs": [],
   "source": [
    "def progress_bar(i, total):\n",
    "    k = i/total*100\n",
    "    star = \"*\"*int(k/2.5)\n",
    "    print(\"Processing: {}/{} [{:.1f}%] {}\".format(i, total, k, star), end=\"\\r\")"
   ]
  },
  {
   "cell_type": "code",
   "execution_count": 38,
   "metadata": {},
   "outputs": [],
   "source": [
    "def load_movie_details(movie_list, key): # save_path 추가 ?\n",
    "    \n",
    "    mcodes = movie_list.movieCd\n",
    "    cols = [\"movieCd\", \"movieNm\", \"showTm\", \"nations\", \"genres\", \"actors\", \"companys\", \"audits\"]    \n",
    "    \n",
    "#     i = 1\n",
    "#     total = len(mcodes)\n",
    "    movie_details = pd.DataFrame()\n",
    "    for code in tqdm(mcodes):\n",
    "        \n",
    "        url = f\"http://www.kobis.or.kr/kobisopenapi/webservice/rest/movie/searchMovieInfo.json?key={key}&movieCd={code}\"\n",
    "        res = requests.get(url)\n",
    "        minfos = res.json()[\"movieInfoResult\"][\"movieInfo\"]\n",
    "        \n",
    "        infos = []\n",
    "        for col in cols:\n",
    "            infos.append(minfos[col])\n",
    "        \n",
    "        movieCd, movieNm = infos[:2]\n",
    "        \n",
    "        try:\n",
    "            showTm = infos[2]\n",
    "        except:\n",
    "            showTm = \"\"\n",
    "            \n",
    "        try:\n",
    "            temp = []\n",
    "            for i in range(3, len(infos)):\n",
    "                tmp1 = []\n",
    "                for j in range(len(infos[i])):\n",
    "                    tmp2 = []\n",
    "                    for k in range(len(infos[i][0])):\n",
    "                        tmp2.append(list(infos[i][j].values())[k])\n",
    "                    tmp1.extend(tmp2)\n",
    "                temp.append(tmp1)\n",
    "\n",
    "\n",
    "            nations = temp[0][0]\n",
    "            genre = ','.join(temp[1])\n",
    "\n",
    "            actors = []\n",
    "            actors_en = []\n",
    "            cast = []\n",
    "            cast_en = []\n",
    "            for i in range(0, len(temp[2]), 4):\n",
    "                if temp[2][i] == \"\":\n",
    "                    continue\n",
    "                actors.append(temp[2][i])\n",
    "                actors_en.append(temp[2][i+1])\n",
    "            #     if temp[2][i+2] == \"\":\n",
    "            #         continue\n",
    "                cast.append(temp[2][i+2])\n",
    "                cast_en.append(temp[2][i+3])\n",
    "\n",
    "            companyCd = []\n",
    "            companyNm = []\n",
    "            companyNmEn = []\n",
    "            companyPartNm = []\n",
    "            for i in range(0, len(temp[3]), 4):\n",
    "                companyCd.append(temp[3][i])\n",
    "                companyNm.append(temp[3][i+1])\n",
    "                companyNmEn.append(temp[3][i+2])\n",
    "                companyPartNm.append(temp[3][i+3])\n",
    "\n",
    "            watchGradeNm = []\n",
    "            for i in range(0, len(temp[4]), 2):\n",
    "                if temp[4][i+1] == \"\":\n",
    "                    continue    \n",
    "                watchGradeNm.append(temp[4][i+1])             \n",
    "        except:\n",
    "            nations = genre = actors = actors_en = cast = cast_en = \\\n",
    "            companyCd = companyNm = companyNmEn = companyPartNm = watchGradeNm = \"\"\n",
    "            \n",
    "        \n",
    "        detail = pd.DataFrame([movieCd, movieNm, showTm, nations, genre, actors, actors_en, cast, cast_en, companyCd, companyNm, companyNmEn, companyPartNm, watchGradeNm],\n",
    "             index=['movieCd', 'movieNm', 'showTm', 'nations', 'genre', 'actors', 'actors_en', 'cast', 'cast_en', 'companyCd', 'companyNm', 'companyNmEn', 'companyPartNm', 'watchGradeNm']).T\n",
    "        \n",
    "        movie_details = pd.concat([movie_details, detail], axis=0)  \n",
    "        \n",
    "#         progress_bar(i, total)\n",
    "#         i += 1\n",
    "\n",
    "#     print()\n",
    "#     print(\"complete!\")\n",
    "\n",
    "    return movie_details"
   ]
  },
  {
   "cell_type": "code",
   "execution_count": 28,
   "metadata": {},
   "outputs": [
    {
     "name": "stderr",
     "output_type": "stream",
     "text": [
      "100%|██████████████████████████████████████████████████████████████████████████████| 2900/2900 [20:15<00:00,  2.62it/s]\n"
     ]
    }
   ],
   "source": [
    "details1 = load_movie_details(mlist1, key1)"
   ]
  },
  {
   "cell_type": "code",
   "execution_count": 39,
   "metadata": {},
   "outputs": [
    {
     "data": {
      "text/html": [
       "<div>\n",
       "<style scoped>\n",
       "    .dataframe tbody tr th:only-of-type {\n",
       "        vertical-align: middle;\n",
       "    }\n",
       "\n",
       "    .dataframe tbody tr th {\n",
       "        vertical-align: top;\n",
       "    }\n",
       "\n",
       "    .dataframe thead th {\n",
       "        text-align: right;\n",
       "    }\n",
       "</style>\n",
       "<table border=\"1\" class=\"dataframe\">\n",
       "  <thead>\n",
       "    <tr style=\"text-align: right;\">\n",
       "      <th></th>\n",
       "      <th>movieCd</th>\n",
       "      <th>movieNm</th>\n",
       "      <th>showTm</th>\n",
       "      <th>nations</th>\n",
       "      <th>genre</th>\n",
       "      <th>actors</th>\n",
       "      <th>actors_en</th>\n",
       "      <th>cast</th>\n",
       "      <th>cast_en</th>\n",
       "      <th>companyCd</th>\n",
       "      <th>companyNm</th>\n",
       "      <th>companyNmEn</th>\n",
       "      <th>companyPartNm</th>\n",
       "      <th>watchGradeNm</th>\n",
       "    </tr>\n",
       "  </thead>\n",
       "  <tbody>\n",
       "    <tr>\n",
       "      <th>0</th>\n",
       "      <td>20185108</td>\n",
       "      <td>저스티스 배틀</td>\n",
       "      <td>100</td>\n",
       "      <td>미국</td>\n",
       "      <td>액션</td>\n",
       "      <td>[더그 존스]</td>\n",
       "      <td>[Doug Jones]</td>\n",
       "      <td>[]</td>\n",
       "      <td>[]</td>\n",
       "      <td>[20063099, 20063099]</td>\n",
       "      <td>[(주)케이알씨지, (주)케이알씨지]</td>\n",
       "      <td>[KRCG, KRCG]</td>\n",
       "      <td>[배급사, 수입사]</td>\n",
       "      <td>[15세이상관람가]</td>\n",
       "    </tr>\n",
       "    <tr>\n",
       "      <th>0</th>\n",
       "      <td>20185625</td>\n",
       "      <td>여직원들 : 2대2 섹스</td>\n",
       "      <td>61</td>\n",
       "      <td>한국</td>\n",
       "      <td>멜로/로맨스</td>\n",
       "      <td>[미즈미 사키]</td>\n",
       "      <td>[Saki Mizumi]</td>\n",
       "      <td>[]</td>\n",
       "      <td>[]</td>\n",
       "      <td>[20161021, 20161021]</td>\n",
       "      <td>[(주)영화사가을, (주)영화사가을]</td>\n",
       "      <td>[, ]</td>\n",
       "      <td>[제작사, 배급사]</td>\n",
       "      <td>[청소년관람불가]</td>\n",
       "    </tr>\n",
       "  </tbody>\n",
       "</table>\n",
       "</div>"
      ],
      "text/plain": [
       "    movieCd        movieNm showTm nations   genre    actors      actors_en  \\\n",
       "0  20185108        저스티스 배틀    100      미국      액션   [더그 존스]   [Doug Jones]   \n",
       "0  20185625  여직원들 : 2대2 섹스     61      한국  멜로/로맨스  [미즈미 사키]  [Saki Mizumi]   \n",
       "\n",
       "  cast cast_en             companyCd             companyNm   companyNmEn  \\\n",
       "0   []      []  [20063099, 20063099]  [(주)케이알씨지, (주)케이알씨지]  [KRCG, KRCG]   \n",
       "0   []      []  [20161021, 20161021]  [(주)영화사가을, (주)영화사가을]          [, ]   \n",
       "\n",
       "  companyPartNm watchGradeNm  \n",
       "0    [배급사, 수입사]   [15세이상관람가]  \n",
       "0    [제작사, 배급사]    [청소년관람불가]  "
      ]
     },
     "execution_count": 39,
     "metadata": {},
     "output_type": "execute_result"
    }
   ],
   "source": [
    "details1.tail(2)"
   ]
  },
  {
   "cell_type": "code",
   "execution_count": 40,
   "metadata": {},
   "outputs": [],
   "source": [
    "details1.to_csv(os.path.join(save_path, \"movie_details_all_1.csv\"), index=None, encoding=\"utf-8\")"
   ]
  },
  {
   "cell_type": "code",
   "execution_count": null,
   "metadata": {},
   "outputs": [
    {
     "name": "stderr",
     "output_type": "stream",
     "text": [
      " 54%|██████████████████████████████████████████▏                                   | 1567/2900 [11:13<06:43,  3.31it/s]"
     ]
    }
   ],
   "source": [
    "details2 = load_movie_details(mlist2, key2)"
   ]
  },
  {
   "cell_type": "code",
   "execution_count": 96,
   "metadata": {},
   "outputs": [
    {
     "data": {
      "text/html": [
       "<div>\n",
       "<style scoped>\n",
       "    .dataframe tbody tr th:only-of-type {\n",
       "        vertical-align: middle;\n",
       "    }\n",
       "\n",
       "    .dataframe tbody tr th {\n",
       "        vertical-align: top;\n",
       "    }\n",
       "\n",
       "    .dataframe thead th {\n",
       "        text-align: right;\n",
       "    }\n",
       "</style>\n",
       "<table border=\"1\" class=\"dataframe\">\n",
       "  <thead>\n",
       "    <tr style=\"text-align: right;\">\n",
       "      <th></th>\n",
       "      <th>movieCd</th>\n",
       "      <th>movieNm</th>\n",
       "      <th>showTm</th>\n",
       "      <th>nations</th>\n",
       "      <th>genre</th>\n",
       "      <th>actors</th>\n",
       "      <th>actors_en</th>\n",
       "      <th>cast</th>\n",
       "      <th>cast_en</th>\n",
       "      <th>companyCd</th>\n",
       "      <th>companyNm</th>\n",
       "      <th>companyNmEn</th>\n",
       "      <th>companyPartNm</th>\n",
       "      <th>watchGradeNm</th>\n",
       "    </tr>\n",
       "  </thead>\n",
       "  <tbody>\n",
       "    <tr>\n",
       "      <th>0</th>\n",
       "      <td>20160787</td>\n",
       "      <td>더티 로맨스</td>\n",
       "      <td>94</td>\n",
       "      <td>한국</td>\n",
       "      <td>드라마</td>\n",
       "      <td>[김준우, 안하나, 길덕호, 최홍준, 서현석, 유현호]</td>\n",
       "      <td>[, , , CHOI Hong-jun, , ]</td>\n",
       "      <td>[, , , , 노숙자, 학원남]</td>\n",
       "      <td>[, , , , , ]</td>\n",
       "      <td>[20110901, 20110901]</td>\n",
       "      <td>[이상우 필름, 이상우 필름]</td>\n",
       "      <td>[LEESANGWOO FILM, LEESANGWOO FILM]</td>\n",
       "      <td>[제작사, 배급사]</td>\n",
       "      <td>[청소년관람불가]</td>\n",
       "    </tr>\n",
       "    <tr>\n",
       "      <th>0</th>\n",
       "      <td>20163218</td>\n",
       "      <td>위선자들: 감독판</td>\n",
       "      <td>103</td>\n",
       "      <td>한국</td>\n",
       "      <td>드라마</td>\n",
       "      <td>[권민중, 김정균, 장두이]</td>\n",
       "      <td>[KWON Min-jung, KIM Jeong-kyoon, CHANG Du-yee]</td>\n",
       "      <td>[, , ]</td>\n",
       "      <td>[, , ]</td>\n",
       "      <td>[20061772, 20154408, 20101135, 20101135]</td>\n",
       "      <td>[(주)영화사메이플러스, THE 픽쳐스, 주식회사 마운틴픽쳐스, 주식회사 마운틴픽쳐스]</td>\n",
       "      <td>[Mayplus, THE PICTURES, Mountain Pictures Co.,...</td>\n",
       "      <td>[제작사, 배급사, 배급사, 해외세일즈사]</td>\n",
       "      <td>[청소년관람불가]</td>\n",
       "    </tr>\n",
       "  </tbody>\n",
       "</table>\n",
       "</div>"
      ],
      "text/plain": [
       "    movieCd    movieNm showTm nations genre                          actors  \\\n",
       "0  20160787     더티 로맨스     94      한국   드라마  [김준우, 안하나, 길덕호, 최홍준, 서현석, 유현호]   \n",
       "0  20163218  위선자들: 감독판    103      한국   드라마                 [권민중, 김정균, 장두이]   \n",
       "\n",
       "                                        actors_en                cast  \\\n",
       "0                       [, , , CHOI Hong-jun, , ]  [, , , , 노숙자, 학원남]   \n",
       "0  [KWON Min-jung, KIM Jeong-kyoon, CHANG Du-yee]              [, , ]   \n",
       "\n",
       "        cast_en                                 companyCd  \\\n",
       "0  [, , , , , ]                      [20110901, 20110901]   \n",
       "0        [, , ]  [20061772, 20154408, 20101135, 20101135]   \n",
       "\n",
       "                                          companyNm  \\\n",
       "0                                  [이상우 필름, 이상우 필름]   \n",
       "0  [(주)영화사메이플러스, THE 픽쳐스, 주식회사 마운틴픽쳐스, 주식회사 마운틴픽쳐스]   \n",
       "\n",
       "                                         companyNmEn            companyPartNm  \\\n",
       "0                 [LEESANGWOO FILM, LEESANGWOO FILM]               [제작사, 배급사]   \n",
       "0  [Mayplus, THE PICTURES, Mountain Pictures Co.,...  [제작사, 배급사, 배급사, 해외세일즈사]   \n",
       "\n",
       "  watchGradeNm  \n",
       "0    [청소년관람불가]  \n",
       "0    [청소년관람불가]  "
      ]
     },
     "execution_count": 96,
     "metadata": {},
     "output_type": "execute_result"
    }
   ],
   "source": [
    "details2.tail(2)"
   ]
  },
  {
   "cell_type": "code",
   "execution_count": 181,
   "metadata": {},
   "outputs": [],
   "source": [
    "details2.to_csv(os.path.join(save_path, \"movie_details_all_2.csv\"), index=None, encoding=\"utf-8\")"
   ]
  },
  {
   "cell_type": "code",
   "execution_count": null,
   "metadata": {},
   "outputs": [],
   "source": [
    "details3 = load_movie_details(mlist3, key3)\n",
    "details3.to_csv(os.path.join(save_path, \"movie_details_all_3.csv\"), index=None, encoding=\"utf-8\")\n",
    "details3.tail(2)"
   ]
  },
  {
   "cell_type": "code",
   "execution_count": null,
   "metadata": {},
   "outputs": [],
   "source": [
    "details4 = load_movie_details(mlist4, key4)\n",
    "details4.to_csv(os.path.join(save_path, \"movie_details_all_4.csv\"), index=None, encoding=\"utf-8\")\n",
    "details4.tail(2)"
   ]
  },
  {
   "cell_type": "code",
   "execution_count": null,
   "metadata": {},
   "outputs": [],
   "source": [
    "details5 = load_movie_details(mlist5, key5)\n",
    "details5.to_csv(os.path.join(save_path, \"movie_details_all_5.csv\"), index=None, encoding=\"utf-8\")\n",
    "details5.tail(2)"
   ]
  },
  {
   "cell_type": "code",
   "execution_count": null,
   "metadata": {},
   "outputs": [],
   "source": [
    "details = pd.concat([details1, details2, details3, details4, details5], axis=0)\n",
    "len(details)"
   ]
  },
  {
   "cell_type": "code",
   "execution_count": null,
   "metadata": {},
   "outputs": [],
   "source": [
    "details.head()"
   ]
  },
  {
   "cell_type": "code",
   "execution_count": null,
   "metadata": {},
   "outputs": [],
   "source": [
    "details5.to_csv(os.path.join(save_path, \"movie_details_11600.csv\"), index=None, encoding=\"utf-8\")"
   ]
  },
  {
   "cell_type": "code",
   "execution_count": null,
   "metadata": {},
   "outputs": [],
   "source": []
  },
  {
   "cell_type": "code",
   "execution_count": null,
   "metadata": {},
   "outputs": [],
   "source": []
  },
  {
   "cell_type": "code",
   "execution_count": null,
   "metadata": {},
   "outputs": [],
   "source": []
  },
  {
   "cell_type": "code",
   "execution_count": 179,
   "metadata": {},
   "outputs": [
    {
     "name": "stdout",
     "output_type": "stream",
     "text": [
      "Processing: 1793/1793 [100.0%] ****************************************\n",
      "complete!\n"
     ]
    }
   ],
   "source": [
    "i = 1\n",
    "total = 1793\n",
    "for _ in range(total):\n",
    "    k = i/total*100\n",
    "    star = \"*\"*int(k/2.5)\n",
    "    print(\"Processing: {}/{} [{:.1f}%] {}\".format(i, total, k, star), end=\"\\r\")\n",
    "    i += 1\n",
    "\n",
    "print()\n",
    "print(\"complete!\")"
   ]
  },
  {
   "cell_type": "code",
   "execution_count": null,
   "metadata": {},
   "outputs": [],
   "source": []
  },
  {
   "cell_type": "code",
   "execution_count": null,
   "metadata": {},
   "outputs": [],
   "source": []
  },
  {
   "cell_type": "code",
   "execution_count": 102,
   "metadata": {},
   "outputs": [],
   "source": [
    "movie_details = pd.concat([details1, details2], axis=0)"
   ]
  },
  {
   "cell_type": "code",
   "execution_count": 183,
   "metadata": {},
   "outputs": [
    {
     "data": {
      "text/plain": [
       "4000"
      ]
     },
     "execution_count": 183,
     "metadata": {},
     "output_type": "execute_result"
    }
   ],
   "source": [
    "len(movie_details)"
   ]
  },
  {
   "cell_type": "code",
   "execution_count": 182,
   "metadata": {},
   "outputs": [
    {
     "data": {
      "text/html": [
       "<div>\n",
       "<style scoped>\n",
       "    .dataframe tbody tr th:only-of-type {\n",
       "        vertical-align: middle;\n",
       "    }\n",
       "\n",
       "    .dataframe tbody tr th {\n",
       "        vertical-align: top;\n",
       "    }\n",
       "\n",
       "    .dataframe thead th {\n",
       "        text-align: right;\n",
       "    }\n",
       "</style>\n",
       "<table border=\"1\" class=\"dataframe\">\n",
       "  <thead>\n",
       "    <tr style=\"text-align: right;\">\n",
       "      <th></th>\n",
       "      <th>movieCd</th>\n",
       "      <th>movieNm</th>\n",
       "      <th>showTm</th>\n",
       "      <th>nations</th>\n",
       "      <th>genre</th>\n",
       "      <th>actors</th>\n",
       "      <th>actors_en</th>\n",
       "      <th>cast</th>\n",
       "      <th>cast_en</th>\n",
       "      <th>companyCd</th>\n",
       "      <th>companyNm</th>\n",
       "      <th>companyNmEn</th>\n",
       "      <th>companyPartNm</th>\n",
       "      <th>watchGradeNm</th>\n",
       "    </tr>\n",
       "  </thead>\n",
       "  <tbody>\n",
       "    <tr>\n",
       "      <th>0</th>\n",
       "      <td>20160787</td>\n",
       "      <td>더티 로맨스</td>\n",
       "      <td>94</td>\n",
       "      <td>한국</td>\n",
       "      <td>드라마</td>\n",
       "      <td>[김준우, 안하나, 길덕호, 최홍준, 서현석, 유현호]</td>\n",
       "      <td>[, , , CHOI Hong-jun, , ]</td>\n",
       "      <td>[, , , , 노숙자, 학원남]</td>\n",
       "      <td>[, , , , , ]</td>\n",
       "      <td>[20110901, 20110901]</td>\n",
       "      <td>[이상우 필름, 이상우 필름]</td>\n",
       "      <td>[LEESANGWOO FILM, LEESANGWOO FILM]</td>\n",
       "      <td>[제작사, 배급사]</td>\n",
       "      <td>[청소년관람불가]</td>\n",
       "    </tr>\n",
       "    <tr>\n",
       "      <th>0</th>\n",
       "      <td>20163218</td>\n",
       "      <td>위선자들: 감독판</td>\n",
       "      <td>103</td>\n",
       "      <td>한국</td>\n",
       "      <td>드라마</td>\n",
       "      <td>[권민중, 김정균, 장두이]</td>\n",
       "      <td>[KWON Min-jung, KIM Jeong-kyoon, CHANG Du-yee]</td>\n",
       "      <td>[, , ]</td>\n",
       "      <td>[, , ]</td>\n",
       "      <td>[20061772, 20154408, 20101135, 20101135]</td>\n",
       "      <td>[(주)영화사메이플러스, THE 픽쳐스, 주식회사 마운틴픽쳐스, 주식회사 마운틴픽쳐스]</td>\n",
       "      <td>[Mayplus, THE PICTURES, Mountain Pictures Co.,...</td>\n",
       "      <td>[제작사, 배급사, 배급사, 해외세일즈사]</td>\n",
       "      <td>[청소년관람불가]</td>\n",
       "    </tr>\n",
       "  </tbody>\n",
       "</table>\n",
       "</div>"
      ],
      "text/plain": [
       "    movieCd    movieNm showTm nations genre                          actors  \\\n",
       "0  20160787     더티 로맨스     94      한국   드라마  [김준우, 안하나, 길덕호, 최홍준, 서현석, 유현호]   \n",
       "0  20163218  위선자들: 감독판    103      한국   드라마                 [권민중, 김정균, 장두이]   \n",
       "\n",
       "                                        actors_en                cast  \\\n",
       "0                       [, , , CHOI Hong-jun, , ]  [, , , , 노숙자, 학원남]   \n",
       "0  [KWON Min-jung, KIM Jeong-kyoon, CHANG Du-yee]              [, , ]   \n",
       "\n",
       "        cast_en                                 companyCd  \\\n",
       "0  [, , , , , ]                      [20110901, 20110901]   \n",
       "0        [, , ]  [20061772, 20154408, 20101135, 20101135]   \n",
       "\n",
       "                                          companyNm  \\\n",
       "0                                  [이상우 필름, 이상우 필름]   \n",
       "0  [(주)영화사메이플러스, THE 픽쳐스, 주식회사 마운틴픽쳐스, 주식회사 마운틴픽쳐스]   \n",
       "\n",
       "                                         companyNmEn            companyPartNm  \\\n",
       "0                 [LEESANGWOO FILM, LEESANGWOO FILM]               [제작사, 배급사]   \n",
       "0  [Mayplus, THE PICTURES, Mountain Pictures Co.,...  [제작사, 배급사, 배급사, 해외세일즈사]   \n",
       "\n",
       "  watchGradeNm  \n",
       "0    [청소년관람불가]  \n",
       "0    [청소년관람불가]  "
      ]
     },
     "execution_count": 182,
     "metadata": {},
     "output_type": "execute_result"
    }
   ],
   "source": [
    "movie_details.tail(2)"
   ]
  },
  {
   "cell_type": "code",
   "execution_count": 184,
   "metadata": {},
   "outputs": [],
   "source": [
    "movie_details.to_csv(os.path.join(save_path, \"movie_all_4000.csv\"), index=None, encoding=\"utf-8\")"
   ]
  },
  {
   "cell_type": "code",
   "execution_count": 185,
   "metadata": {},
   "outputs": [],
   "source": [
    "movie_all = pd.read_csv(os.path.join(save_path, \"movie_all_4000.csv\"), encoding=\"utf-8\")"
   ]
  },
  {
   "cell_type": "code",
   "execution_count": 186,
   "metadata": {},
   "outputs": [
    {
     "data": {
      "text/html": [
       "<div>\n",
       "<style scoped>\n",
       "    .dataframe tbody tr th:only-of-type {\n",
       "        vertical-align: middle;\n",
       "    }\n",
       "\n",
       "    .dataframe tbody tr th {\n",
       "        vertical-align: top;\n",
       "    }\n",
       "\n",
       "    .dataframe thead th {\n",
       "        text-align: right;\n",
       "    }\n",
       "</style>\n",
       "<table border=\"1\" class=\"dataframe\">\n",
       "  <thead>\n",
       "    <tr style=\"text-align: right;\">\n",
       "      <th></th>\n",
       "      <th>movieCd</th>\n",
       "      <th>movieNm</th>\n",
       "      <th>showTm</th>\n",
       "      <th>nations</th>\n",
       "      <th>genre</th>\n",
       "      <th>actors</th>\n",
       "      <th>actors_en</th>\n",
       "      <th>cast</th>\n",
       "      <th>cast_en</th>\n",
       "      <th>companyCd</th>\n",
       "      <th>companyNm</th>\n",
       "      <th>companyNmEn</th>\n",
       "      <th>companyPartNm</th>\n",
       "      <th>watchGradeNm</th>\n",
       "    </tr>\n",
       "  </thead>\n",
       "  <tbody>\n",
       "    <tr>\n",
       "      <th>3998</th>\n",
       "      <td>20160787</td>\n",
       "      <td>더티 로맨스</td>\n",
       "      <td>94.0</td>\n",
       "      <td>한국</td>\n",
       "      <td>드라마</td>\n",
       "      <td>['김준우', '안하나', '길덕호', '최홍준', '서현석', '유현호']</td>\n",
       "      <td>['', '', '', 'CHOI Hong-jun', '', '']</td>\n",
       "      <td>['', '', '', '', '노숙자', '학원남']</td>\n",
       "      <td>['', '', '', '', '', '']</td>\n",
       "      <td>['20110901', '20110901']</td>\n",
       "      <td>['이상우 필름', '이상우 필름']</td>\n",
       "      <td>['LEESANGWOO FILM', 'LEESANGWOO FILM']</td>\n",
       "      <td>['제작사', '배급사']</td>\n",
       "      <td>['청소년관람불가']</td>\n",
       "    </tr>\n",
       "    <tr>\n",
       "      <th>3999</th>\n",
       "      <td>20163218</td>\n",
       "      <td>위선자들: 감독판</td>\n",
       "      <td>103.0</td>\n",
       "      <td>한국</td>\n",
       "      <td>드라마</td>\n",
       "      <td>['권민중', '김정균', '장두이']</td>\n",
       "      <td>['KWON Min-jung', 'KIM Jeong-kyoon', 'CHANG Du...</td>\n",
       "      <td>['', '', '']</td>\n",
       "      <td>['', '', '']</td>\n",
       "      <td>['20061772', '20154408', '20101135', '20101135']</td>\n",
       "      <td>['(주)영화사메이플러스', 'THE 픽쳐스', '주식회사 마운틴픽쳐스', '주식회...</td>\n",
       "      <td>['Mayplus', 'THE PICTURES', 'Mountain Pictures...</td>\n",
       "      <td>['제작사', '배급사', '배급사', '해외세일즈사']</td>\n",
       "      <td>['청소년관람불가']</td>\n",
       "    </tr>\n",
       "  </tbody>\n",
       "</table>\n",
       "</div>"
      ],
      "text/plain": [
       "       movieCd    movieNm  showTm nations genre  \\\n",
       "3998  20160787     더티 로맨스    94.0      한국   드라마   \n",
       "3999  20163218  위선자들: 감독판   103.0      한국   드라마   \n",
       "\n",
       "                                          actors  \\\n",
       "3998  ['김준우', '안하나', '길덕호', '최홍준', '서현석', '유현호']   \n",
       "3999                       ['권민중', '김정균', '장두이']   \n",
       "\n",
       "                                              actors_en  \\\n",
       "3998              ['', '', '', 'CHOI Hong-jun', '', '']   \n",
       "3999  ['KWON Min-jung', 'KIM Jeong-kyoon', 'CHANG Du...   \n",
       "\n",
       "                                cast                   cast_en  \\\n",
       "3998  ['', '', '', '', '노숙자', '학원남']  ['', '', '', '', '', '']   \n",
       "3999                    ['', '', '']              ['', '', '']   \n",
       "\n",
       "                                             companyCd  \\\n",
       "3998                          ['20110901', '20110901']   \n",
       "3999  ['20061772', '20154408', '20101135', '20101135']   \n",
       "\n",
       "                                              companyNm  \\\n",
       "3998                               ['이상우 필름', '이상우 필름']   \n",
       "3999  ['(주)영화사메이플러스', 'THE 픽쳐스', '주식회사 마운틴픽쳐스', '주식회...   \n",
       "\n",
       "                                            companyNmEn  \\\n",
       "3998             ['LEESANGWOO FILM', 'LEESANGWOO FILM']   \n",
       "3999  ['Mayplus', 'THE PICTURES', 'Mountain Pictures...   \n",
       "\n",
       "                        companyPartNm watchGradeNm  \n",
       "3998                   ['제작사', '배급사']  ['청소년관람불가']  \n",
       "3999  ['제작사', '배급사', '배급사', '해외세일즈사']  ['청소년관람불가']  "
      ]
     },
     "execution_count": 186,
     "metadata": {},
     "output_type": "execute_result"
    }
   ],
   "source": [
    "movie_all.tail(2)"
   ]
  },
  {
   "cell_type": "code",
   "execution_count": null,
   "metadata": {},
   "outputs": [],
   "source": []
  },
  {
   "cell_type": "code",
   "execution_count": null,
   "metadata": {},
   "outputs": [],
   "source": []
  },
  {
   "cell_type": "code",
   "execution_count": null,
   "metadata": {},
   "outputs": [],
   "source": []
  },
  {
   "cell_type": "markdown",
   "metadata": {},
   "source": [
    "## 코드 확인"
   ]
  },
  {
   "cell_type": "code",
   "execution_count": 49,
   "metadata": {},
   "outputs": [],
   "source": [
    "code = 20173254"
   ]
  },
  {
   "cell_type": "code",
   "execution_count": 50,
   "metadata": {},
   "outputs": [],
   "source": [
    "url = f\"http://www.kobis.or.kr/kobisopenapi/webservice/rest/movie/searchMovieInfo.json?key={key2}&movieCd={code}\""
   ]
  },
  {
   "cell_type": "code",
   "execution_count": 51,
   "metadata": {},
   "outputs": [
    {
     "data": {
      "text/plain": [
       "{'movieInfoResult': {'movieInfo': {'movieCd': '20173254',\n",
       "   'movieNm': '네발 자전거',\n",
       "   'movieNmEn': '',\n",
       "   'movieNmOg': '',\n",
       "   'showTm': '100',\n",
       "   'prdtYear': '2018',\n",
       "   'openDt': '',\n",
       "   'prdtStatNm': '촬영준비',\n",
       "   'typeNm': '장편',\n",
       "   'nations': [],\n",
       "   'genres': [],\n",
       "   'directors': [{'peopleNm': '서하늘', 'peopleNmEn': ''}],\n",
       "   'actors': [],\n",
       "   'showTypes': [],\n",
       "   'companys': [],\n",
       "   'audits': [{'auditNo': '', 'watchGradeNm': ''}],\n",
       "   'staffs': [{'peopleNm': '김시현', 'peopleNmEn': '', 'staffRoleNm': '사운드'},\n",
       "    {'peopleNm': '김해룡', 'peopleNmEn': '', 'staffRoleNm': '조명'}]},\n",
       "  'source': '영화진흥위원회'}}"
      ]
     },
     "execution_count": 51,
     "metadata": {},
     "output_type": "execute_result"
    }
   ],
   "source": [
    "res = requests.get(url)\n",
    "tmp = res.json()\n",
    "tmp"
   ]
  },
  {
   "cell_type": "code",
   "execution_count": 53,
   "metadata": {},
   "outputs": [
    {
     "data": {
      "text/plain": [
       "{'movieCd': '20173254',\n",
       " 'movieNm': '네발 자전거',\n",
       " 'movieNmEn': '',\n",
       " 'movieNmOg': '',\n",
       " 'showTm': '100',\n",
       " 'prdtYear': '2018',\n",
       " 'openDt': '',\n",
       " 'prdtStatNm': '촬영준비',\n",
       " 'typeNm': '장편',\n",
       " 'nations': [],\n",
       " 'genres': [],\n",
       " 'directors': [{'peopleNm': '서하늘', 'peopleNmEn': ''}],\n",
       " 'actors': [],\n",
       " 'showTypes': [],\n",
       " 'companys': [],\n",
       " 'audits': [{'auditNo': '', 'watchGradeNm': ''}],\n",
       " 'staffs': [{'peopleNm': '김시현', 'peopleNmEn': '', 'staffRoleNm': '사운드'},\n",
       "  {'peopleNm': '김해룡', 'peopleNmEn': '', 'staffRoleNm': '조명'}]}"
      ]
     },
     "execution_count": 53,
     "metadata": {},
     "output_type": "execute_result"
    }
   ],
   "source": [
    "minfos = tmp[\"movieInfoResult\"][\"movieInfo\"]\n",
    "minfos"
   ]
  },
  {
   "cell_type": "code",
   "execution_count": 54,
   "metadata": {},
   "outputs": [],
   "source": [
    "cols = [\"movieCd\", \"movieNm\", \"showTm\", \"nations\", \"genres\", \"actors\", \"companys\", \"audits\"]"
   ]
  },
  {
   "cell_type": "code",
   "execution_count": 55,
   "metadata": {},
   "outputs": [],
   "source": [
    "infos = []\n",
    "for col in cols:\n",
    "    infos.append(minfos[col])"
   ]
  },
  {
   "cell_type": "code",
   "execution_count": 61,
   "metadata": {},
   "outputs": [
    {
     "data": {
      "text/plain": [
       "('20173254', '네발 자전거', '100')"
      ]
     },
     "execution_count": 61,
     "metadata": {},
     "output_type": "execute_result"
    }
   ],
   "source": [
    "movieCd, movie_Nm, showTm = infos[:3]\n",
    "movieCd, movie_Nm, showTm"
   ]
  },
  {
   "cell_type": "code",
   "execution_count": 57,
   "metadata": {},
   "outputs": [],
   "source": [
    "temp = []\n",
    "for i in range(3, len(infos)):\n",
    "    tmp1 = []\n",
    "    for j in range(len(infos[i])):\n",
    "        tmp2 = []\n",
    "        for k in range(len(infos[i][0])):\n",
    "            tmp2.append(list(infos[i][j].values())[k])\n",
    "        tmp1.extend(tmp2)\n",
    "    temp.append(tmp1)"
   ]
  },
  {
   "cell_type": "code",
   "execution_count": 60,
   "metadata": {},
   "outputs": [
    {
     "data": {
      "text/plain": [
       "[[], [], [], [], ['', '']]"
      ]
     },
     "execution_count": 60,
     "metadata": {},
     "output_type": "execute_result"
    }
   ],
   "source": [
    "temp"
   ]
  },
  {
   "cell_type": "code",
   "execution_count": 96,
   "metadata": {},
   "outputs": [],
   "source": [
    "nations = temp[0][0]"
   ]
  },
  {
   "cell_type": "code",
   "execution_count": 97,
   "metadata": {},
   "outputs": [],
   "source": [
    "genre = ','.join(temp[1])"
   ]
  },
  {
   "cell_type": "code",
   "execution_count": 98,
   "metadata": {},
   "outputs": [],
   "source": [
    "actors = []\n",
    "actors_en = []\n",
    "cast = []\n",
    "cast_en = []\n",
    "for i in range(0, len(temp[2]), 4):\n",
    "    if temp[2][i] == \"\":\n",
    "        continue\n",
    "    actors.append(temp[2][i])\n",
    "    actors_en.append(temp[2][i+1])\n",
    "#     if temp[2][i+2] == \"\":\n",
    "#         continue\n",
    "    cast.append(temp[2][i+2])\n",
    "    cast_en.append(temp[2][i+3])"
   ]
  },
  {
   "cell_type": "code",
   "execution_count": 99,
   "metadata": {},
   "outputs": [],
   "source": [
    "companyCd = []\n",
    "companyNm = []\n",
    "companyNmEn = []\n",
    "companyPartNm = []\n",
    "for i in range(0, len(temp[3]), 4):\n",
    "    companyCd.append(temp[3][i])\n",
    "    companyNm.append(temp[3][i+1])\n",
    "    companyNmEn.append(temp[3][i+2])\n",
    "    companyPartNm.append(temp[3][i+3])"
   ]
  },
  {
   "cell_type": "code",
   "execution_count": 100,
   "metadata": {},
   "outputs": [],
   "source": [
    "watchGradeNm = []\n",
    "for i in range(0, len(temp[4]), 2):\n",
    "    if temp[4][i+1] == \"\":\n",
    "        continue    \n",
    "    watchGradeNm.append(temp[4][i+1])"
   ]
  },
  {
   "cell_type": "code",
   "execution_count": 101,
   "metadata": {},
   "outputs": [],
   "source": [
    "detail = pd.DataFrame([movieCd, movie_Nm, showTm, nations, genre, actors, actors_en, cast, cast_en, companyCd, companyNm, companyNmEn, companyPartNm, watchGradeNm],\n",
    "             index=['movieCd', \"movie_Nm\", 'showTm', 'nations', 'genre', 'actors', 'actors_en', 'cast', 'cast_en', 'companyCd', 'companyNm', 'companyNmEn', 'companyPartNm', 'watchGradeNm']).T"
   ]
  },
  {
   "cell_type": "code",
   "execution_count": 102,
   "metadata": {},
   "outputs": [
    {
     "data": {
      "text/html": [
       "<div>\n",
       "<style scoped>\n",
       "    .dataframe tbody tr th:only-of-type {\n",
       "        vertical-align: middle;\n",
       "    }\n",
       "\n",
       "    .dataframe tbody tr th {\n",
       "        vertical-align: top;\n",
       "    }\n",
       "\n",
       "    .dataframe thead th {\n",
       "        text-align: right;\n",
       "    }\n",
       "</style>\n",
       "<table border=\"1\" class=\"dataframe\">\n",
       "  <thead>\n",
       "    <tr style=\"text-align: right;\">\n",
       "      <th></th>\n",
       "      <th>movieCd</th>\n",
       "      <th>movie_Nm</th>\n",
       "      <th>showTm</th>\n",
       "      <th>nations</th>\n",
       "      <th>genre</th>\n",
       "      <th>actors</th>\n",
       "      <th>actors_en</th>\n",
       "      <th>cast</th>\n",
       "      <th>cast_en</th>\n",
       "      <th>companyCd</th>\n",
       "      <th>companyNm</th>\n",
       "      <th>companyNmEn</th>\n",
       "      <th>companyPartNm</th>\n",
       "      <th>watchGradeNm</th>\n",
       "    </tr>\n",
       "  </thead>\n",
       "  <tbody>\n",
       "    <tr>\n",
       "      <th>0</th>\n",
       "      <td>20129370</td>\n",
       "      <td>명량</td>\n",
       "      <td>128</td>\n",
       "      <td>한국</td>\n",
       "      <td>사극,액션</td>\n",
       "      <td>[최민식, 류승룡, 조진웅, 김명곤, 진구, 이정현, 권율, 노민우, 김태훈, 이승...</td>\n",
       "      <td>[CHOI Min-shik, RYU Seung-ryong, CHO Jin-woong...</td>\n",
       "      <td>[이순신 , 구루지마 , 와키자카 , 도도, 임준영 , 정씨 여인 , 이회, 하루,...</td>\n",
       "      <td>[, , , , , , , , , , , , , , , , , , , , , , ,...</td>\n",
       "      <td>[20123063, 20110854, 20110854, 20100109]</td>\n",
       "      <td>[(주)빅스톤픽쳐스, 씨제이이앤엠(주), 씨제이이앤엠(주), 씨제이엔터테인먼트]</td>\n",
       "      <td>[BIGSTONEPICTURES, CJ ENM Corp., CJ ENM Corp.,...</td>\n",
       "      <td>[제작사, 배급사, 제공, 해외세일즈사]</td>\n",
       "      <td>[15세이상관람가]</td>\n",
       "    </tr>\n",
       "  </tbody>\n",
       "</table>\n",
       "</div>"
      ],
      "text/plain": [
       "    movieCd movie_Nm showTm nations  genre  \\\n",
       "0  20129370       명량    128      한국  사극,액션   \n",
       "\n",
       "                                              actors  \\\n",
       "0  [최민식, 류승룡, 조진웅, 김명곤, 진구, 이정현, 권율, 노민우, 김태훈, 이승...   \n",
       "\n",
       "                                           actors_en  \\\n",
       "0  [CHOI Min-shik, RYU Seung-ryong, CHO Jin-woong...   \n",
       "\n",
       "                                                cast  \\\n",
       "0  [이순신 , 구루지마 , 와키자카 , 도도, 임준영 , 정씨 여인 , 이회, 하루,...   \n",
       "\n",
       "                                             cast_en  \\\n",
       "0  [, , , , , , , , , , , , , , , , , , , , , , ,...   \n",
       "\n",
       "                                  companyCd  \\\n",
       "0  [20123063, 20110854, 20110854, 20100109]   \n",
       "\n",
       "                                      companyNm  \\\n",
       "0  [(주)빅스톤픽쳐스, 씨제이이앤엠(주), 씨제이이앤엠(주), 씨제이엔터테인먼트]   \n",
       "\n",
       "                                         companyNmEn           companyPartNm  \\\n",
       "0  [BIGSTONEPICTURES, CJ ENM Corp., CJ ENM Corp.,...  [제작사, 배급사, 제공, 해외세일즈사]   \n",
       "\n",
       "  watchGradeNm  \n",
       "0   [15세이상관람가]  "
      ]
     },
     "execution_count": 102,
     "metadata": {},
     "output_type": "execute_result"
    }
   ],
   "source": [
    "detail"
   ]
  },
  {
   "cell_type": "code",
   "execution_count": null,
   "metadata": {},
   "outputs": [],
   "source": []
  },
  {
   "cell_type": "code",
   "execution_count": null,
   "metadata": {},
   "outputs": [],
   "source": []
  },
  {
   "cell_type": "code",
   "execution_count": null,
   "metadata": {},
   "outputs": [],
   "source": [
    "temp2 = []\n",
    "for i in range(2, len(infos)):\n",
    "    tmp2 = []\n",
    "    for j in range(len(infos[i])):\n",
    "        tmp3 = []\n",
    "        for k in range(len(infos[i][0])):\n",
    "            if list(infos[i][j].values())[k] == \"\":\n",
    "                continue\n",
    "            tmp3.append(list(infos[i][j].values())[k])\n",
    "        tmp2.append(tmp3)\n",
    "    temp2.append(tmp2)\n",
    "temp2"
   ]
  },
  {
   "cell_type": "code",
   "execution_count": 228,
   "metadata": {},
   "outputs": [
    {
     "data": {
      "text/html": [
       "<div>\n",
       "<style scoped>\n",
       "    .dataframe tbody tr th:only-of-type {\n",
       "        vertical-align: middle;\n",
       "    }\n",
       "\n",
       "    .dataframe tbody tr th {\n",
       "        vertical-align: top;\n",
       "    }\n",
       "\n",
       "    .dataframe thead th {\n",
       "        text-align: right;\n",
       "    }\n",
       "</style>\n",
       "<table border=\"1\" class=\"dataframe\">\n",
       "  <thead>\n",
       "    <tr style=\"text-align: right;\">\n",
       "      <th></th>\n",
       "      <th>0</th>\n",
       "      <th>1</th>\n",
       "      <th>2</th>\n",
       "      <th>3</th>\n",
       "      <th>4</th>\n",
       "      <th>5</th>\n",
       "    </tr>\n",
       "  </thead>\n",
       "  <tbody>\n",
       "    <tr>\n",
       "      <th>0</th>\n",
       "      <td>[미국]</td>\n",
       "      <td>[SF]</td>\n",
       "      <td>[샘 워싱턴, Sam Worthington]</td>\n",
       "      <td>[필름, 필름]</td>\n",
       "      <td>[20101507, 이십세기폭스필름코퍼레이션, 20th Century Fox Fil...</td>\n",
       "      <td>[2009-F430, 12세이상관람가]</td>\n",
       "    </tr>\n",
       "    <tr>\n",
       "      <th>1</th>\n",
       "      <td>None</td>\n",
       "      <td>[액션]</td>\n",
       "      <td>[조 샐다나, Zoe Saldana]</td>\n",
       "      <td>[2D, 디지털]</td>\n",
       "      <td>[20175001, 주식회사 해리슨앤컴퍼니, Harrison &amp; Company, 배급사]</td>\n",
       "      <td>[2018-MF00904, 12세이상관람가]</td>\n",
       "    </tr>\n",
       "    <tr>\n",
       "      <th>2</th>\n",
       "      <td>None</td>\n",
       "      <td>[어드벤처]</td>\n",
       "      <td>[시고니 위버, Sigourney Weaver]</td>\n",
       "      <td>[3D, 3D 디지털]</td>\n",
       "      <td>[20100041, 이십세기폭스코리아(주), 20th Century Fox Kore...</td>\n",
       "      <td>None</td>\n",
       "    </tr>\n",
       "    <tr>\n",
       "      <th>3</th>\n",
       "      <td>None</td>\n",
       "      <td>None</td>\n",
       "      <td>None</td>\n",
       "      <td>[4D, 4D]</td>\n",
       "      <td>[20175001, 주식회사 해리슨앤컴퍼니, Harrison &amp; Company, 수입사]</td>\n",
       "      <td>None</td>\n",
       "    </tr>\n",
       "    <tr>\n",
       "      <th>4</th>\n",
       "      <td>None</td>\n",
       "      <td>None</td>\n",
       "      <td>None</td>\n",
       "      <td>[IMAX, IMAX]</td>\n",
       "      <td>[20100041, 이십세기폭스코리아(주), 20th Century Fox Kore...</td>\n",
       "      <td>None</td>\n",
       "    </tr>\n",
       "  </tbody>\n",
       "</table>\n",
       "</div>"
      ],
      "text/plain": [
       "      0       1                           2             3  \\\n",
       "0  [미국]    [SF]    [샘 워싱턴, Sam Worthington]      [필름, 필름]   \n",
       "1  None    [액션]        [조 샐다나, Zoe Saldana]     [2D, 디지털]   \n",
       "2  None  [어드벤처]  [시고니 위버, Sigourney Weaver]  [3D, 3D 디지털]   \n",
       "3  None    None                        None      [4D, 4D]   \n",
       "4  None    None                        None  [IMAX, IMAX]   \n",
       "\n",
       "                                                   4                         5  \n",
       "0  [20101507, 이십세기폭스필름코퍼레이션, 20th Century Fox Fil...     [2009-F430, 12세이상관람가]  \n",
       "1  [20175001, 주식회사 해리슨앤컴퍼니, Harrison & Company, 배급사]  [2018-MF00904, 12세이상관람가]  \n",
       "2  [20100041, 이십세기폭스코리아(주), 20th Century Fox Kore...                      None  \n",
       "3  [20175001, 주식회사 해리슨앤컴퍼니, Harrison & Company, 수입사]                      None  \n",
       "4  [20100041, 이십세기폭스코리아(주), 20th Century Fox Kore...                      None  "
      ]
     },
     "execution_count": 228,
     "metadata": {},
     "output_type": "execute_result"
    }
   ],
   "source": [
    "pd.DataFrame(tmp1).T"
   ]
  },
  {
   "cell_type": "code",
   "execution_count": null,
   "metadata": {},
   "outputs": [],
   "source": []
  },
  {
   "cell_type": "code",
   "execution_count": null,
   "metadata": {},
   "outputs": [],
   "source": []
  }
 ],
 "metadata": {
  "kernelspec": {
   "display_name": "movie-inside",
   "language": "python",
   "name": "movie-inside"
  },
  "language_info": {
   "codemirror_mode": {
    "name": "ipython",
    "version": 3
   },
   "file_extension": ".py",
   "mimetype": "text/x-python",
   "name": "python",
   "nbconvert_exporter": "python",
   "pygments_lexer": "ipython3",
   "version": "3.6.9"
  }
 },
 "nbformat": 4,
 "nbformat_minor": 2
}
