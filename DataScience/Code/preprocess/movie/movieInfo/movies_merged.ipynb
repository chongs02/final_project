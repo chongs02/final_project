{
 "cells": [
  {
   "cell_type": "code",
   "execution_count": 1,
   "metadata": {},
   "outputs": [],
   "source": [
    "import pandas as pd\n",
    "import os\n",
    "import numpy as np"
   ]
  },
  {
   "cell_type": "code",
   "execution_count": 2,
   "metadata": {},
   "outputs": [],
   "source": [
    "save_path = os.getcwd()"
   ]
  },
  {
   "cell_type": "code",
   "execution_count": 3,
   "metadata": {},
   "outputs": [],
   "source": [
    "mlist = pd.read_csv(os.path.join(save_path, \"movie_list.csv\"), encoding=\"euc-kr\")"
   ]
  },
  {
   "cell_type": "code",
   "execution_count": 4,
   "metadata": {},
   "outputs": [],
   "source": [
    "details = pd.read_csv(os.path.join(save_path, \"movie_hot_details.csv\"), encoding=\"euc-kr\")"
   ]
  },
  {
   "cell_type": "code",
   "execution_count": 5,
   "metadata": {},
   "outputs": [],
   "source": [
    "def movies_merged(mlist, details, lang=\"en\"):\n",
    "    \n",
    "    df = mlist.merge(details, on='movieCd')\n",
    "    \n",
    "    columns = ['movieCd', 'movieNm_x', 'movieNmEn', 'prdtYear', 'openDt', 'prdtStatNm', 'repGenreNm', \n",
    "               'genreAlt', 'repNationNm', 'nationAlt', 'typeNm', 'showTm', 'directors', 'actors', \n",
    "               'actors_en', 'cast', 'cast_en', 'companyCd_y', 'companyNm_y', 'companyNmEn', \n",
    "               'companyPartNm', 'watchGradeNm']\n",
    "    df = df[columns]\n",
    "    \n",
    "    if lang == \"kor\":\n",
    "        columns_kor = ['영화코드', '영화명', '영화명_영어', '제작연도', '개봉일', '제작상태', '대표장르',\n",
    "                       '장르전체', '대표제작국가', '제작국가', '단/장편', '상영시간', '감독명', '배우명', \n",
    "                       '배우명_영어', '역할명', '역할명_영어', '참여영화사코드',  '참여영화사명', \n",
    "                       '참여영화사명_영어', '참영영화사분야명', '관람등급']\n",
    "        \n",
    "        df.columns = columns_kor\n",
    "        \n",
    "    elif lang == \"en\":\n",
    "        columns_en = ['movieCd', 'movieNm', 'movieNmEn', 'prdtYear', 'openDt', 'prdtStatNm', 'repGenre', \n",
    "                      'genre', 'repNation', 'nations', 'typeNm', 'showTm', 'directors', 'actors', \n",
    "                      'actors_en', 'cast', 'cast_en', 'companyCd', 'companyNm', 'companyNmEn', \n",
    "                      'companyPartNm', 'watchGradeNm']\n",
    "        \n",
    "        df.columns = columns_en\n",
    "        \n",
    "    else:\n",
    "        print(\"Type is wrong!\")\n",
    "    \n",
    "    return df"
   ]
  },
  {
   "cell_type": "code",
   "execution_count": 6,
   "metadata": {},
   "outputs": [],
   "source": [
    "merged_en = movies_merged(mlist, details, lang=\"en\")"
   ]
  },
  {
   "cell_type": "code",
   "execution_count": 7,
   "metadata": {},
   "outputs": [],
   "source": [
    "merged_kor = movies_merged(mlist, details, lang=\"kor\")"
   ]
  },
  {
   "cell_type": "code",
   "execution_count": 8,
   "metadata": {},
   "outputs": [],
   "source": [
    "merged_en.to_csv(os.path.join(save_path, \"movies_merged_en.csv\"), index=None, encoding=\"euc-kr\")"
   ]
  },
  {
   "cell_type": "code",
   "execution_count": 9,
   "metadata": {},
   "outputs": [],
   "source": [
    "merged_kor.to_csv(os.path.join(save_path, \"movies_merged_kor.csv\"), index=None, encoding=\"euc-kr\")"
   ]
  },
  {
   "cell_type": "code",
   "execution_count": null,
   "metadata": {},
   "outputs": [],
   "source": []
  }
 ],
 "metadata": {
  "kernelspec": {
   "display_name": "mypython",
   "language": "python",
   "name": "myenv"
  },
  "language_info": {
   "codemirror_mode": {
    "name": "ipython",
    "version": 3
   },
   "file_extension": ".py",
   "mimetype": "text/x-python",
   "name": "python",
   "nbconvert_exporter": "python",
   "pygments_lexer": "ipython3",
   "version": "3.6.5"
  }
 },
 "nbformat": 4,
 "nbformat_minor": 2
}
