{
 "cells": [
  {
   "cell_type": "code",
   "execution_count": 29,
   "metadata": {},
   "outputs": [],
   "source": [
    "import requests\n",
    "import numpy as np\n",
    "import pandas as pd\n",
    "import matplotlib.pyplot as plt\n",
    "from bs4 import BeautifulSoup\n",
    "import os\n",
    "import json"
   ]
  },
  {
   "cell_type": "code",
   "execution_count": 32,
   "metadata": {},
   "outputs": [],
   "source": [
    "api_key = \"843263a42ef422fedcc5a1abcbbfbaa7\""
   ]
  },
  {
   "cell_type": "code",
   "execution_count": 33,
   "metadata": {},
   "outputs": [],
   "source": [
    "save_path = r\"D:\\workspace-Jwp\\Final_Data\""
   ]
  },
  {
   "cell_type": "code",
   "execution_count": 105,
   "metadata": {},
   "outputs": [],
   "source": [
    "def load_movies(year, end_page):\n",
    "    Year = year\n",
    "    PageN = range(1, end_page+1)\n",
    "    \n",
    "    movie_list = []\n",
    "    for page in PageN:\n",
    "        url = f\"http://www.kobis.or.kr/kobisopenapi/webservice/rest/movie/searchMovieList.json?key=430156241533f1d058c603178cc3ca0e&openStartDt={Year}&openEndDt={Year}&itemPerPage=100&curPage={page}\"\n",
    "        res = requests.get(url)\n",
    "        movie_list.extend(res.json()[\"movieListResult\"][\"movieList\"])\n",
    "    \n",
    "    df_movies = pd.DataFrame(movie_list)\n",
    "    directors = pd.DataFrame([*df_movies.directors])\n",
    "    \n",
    "    temp = []\n",
    "    for cols in directors:\n",
    "        ls = []\n",
    "        for i in directors[cols]:\n",
    "            try:\n",
    "                ls.append(i[\"peopleNm\"])\n",
    "            except:\n",
    "                ls.append(\" \")\n",
    "        temp.append(ls)\n",
    "\n",
    "    direc_values = list(zip(*temp))\n",
    "    direc_values = list(map(lambda x: \", \".join(x).replace(\",  \", \"\"), direc_values))\n",
    "    df_movies.directors = direc_values\n",
    "    \n",
    "    return df_movies"
   ]
  },
  {
   "cell_type": "code",
   "execution_count": 106,
   "metadata": {},
   "outputs": [],
   "source": [
    "df_movies = load_movies(2018, 19)"
   ]
  },
  {
   "cell_type": "code",
   "execution_count": 108,
   "metadata": {},
   "outputs": [
    {
     "data": {
      "text/html": [
       "<div>\n",
       "<style scoped>\n",
       "    .dataframe tbody tr th:only-of-type {\n",
       "        vertical-align: middle;\n",
       "    }\n",
       "\n",
       "    .dataframe tbody tr th {\n",
       "        vertical-align: top;\n",
       "    }\n",
       "\n",
       "    .dataframe thead th {\n",
       "        text-align: right;\n",
       "    }\n",
       "</style>\n",
       "<table border=\"1\" class=\"dataframe\">\n",
       "  <thead>\n",
       "    <tr style=\"text-align: right;\">\n",
       "      <th></th>\n",
       "      <th>movieCd</th>\n",
       "      <th>movieNm</th>\n",
       "      <th>movieNmEn</th>\n",
       "      <th>prdtYear</th>\n",
       "      <th>openDt</th>\n",
       "      <th>typeNm</th>\n",
       "      <th>prdtStatNm</th>\n",
       "      <th>nationAlt</th>\n",
       "      <th>genreAlt</th>\n",
       "      <th>repNationNm</th>\n",
       "      <th>repGenreNm</th>\n",
       "      <th>directors</th>\n",
       "      <th>companys</th>\n",
       "    </tr>\n",
       "  </thead>\n",
       "  <tbody>\n",
       "    <tr>\n",
       "      <th>0</th>\n",
       "      <td>20174442</td>\n",
       "      <td>뷰티풀 데이즈</td>\n",
       "      <td>Beautiful Days</td>\n",
       "      <td>2018</td>\n",
       "      <td>20181121</td>\n",
       "      <td>장편</td>\n",
       "      <td>개봉</td>\n",
       "      <td>한국,프랑스</td>\n",
       "      <td>드라마</td>\n",
       "      <td>한국</td>\n",
       "      <td>드라마</td>\n",
       "      <td>윤재호</td>\n",
       "      <td>[{'companyCd': '20101149', 'companyNm': '(주)페퍼...</td>\n",
       "    </tr>\n",
       "    <tr>\n",
       "      <th>1</th>\n",
       "      <td>20184678</td>\n",
       "      <td>배반의 장미</td>\n",
       "      <td>Too Hot to Die</td>\n",
       "      <td>2018</td>\n",
       "      <td>20181018</td>\n",
       "      <td>장편</td>\n",
       "      <td>개봉</td>\n",
       "      <td>한국</td>\n",
       "      <td>코미디</td>\n",
       "      <td>한국</td>\n",
       "      <td>코미디</td>\n",
       "      <td>박진영</td>\n",
       "      <td>[{'companyCd': '20100947', 'companyNm': '(주)태원...</td>\n",
       "    </tr>\n",
       "    <tr>\n",
       "      <th>2</th>\n",
       "      <td>20168766</td>\n",
       "      <td>종이 비행기</td>\n",
       "      <td>Paper Planes</td>\n",
       "      <td>2016</td>\n",
       "      <td>20180131</td>\n",
       "      <td>장편</td>\n",
       "      <td>개봉</td>\n",
       "      <td>한국</td>\n",
       "      <td>드라마</td>\n",
       "      <td>한국</td>\n",
       "      <td>드라마</td>\n",
       "      <td>노홍식, 필동</td>\n",
       "      <td>[{'companyCd': '20112272', 'companyNm': '(주)파란...</td>\n",
       "    </tr>\n",
       "    <tr>\n",
       "      <th>3</th>\n",
       "      <td>20182466</td>\n",
       "      <td>퀴어영화 뷰티풀</td>\n",
       "      <td>QUEER MOVIE Beautiful</td>\n",
       "      <td>2018</td>\n",
       "      <td>20181006</td>\n",
       "      <td>장편</td>\n",
       "      <td>개봉</td>\n",
       "      <td>한국</td>\n",
       "      <td>멜로/로맨스,코미디</td>\n",
       "      <td>한국</td>\n",
       "      <td>멜로/로맨스</td>\n",
       "      <td>백인규</td>\n",
       "      <td>[{'companyCd': '20140513', 'companyNm': '99fil...</td>\n",
       "    </tr>\n",
       "    <tr>\n",
       "      <th>4</th>\n",
       "      <td>20177981</td>\n",
       "      <td>밤치기</td>\n",
       "      <td>Hit the Night</td>\n",
       "      <td>2017</td>\n",
       "      <td>20181101</td>\n",
       "      <td>장편</td>\n",
       "      <td>개봉</td>\n",
       "      <td>한국</td>\n",
       "      <td>멜로/로맨스</td>\n",
       "      <td>한국</td>\n",
       "      <td>멜로/로맨스</td>\n",
       "      <td>정가영</td>\n",
       "      <td>[{'companyCd': '20175761', 'companyNm': '(주)레진...</td>\n",
       "    </tr>\n",
       "  </tbody>\n",
       "</table>\n",
       "</div>"
      ],
      "text/plain": [
       "    movieCd   movieNm              movieNmEn prdtYear    openDt typeNm  \\\n",
       "0  20174442   뷰티풀 데이즈         Beautiful Days     2018  20181121     장편   \n",
       "1  20184678    배반의 장미         Too Hot to Die     2018  20181018     장편   \n",
       "2  20168766    종이 비행기           Paper Planes     2016  20180131     장편   \n",
       "3  20182466  퀴어영화 뷰티풀  QUEER MOVIE Beautiful     2018  20181006     장편   \n",
       "4  20177981       밤치기          Hit the Night     2017  20181101     장편   \n",
       "\n",
       "  prdtStatNm nationAlt    genreAlt repNationNm repGenreNm directors  \\\n",
       "0         개봉    한국,프랑스         드라마          한국        드라마       윤재호   \n",
       "1         개봉        한국         코미디          한국        코미디       박진영   \n",
       "2         개봉        한국         드라마          한국        드라마   노홍식, 필동   \n",
       "3         개봉        한국  멜로/로맨스,코미디          한국     멜로/로맨스       백인규   \n",
       "4         개봉        한국      멜로/로맨스          한국     멜로/로맨스       정가영   \n",
       "\n",
       "                                            companys  \n",
       "0  [{'companyCd': '20101149', 'companyNm': '(주)페퍼...  \n",
       "1  [{'companyCd': '20100947', 'companyNm': '(주)태원...  \n",
       "2  [{'companyCd': '20112272', 'companyNm': '(주)파란...  \n",
       "3  [{'companyCd': '20140513', 'companyNm': '99fil...  \n",
       "4  [{'companyCd': '20175761', 'companyNm': '(주)레진...  "
      ]
     },
     "execution_count": 108,
     "metadata": {},
     "output_type": "execute_result"
    }
   ],
   "source": [
    "df_movies.head()"
   ]
  },
  {
   "cell_type": "code",
   "execution_count": null,
   "metadata": {},
   "outputs": [],
   "source": []
  },
  {
   "cell_type": "code",
   "execution_count": null,
   "metadata": {},
   "outputs": [],
   "source": []
  },
  {
   "cell_type": "code",
   "execution_count": 8,
   "metadata": {},
   "outputs": [
    {
     "data": {
      "text/plain": [
       "0       [{'companyCd': '20100947', 'companyNm': '(주)태원...\n",
       "1       [{'companyCd': '20101149', 'companyNm': '(주)페퍼...\n",
       "2       [{'companyCd': '20112272', 'companyNm': '(주)파란...\n",
       "3       [{'companyCd': '20140513', 'companyNm': '99fil...\n",
       "4       [{'companyCd': '20175761', 'companyNm': '(주)레진...\n",
       "                              ...                        \n",
       "1867    [{'companyCd': '20040209', 'companyNm': '영화사 온...\n",
       "1868                                                   []\n",
       "1869                                                   []\n",
       "1870                                                   []\n",
       "1871                                                   []\n",
       "Name: companys, Length: 1872, dtype: object"
      ]
     },
     "execution_count": 8,
     "metadata": {},
     "output_type": "execute_result"
    }
   ],
   "source": [
    "df_movies.companys"
   ]
  },
  {
   "cell_type": "code",
   "execution_count": 9,
   "metadata": {},
   "outputs": [],
   "source": [
    "companys = pd.DataFrame([*df_movies.companys])"
   ]
  },
  {
   "cell_type": "code",
   "execution_count": 109,
   "metadata": {
    "scrolled": true
   },
   "outputs": [
    {
     "data": {
      "text/html": [
       "<div>\n",
       "<style scoped>\n",
       "    .dataframe tbody tr th:only-of-type {\n",
       "        vertical-align: middle;\n",
       "    }\n",
       "\n",
       "    .dataframe tbody tr th {\n",
       "        vertical-align: top;\n",
       "    }\n",
       "\n",
       "    .dataframe thead th {\n",
       "        text-align: right;\n",
       "    }\n",
       "</style>\n",
       "<table border=\"1\" class=\"dataframe\">\n",
       "  <thead>\n",
       "    <tr style=\"text-align: right;\">\n",
       "      <th></th>\n",
       "      <th>0</th>\n",
       "      <th>1</th>\n",
       "      <th>2</th>\n",
       "    </tr>\n",
       "  </thead>\n",
       "  <tbody>\n",
       "    <tr>\n",
       "      <th>0</th>\n",
       "      <td>{'companyCd': '20100947', 'companyNm': '(주)태원엔...</td>\n",
       "      <td>None</td>\n",
       "      <td>None</td>\n",
       "    </tr>\n",
       "    <tr>\n",
       "      <th>1</th>\n",
       "      <td>{'companyCd': '20101149', 'companyNm': '(주)페퍼민...</td>\n",
       "      <td>None</td>\n",
       "      <td>None</td>\n",
       "    </tr>\n",
       "    <tr>\n",
       "      <th>2</th>\n",
       "      <td>{'companyCd': '20112272', 'companyNm': '(주)파란프...</td>\n",
       "      <td>None</td>\n",
       "      <td>None</td>\n",
       "    </tr>\n",
       "    <tr>\n",
       "      <th>3</th>\n",
       "      <td>{'companyCd': '20140513', 'companyNm': '99film'}</td>\n",
       "      <td>None</td>\n",
       "      <td>None</td>\n",
       "    </tr>\n",
       "    <tr>\n",
       "      <th>4</th>\n",
       "      <td>{'companyCd': '20175761', 'companyNm': '(주)레진엔...</td>\n",
       "      <td>None</td>\n",
       "      <td>None</td>\n",
       "    </tr>\n",
       "  </tbody>\n",
       "</table>\n",
       "</div>"
      ],
      "text/plain": [
       "                                                   0     1     2\n",
       "0  {'companyCd': '20100947', 'companyNm': '(주)태원엔...  None  None\n",
       "1  {'companyCd': '20101149', 'companyNm': '(주)페퍼민...  None  None\n",
       "2  {'companyCd': '20112272', 'companyNm': '(주)파란프...  None  None\n",
       "3   {'companyCd': '20140513', 'companyNm': '99film'}  None  None\n",
       "4  {'companyCd': '20175761', 'companyNm': '(주)레진엔...  None  None"
      ]
     },
     "execution_count": 109,
     "metadata": {},
     "output_type": "execute_result"
    }
   ],
   "source": [
    "companys.head()"
   ]
  },
  {
   "cell_type": "code",
   "execution_count": 12,
   "metadata": {},
   "outputs": [
    {
     "data": {
      "text/html": [
       "<div>\n",
       "<style scoped>\n",
       "    .dataframe tbody tr th:only-of-type {\n",
       "        vertical-align: middle;\n",
       "    }\n",
       "\n",
       "    .dataframe tbody tr th {\n",
       "        vertical-align: top;\n",
       "    }\n",
       "\n",
       "    .dataframe thead th {\n",
       "        text-align: right;\n",
       "    }\n",
       "</style>\n",
       "<table border=\"1\" class=\"dataframe\">\n",
       "  <thead>\n",
       "    <tr style=\"text-align: right;\">\n",
       "      <th></th>\n",
       "      <th>0</th>\n",
       "      <th>1</th>\n",
       "      <th>2</th>\n",
       "    </tr>\n",
       "  </thead>\n",
       "  <tbody>\n",
       "    <tr>\n",
       "      <th>172</th>\n",
       "      <td>{'companyCd': '20100278', 'companyNm': '(주)제이케...</td>\n",
       "      <td>{'companyCd': '20188461', 'companyNm': '그리고픽처스'}</td>\n",
       "      <td>{'companyCd': '20110854', 'companyNm': '씨제이이앤엠...</td>\n",
       "    </tr>\n",
       "    <tr>\n",
       "      <th>197</th>\n",
       "      <td>{'companyCd': '20139999', 'companyNm': '(주)무비락'}</td>\n",
       "      <td>{'companyCd': '20140755', 'companyNm': '(주)도서관...</td>\n",
       "      <td>{'companyCd': '20173761', 'companyNm': '(주)푸른나...</td>\n",
       "    </tr>\n",
       "    <tr>\n",
       "      <th>198</th>\n",
       "      <td>{'companyCd': '20100123', 'companyNm': '(주)싸이더스'}</td>\n",
       "      <td>{'companyCd': '20124237', 'companyNm': '(주)엠씨엠씨'}</td>\n",
       "      <td>{'companyCd': '20062469', 'companyNm': '(주)더블앤...</td>\n",
       "    </tr>\n",
       "    <tr>\n",
       "      <th>654</th>\n",
       "      <td>{'companyCd': '20141515', 'companyNm': '(주)영화사...</td>\n",
       "      <td>{'companyCd': '20161781', 'companyNm': '(주)스튜디...</td>\n",
       "      <td>{'companyCd': '20140888', 'companyNm': '모티브픽쳐스...</td>\n",
       "    </tr>\n",
       "    <tr>\n",
       "      <th>1261</th>\n",
       "      <td>{'companyCd': '20157148', 'companyNm': '(주)케이프...</td>\n",
       "      <td>{'companyCd': '20101396', 'companyNm': '버티고필름'}</td>\n",
       "      <td>{'companyCd': '20123175', 'companyNm': '플로우식스(...</td>\n",
       "    </tr>\n",
       "    <tr>\n",
       "      <th>1428</th>\n",
       "      <td>{'companyCd': '20139800', 'companyNm': '영화사 이지'}</td>\n",
       "      <td>{'companyCd': '20186741', 'companyNm': '한국영상대학교'}</td>\n",
       "      <td>{'companyCd': '20173382', 'companyNm': '(주)컴퍼니...</td>\n",
       "    </tr>\n",
       "  </tbody>\n",
       "</table>\n",
       "</div>"
      ],
      "text/plain": [
       "                                                      0  \\\n",
       "172   {'companyCd': '20100278', 'companyNm': '(주)제이케...   \n",
       "197    {'companyCd': '20139999', 'companyNm': '(주)무비락'}   \n",
       "198   {'companyCd': '20100123', 'companyNm': '(주)싸이더스'}   \n",
       "654   {'companyCd': '20141515', 'companyNm': '(주)영화사...   \n",
       "1261  {'companyCd': '20157148', 'companyNm': '(주)케이프...   \n",
       "1428   {'companyCd': '20139800', 'companyNm': '영화사 이지'}   \n",
       "\n",
       "                                                      1  \\\n",
       "172    {'companyCd': '20188461', 'companyNm': '그리고픽처스'}   \n",
       "197   {'companyCd': '20140755', 'companyNm': '(주)도서관...   \n",
       "198   {'companyCd': '20124237', 'companyNm': '(주)엠씨엠씨'}   \n",
       "654   {'companyCd': '20161781', 'companyNm': '(주)스튜디...   \n",
       "1261    {'companyCd': '20101396', 'companyNm': '버티고필름'}   \n",
       "1428  {'companyCd': '20186741', 'companyNm': '한국영상대학교'}   \n",
       "\n",
       "                                                      2  \n",
       "172   {'companyCd': '20110854', 'companyNm': '씨제이이앤엠...  \n",
       "197   {'companyCd': '20173761', 'companyNm': '(주)푸른나...  \n",
       "198   {'companyCd': '20062469', 'companyNm': '(주)더블앤...  \n",
       "654   {'companyCd': '20140888', 'companyNm': '모티브픽쳐스...  \n",
       "1261  {'companyCd': '20123175', 'companyNm': '플로우식스(...  \n",
       "1428  {'companyCd': '20173382', 'companyNm': '(주)컴퍼니...  "
      ]
     },
     "execution_count": 12,
     "metadata": {},
     "output_type": "execute_result"
    }
   ],
   "source": [
    "companys[companys[2].isnull() == False]"
   ]
  },
  {
   "cell_type": "code",
   "execution_count": null,
   "metadata": {},
   "outputs": [],
   "source": []
  },
  {
   "cell_type": "code",
   "execution_count": 13,
   "metadata": {},
   "outputs": [],
   "source": [
    "com_code = []\n",
    "com_name = []\n",
    "for cols in companys:\n",
    "    ls1 = []\n",
    "    ls2 = []\n",
    "    for i in companys[cols]:\n",
    "        try:\n",
    "            ls1.append(i[\"companyCd\"])\n",
    "            ls2.append(i[\"companyNm\"])\n",
    "        except:\n",
    "            ls1.append(\" \")\n",
    "            ls2.append(\" \")\n",
    "    com_code.append(ls1)\n",
    "    com_name.append(ls2)"
   ]
  },
  {
   "cell_type": "code",
   "execution_count": 14,
   "metadata": {},
   "outputs": [],
   "source": [
    "code = list(zip(*com_code))\n",
    "name = list(zip(*com_name))"
   ]
  },
  {
   "cell_type": "code",
   "execution_count": 15,
   "metadata": {},
   "outputs": [
    {
     "data": {
      "text/plain": [
       "[('20100947', ' ', ' ', '(주)태원엔터테인먼트', ' ', ' '),\n",
       " ('20101149', ' ', ' ', '(주)페퍼민트앤컴퍼니', ' ', ' '),\n",
       " ('20112272', ' ', ' ', '(주)파란프로덕션', ' ', ' '),\n",
       " ('20140513', ' ', ' ', '99film', ' ', ' '),\n",
       " ('20175761', ' ', ' ', '(주)레진엔터테인먼트', ' ', ' ')]"
      ]
     },
     "execution_count": 15,
     "metadata": {},
     "output_type": "execute_result"
    }
   ],
   "source": [
    "list(zip(*com_code, *com_name))[:5]"
   ]
  },
  {
   "cell_type": "code",
   "execution_count": 16,
   "metadata": {},
   "outputs": [
    {
     "data": {
      "text/plain": [
       "[('(주)태원엔터테인먼트', ' ', ' '),\n",
       " ('(주)페퍼민트앤컴퍼니', ' ', ' '),\n",
       " ('(주)파란프로덕션', ' ', ' '),\n",
       " ('99film', ' ', ' '),\n",
       " ('(주)레진엔터테인먼트', ' ', ' ')]"
      ]
     },
     "execution_count": 16,
     "metadata": {},
     "output_type": "execute_result"
    }
   ],
   "source": [
    "name[:5]"
   ]
  },
  {
   "cell_type": "code",
   "execution_count": 17,
   "metadata": {},
   "outputs": [],
   "source": [
    "df_movies[\"companyCd\"] = code\n",
    "df_movies[\"companyNm\"] = name"
   ]
  },
  {
   "cell_type": "code",
   "execution_count": 18,
   "metadata": {},
   "outputs": [
    {
     "data": {
      "text/plain": [
       "[(('20100947', ' ', ' '), ('(주)태원엔터테인먼트', ' ', ' ')),\n",
       " (('20101149', ' ', ' '), ('(주)페퍼민트앤컴퍼니', ' ', ' ')),\n",
       " (('20112272', ' ', ' '), ('(주)파란프로덕션', ' ', ' ')),\n",
       " (('20140513', ' ', ' '), ('99film', ' ', ' ')),\n",
       " (('20175761', ' ', ' '), ('(주)레진엔터테인먼트', ' ', ' '))]"
      ]
     },
     "execution_count": 18,
     "metadata": {},
     "output_type": "execute_result"
    }
   ],
   "source": [
    "list(zip(code, name))[:5]"
   ]
  },
  {
   "cell_type": "code",
   "execution_count": 25,
   "metadata": {},
   "outputs": [],
   "source": [
    "df_movies = df_movies.drop(\"companys\", axis=1)"
   ]
  },
  {
   "cell_type": "code",
   "execution_count": null,
   "metadata": {},
   "outputs": [],
   "source": []
  },
  {
   "cell_type": "code",
   "execution_count": 28,
   "metadata": {},
   "outputs": [],
   "source": [
    "df_movies.to_csv(os.path.join(save_path, \"movies_2018_3.csv\"), encoding=\"utf-8\", index=None)"
   ]
  },
  {
   "cell_type": "code",
   "execution_count": null,
   "metadata": {},
   "outputs": [],
   "source": [
    "df_movies.to_csv(os.path.join(save_path, \"movies_2018_3_euc.csv\"), encoding=\"euc-kr\", index=None)"
   ]
  },
  {
   "cell_type": "code",
   "execution_count": null,
   "metadata": {},
   "outputs": [],
   "source": []
  }
 ],
 "metadata": {
  "kernelspec": {
   "display_name": "Python 3",
   "language": "python",
   "name": "python3"
  },
  "language_info": {
   "codemirror_mode": {
    "name": "ipython",
    "version": 3
   },
   "file_extension": ".py",
   "mimetype": "text/x-python",
   "name": "python",
   "nbconvert_exporter": "python",
   "pygments_lexer": "ipython3",
   "version": "3.7.3"
  }
 },
 "nbformat": 4,
 "nbformat_minor": 2
}
