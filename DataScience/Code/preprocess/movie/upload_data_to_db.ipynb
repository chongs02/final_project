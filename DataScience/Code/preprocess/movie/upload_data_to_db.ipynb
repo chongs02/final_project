{
 "cells": [
  {
   "cell_type": "code",
   "execution_count": 1,
   "metadata": {},
   "outputs": [],
   "source": [
    "import pandas as pd\n",
    "import sqlite3\n",
    "import os"
   ]
  },
  {
   "cell_type": "code",
   "execution_count": 3,
   "metadata": {},
   "outputs": [],
   "source": [
    "data_path = r\"C:\\Users\\Jwp\\Desktop\\workspace\\Final_project\\DataScience\\Final_Data\\movie\\moviePoster\"\n",
    "db_path = r\"C:\\Users\\Jwp\\Desktop\\workspace\\Final_project\\MI-App\""
   ]
  },
  {
   "cell_type": "code",
   "execution_count": 3,
   "metadata": {},
   "outputs": [],
   "source": [
    "movies = pd.read_csv(os.path.join(data_path, \"movie_info_all.csv\"), encoding=\"utf-8\")"
   ]
  },
  {
   "cell_type": "code",
   "execution_count": 37,
   "metadata": {
    "scrolled": true
   },
   "outputs": [
    {
     "data": {
      "text/plain": [
       "9184"
      ]
     },
     "execution_count": 37,
     "metadata": {},
     "output_type": "execute_result"
    }
   ],
   "source": [
    "len(movies)"
   ]
  },
  {
   "cell_type": "code",
   "execution_count": 38,
   "metadata": {},
   "outputs": [
    {
     "data": {
      "text/html": [
       "<div>\n",
       "<style scoped>\n",
       "    .dataframe tbody tr th:only-of-type {\n",
       "        vertical-align: middle;\n",
       "    }\n",
       "\n",
       "    .dataframe tbody tr th {\n",
       "        vertical-align: top;\n",
       "    }\n",
       "\n",
       "    .dataframe thead th {\n",
       "        text-align: right;\n",
       "    }\n",
       "</style>\n",
       "<table border=\"1\" class=\"dataframe\">\n",
       "  <thead>\n",
       "    <tr style=\"text-align: right;\">\n",
       "      <th></th>\n",
       "      <th>movieCd</th>\n",
       "      <th>movieNm</th>\n",
       "      <th>movieNmEn</th>\n",
       "      <th>prdtYear</th>\n",
       "      <th>openDt</th>\n",
       "      <th>prdtStatNm</th>\n",
       "      <th>repGenre</th>\n",
       "      <th>genre</th>\n",
       "      <th>repNation</th>\n",
       "      <th>nations</th>\n",
       "      <th>...</th>\n",
       "      <th>actors_en</th>\n",
       "      <th>cast</th>\n",
       "      <th>cast_en</th>\n",
       "      <th>companyCd</th>\n",
       "      <th>companyNm</th>\n",
       "      <th>companyNmEn</th>\n",
       "      <th>companyPartNm</th>\n",
       "      <th>watchGradeNm</th>\n",
       "      <th>poster</th>\n",
       "      <th>userRating</th>\n",
       "    </tr>\n",
       "  </thead>\n",
       "  <tbody>\n",
       "    <tr>\n",
       "      <th>9182</th>\n",
       "      <td>19860081</td>\n",
       "      <td>J에게</td>\n",
       "      <td>To J</td>\n",
       "      <td>1985</td>\n",
       "      <td>19851213</td>\n",
       "      <td>개봉</td>\n",
       "      <td>드라마</td>\n",
       "      <td>드라마,멜로/로맨스</td>\n",
       "      <td>한국</td>\n",
       "      <td>한국</td>\n",
       "      <td>...</td>\n",
       "      <td>['KIM Bul-rai', 'NAMKOONG Won', 'JUNG Jin', ''...</td>\n",
       "      <td>['', '', '', '', '다흰']</td>\n",
       "      <td>['', '', '', '', '']</td>\n",
       "      <td>['20060167']</td>\n",
       "      <td>['남아진흥(주)']</td>\n",
       "      <td>['']</td>\n",
       "      <td>['제작사']</td>\n",
       "      <td>국민학생관람불가</td>\n",
       "      <td>https://ssl.pstatic.net/imgmovie/mdi/mit110/02...</td>\n",
       "      <td>0.0</td>\n",
       "    </tr>\n",
       "    <tr>\n",
       "      <th>9183</th>\n",
       "      <td>19910228</td>\n",
       "      <td>LA이야기</td>\n",
       "      <td>La Story</td>\n",
       "      <td>1991</td>\n",
       "      <td>19910608</td>\n",
       "      <td>개봉</td>\n",
       "      <td>코미디</td>\n",
       "      <td>코미디</td>\n",
       "      <td>미국</td>\n",
       "      <td>미국</td>\n",
       "      <td>...</td>\n",
       "      <td>['Steve Martin', 'Victoria Tennant']</td>\n",
       "      <td>['', '']</td>\n",
       "      <td>['', '']</td>\n",
       "      <td>['20100963']</td>\n",
       "      <td>['세경영화㈜']</td>\n",
       "      <td>['']</td>\n",
       "      <td>['수입사']</td>\n",
       "      <td>고등학생이상관람가</td>\n",
       "      <td>https://ssl.pstatic.net/imgmovie/mdi/mit110/01...</td>\n",
       "      <td>8.0</td>\n",
       "    </tr>\n",
       "  </tbody>\n",
       "</table>\n",
       "<p>2 rows × 24 columns</p>\n",
       "</div>"
      ],
      "text/plain": [
       "       movieCd movieNm movieNmEn  prdtYear    openDt prdtStatNm repGenre  \\\n",
       "9182  19860081     J에게      To J      1985  19851213         개봉      드라마   \n",
       "9183  19910228   LA이야기  La Story      1991  19910608         개봉      코미디   \n",
       "\n",
       "           genre repNation nations  ...  \\\n",
       "9182  드라마,멜로/로맨스        한국      한국  ...   \n",
       "9183         코미디        미국      미국  ...   \n",
       "\n",
       "                                              actors_en  \\\n",
       "9182  ['KIM Bul-rai', 'NAMKOONG Won', 'JUNG Jin', ''...   \n",
       "9183               ['Steve Martin', 'Victoria Tennant']   \n",
       "\n",
       "                        cast               cast_en     companyCd    companyNm  \\\n",
       "9182  ['', '', '', '', '다흰']  ['', '', '', '', '']  ['20060167']  ['남아진흥(주)']   \n",
       "9183                ['', '']              ['', '']  ['20100963']    ['세경영화㈜']   \n",
       "\n",
       "     companyNmEn companyPartNm watchGradeNm  \\\n",
       "9182        ['']       ['제작사']     국민학생관람불가   \n",
       "9183        ['']       ['수입사']    고등학생이상관람가   \n",
       "\n",
       "                                                 poster userRating  \n",
       "9182  https://ssl.pstatic.net/imgmovie/mdi/mit110/02...        0.0  \n",
       "9183  https://ssl.pstatic.net/imgmovie/mdi/mit110/01...        8.0  \n",
       "\n",
       "[2 rows x 24 columns]"
      ]
     },
     "execution_count": 38,
     "metadata": {},
     "output_type": "execute_result"
    }
   ],
   "source": [
    "movies.tail(2)"
   ]
  },
  {
   "cell_type": "code",
   "execution_count": 39,
   "metadata": {},
   "outputs": [
    {
     "data": {
      "text/plain": [
       "movieCd          0\n",
       "movieNm          0\n",
       "movieNmEn        0\n",
       "prdtYear         0\n",
       "openDt           0\n",
       "prdtStatNm       0\n",
       "repGenre         0\n",
       "genre            0\n",
       "repNation        0\n",
       "nations          0\n",
       "typeNm           0\n",
       "showTm           0\n",
       "directors        0\n",
       "actors           0\n",
       "actors_en        0\n",
       "cast             0\n",
       "cast_en          0\n",
       "companyCd        0\n",
       "companyNm        0\n",
       "companyNmEn      0\n",
       "companyPartNm    0\n",
       "watchGradeNm     0\n",
       "poster           0\n",
       "userRating       0\n",
       "dtype: int64"
      ]
     },
     "execution_count": 39,
     "metadata": {},
     "output_type": "execute_result"
    }
   ],
   "source": [
    "movies.isnull().sum()"
   ]
  },
  {
   "cell_type": "code",
   "execution_count": 40,
   "metadata": {},
   "outputs": [],
   "source": [
    "movies = movies.fillna(\"\")"
   ]
  },
  {
   "cell_type": "code",
   "execution_count": 41,
   "metadata": {},
   "outputs": [
    {
     "data": {
      "text/plain": [
       "movieCd          0\n",
       "movieNm          0\n",
       "movieNmEn        0\n",
       "prdtYear         0\n",
       "openDt           0\n",
       "prdtStatNm       0\n",
       "repGenre         0\n",
       "genre            0\n",
       "repNation        0\n",
       "nations          0\n",
       "typeNm           0\n",
       "showTm           0\n",
       "directors        0\n",
       "actors           0\n",
       "actors_en        0\n",
       "cast             0\n",
       "cast_en          0\n",
       "companyCd        0\n",
       "companyNm        0\n",
       "companyNmEn      0\n",
       "companyPartNm    0\n",
       "watchGradeNm     0\n",
       "poster           0\n",
       "userRating       0\n",
       "dtype: int64"
      ]
     },
     "execution_count": 41,
     "metadata": {},
     "output_type": "execute_result"
    }
   ],
   "source": [
    "movies.isnull().sum()"
   ]
  },
  {
   "cell_type": "code",
   "execution_count": 4,
   "metadata": {},
   "outputs": [],
   "source": [
    "con = sqlite3.connect(os.path.join(db_path, \"db.sqlite3\"))"
   ]
  },
  {
   "cell_type": "code",
   "execution_count": 20,
   "metadata": {},
   "outputs": [
    {
     "name": "stdout",
     "output_type": "stream",
     "text": [
      "Index(['movieCd', 'movieNm', 'movieNmEn', 'prdtYear', 'openDt', 'prdtStatNm',\n",
      "       'repGenre', 'genre', 'repNation', 'nations', 'typeNm', 'showTm',\n",
      "       'directors', 'actors', 'actors_en', 'cast', 'cast_en', 'companyCd',\n",
      "       'companyNm', 'companyNmEn', 'companyPartNm', 'watchGradeNm', 'poster',\n",
      "       'userRating'],\n",
      "      dtype='object')\n",
      "RangeIndex(start=0, stop=9184, step=1)\n"
     ]
    }
   ],
   "source": [
    "print(movies.columns)\n",
    "print(movies.index)"
   ]
  },
  {
   "cell_type": "code",
   "execution_count": 21,
   "metadata": {},
   "outputs": [
    {
     "data": {
      "text/plain": [
       "[('django_migrations',),\n",
       " ('sqlite_sequence',),\n",
       " ('auth_group_permissions',),\n",
       " ('auth_user_groups',),\n",
       " ('auth_user_user_permissions',),\n",
       " ('django_admin_log',),\n",
       " ('django_content_type',),\n",
       " ('auth_permission',),\n",
       " ('auth_user',),\n",
       " ('auth_group',),\n",
       " ('knox_authtoken',),\n",
       " ('django_session',),\n",
       " ('moviescore_moviescore',),\n",
       " ('users_profile',),\n",
       " ('movieInfo_movieinfo',)]"
      ]
     },
     "execution_count": 21,
     "metadata": {},
     "output_type": "execute_result"
    }
   ],
   "source": [
    "cur = con.cursor()\n",
    "cur.execute(\"SELECT name FROM sqlite_master WHERE type='table';\")\n",
    "cur.fetchall()"
   ]
  },
  {
   "cell_type": "code",
   "execution_count": 30,
   "metadata": {},
   "outputs": [
    {
     "data": {
      "text/plain": [
       "[]"
      ]
     },
     "execution_count": 30,
     "metadata": {},
     "output_type": "execute_result"
    }
   ],
   "source": [
    "cur = con.cursor()\n",
    "cur.execute(\"DELETE FROM movieInfo_movieinfo\")\n",
    "cur.fetchall()"
   ]
  },
  {
   "cell_type": "code",
   "execution_count": 34,
   "metadata": {},
   "outputs": [
    {
     "data": {
      "text/plain": [
       "[]"
      ]
     },
     "execution_count": 34,
     "metadata": {},
     "output_type": "execute_result"
    }
   ],
   "source": [
    "cur = con.cursor()\n",
    "cur.execute(\"DELETE FROM sqlite_sequence WHERE name = 'movieInfo_movieinfo';\")\n",
    "cur.fetchall()"
   ]
  },
  {
   "cell_type": "code",
   "execution_count": 35,
   "metadata": {},
   "outputs": [
    {
     "data": {
      "text/plain": [
       "[('django_migrations', 24),\n",
       " ('django_admin_log', 0),\n",
       " ('django_content_type', 10),\n",
       " ('auth_permission', 40),\n",
       " ('auth_user', 2),\n",
       " ('auth_group', 0)]"
      ]
     },
     "execution_count": 35,
     "metadata": {},
     "output_type": "execute_result"
    }
   ],
   "source": [
    "cur = con.cursor()\n",
    "cur.execute(\"SELECT * FROM sqlite_sequence\")\n",
    "cur.fetchall()"
   ]
  },
  {
   "cell_type": "code",
   "execution_count": 36,
   "metadata": {},
   "outputs": [
    {
     "data": {
      "text/plain": [
       "[]"
      ]
     },
     "execution_count": 36,
     "metadata": {},
     "output_type": "execute_result"
    }
   ],
   "source": [
    "cur = con.cursor()\n",
    "cur.execute(\"SELECT * From movieInfo_movieinfo\")\n",
    "cur.fetchall()"
   ]
  },
  {
   "cell_type": "code",
   "execution_count": 42,
   "metadata": {},
   "outputs": [],
   "source": [
    "movies.to_sql(\"movieInfo_movieinfo\", con, if_exists=\"append\", index=False)"
   ]
  },
  {
   "cell_type": "code",
   "execution_count": 43,
   "metadata": {},
   "outputs": [
    {
     "data": {
      "text/plain": [
       "[('django_migrations',),\n",
       " ('sqlite_sequence',),\n",
       " ('auth_group_permissions',),\n",
       " ('auth_user_groups',),\n",
       " ('auth_user_user_permissions',),\n",
       " ('django_admin_log',),\n",
       " ('django_content_type',),\n",
       " ('auth_permission',),\n",
       " ('auth_user',),\n",
       " ('auth_group',),\n",
       " ('knox_authtoken',),\n",
       " ('django_session',),\n",
       " ('moviescore_moviescore',),\n",
       " ('users_profile',),\n",
       " ('movieInfo_movieinfo',)]"
      ]
     },
     "execution_count": 43,
     "metadata": {},
     "output_type": "execute_result"
    }
   ],
   "source": [
    "cur = con.cursor()\n",
    "cur.execute(\"SELECT name FROM sqlite_master WHERE type='table';\")\n",
    "cur.fetchall()"
   ]
  },
  {
   "cell_type": "code",
   "execution_count": 44,
   "metadata": {},
   "outputs": [],
   "source": [
    "cur = con.cursor()\n",
    "cur.execute(\"SELECT * From movieinfo_movieinfo;\")\n",
    "db_movies = cur.fetchall()"
   ]
  },
  {
   "cell_type": "code",
   "execution_count": 45,
   "metadata": {},
   "outputs": [
    {
     "data": {
      "text/plain": [
       "9184"
      ]
     },
     "execution_count": 45,
     "metadata": {},
     "output_type": "execute_result"
    }
   ],
   "source": [
    "len(db_movies)"
   ]
  },
  {
   "cell_type": "code",
   "execution_count": 46,
   "metadata": {},
   "outputs": [
    {
     "data": {
      "text/plain": [
       "[(1,\n",
       "  '20196285',\n",
       "  '오만',\n",
       "  'Huris',\n",
       "  2019,\n",
       "  20190905,\n",
       "  '개봉',\n",
       "  '드라마',\n",
       "  '드라마',\n",
       "  '한국',\n",
       "  '한국',\n",
       "  '장편',\n",
       "  118,\n",
       "  '지일주',\n",
       "  \"['지일주', '박원상', '김기방']\",\n",
       "  \"['JI Il-joo', 'PARK Won-sang', 'KIM Ki-Bang']\",\n",
       "  \"['', '', '']\",\n",
       "  \"['', '', '']\",\n",
       "  \"['20156848', '20156848']\",\n",
       "  \"['(주)백그림', '(주)백그림']\",\n",
       "  \"['', '']\",\n",
       "  \"['제작사', '배급사']\",\n",
       "  '15세이상관람가',\n",
       "  'https://ssl.pstatic.net/imgmovie/mdi/mit110/1841/184140_P01_151409.jpg',\n",
       "  '0.0'),\n",
       " (2,\n",
       "  '20183407',\n",
       "  '버티고',\n",
       "  'Vertigo',\n",
       "  2019,\n",
       "  20191016,\n",
       "  '개봉',\n",
       "  '드라마',\n",
       "  '드라마,멜로/로맨스',\n",
       "  '한국',\n",
       "  '한국',\n",
       "  '장편',\n",
       "  114,\n",
       "  '전계수',\n",
       "  \"['천우희', '유태오', '정재광']\",\n",
       "  \"['CHUN Woo-hee', 'YOO Teo', 'JEONG Jae-gwang']\",\n",
       "  \"['서영', '', '관우']\",\n",
       "  \"['Seo-young', '', '']\",\n",
       "  \"['20100414', '20188741', '20188741', '20100851']\",\n",
       "  \"['영화사 도로시(주)', '(주)트리플픽쳐스', '(주)트리플픽쳐스', '(주)화인컷']\",\n",
       "  \"['Film Dorothy', 'Triple Pictures Inc.', 'Triple Pictures Inc.', 'Finecut Co., Ltd.']\",\n",
       "  \"['제작사', '배급사', '제공', '해외세일즈사']\",\n",
       "  '15세이상관람가',\n",
       "  'https://ssl.pstatic.net/imgmovie/mdi/mit110/1804/180402_P24_114315.jpg',\n",
       "  '6.99')]"
      ]
     },
     "execution_count": 46,
     "metadata": {},
     "output_type": "execute_result"
    }
   ],
   "source": [
    "db_movies[:2]"
   ]
  },
  {
   "cell_type": "code",
   "execution_count": 47,
   "metadata": {},
   "outputs": [],
   "source": [
    "con.commit()"
   ]
  },
  {
   "cell_type": "code",
   "execution_count": 48,
   "metadata": {},
   "outputs": [],
   "source": [
    "con.close()"
   ]
  },
  {
   "cell_type": "code",
   "execution_count": null,
   "metadata": {},
   "outputs": [],
   "source": []
  },
  {
   "cell_type": "code",
   "execution_count": null,
   "metadata": {},
   "outputs": [],
   "source": []
  },
  {
   "cell_type": "code",
   "execution_count": null,
   "metadata": {},
   "outputs": [],
   "source": []
  },
  {
   "cell_type": "code",
   "execution_count": null,
   "metadata": {},
   "outputs": [],
   "source": []
  },
  {
   "cell_type": "code",
   "execution_count": 5,
   "metadata": {},
   "outputs": [
    {
     "data": {
      "text/plain": [
       "[(16,\n",
       "  '20195002',\n",
       "  '블랙머니',\n",
       "  'BLACK MONEY',\n",
       "  2019,\n",
       "  20191113,\n",
       "  '개봉예정',\n",
       "  '범죄',\n",
       "  '범죄,드라마',\n",
       "  '한국',\n",
       "  '한국',\n",
       "  '장편',\n",
       "  113,\n",
       "  '정지영',\n",
       "  \"['조진웅', '이하늬', '이경영', '강신일', '최덕문', '조한철', '허성태', '강도연']\",\n",
       "  \"['CHO Jin-woong', 'LEE Ha-nee', 'LEE Gyoung-young', 'KANG Sin-Il', 'CHOI Duk-mun', 'CHO Han-cheul', 'HEO Sung-tae', 'KANG Do-yeon']\",\n",
       "  \"['양민혁', '김나리', '이광주', '장 수사관', '서권영', '김남규', '최프로', '']\",\n",
       "  \"['', '', '', '', '', '', '', '']\",\n",
       "  \"['20190561', '20062550', '20189281', '20189281']\",\n",
       "  \"['유한회사 질라라비', '(주)아우라픽처스', '(주)에이스메이커무비웍스', '(주)에이스메이커무비웍스']\",\n",
       "  \"['', 'AURA PICTURES co., Ltd.', 'ACEMAKER MOVIEWORKS', 'ACEMAKER MOVIEWORKS']\",\n",
       "  \"['제작사', '제작사', '배급사', '제공']\",\n",
       "  '12세이상관람가',\n",
       "  'https://ssl.pstatic.net/imgmovie/mdi/mit110/1890/189053_P33_144949.jpg',\n",
       "  '0.0')]"
      ]
     },
     "execution_count": 5,
     "metadata": {},
     "output_type": "execute_result"
    }
   ],
   "source": [
    "cur = con.cursor()\n",
    "cur.execute(\"SELECT * From movieinfo_movieinfo where movieNm = '블랙머니';\")\n",
    "cur.fetchall()"
   ]
  },
  {
   "cell_type": "code",
   "execution_count": 26,
   "metadata": {},
   "outputs": [],
   "source": [
    "# cur = con.cursor()\n",
    "# cur.execute(\"DROP TABLE movieInfo_movieinfo\")"
   ]
  },
  {
   "cell_type": "code",
   "execution_count": null,
   "metadata": {},
   "outputs": [],
   "source": []
  }
 ],
 "metadata": {
  "kernelspec": {
   "display_name": "movie-inside",
   "language": "python",
   "name": "movie-inside"
  },
  "language_info": {
   "codemirror_mode": {
    "name": "ipython",
    "version": 3
   },
   "file_extension": ".py",
   "mimetype": "text/x-python",
   "name": "python",
   "nbconvert_exporter": "python",
   "pygments_lexer": "ipython3",
   "version": "3.6.9"
  }
 },
 "nbformat": 4,
 "nbformat_minor": 2
}
